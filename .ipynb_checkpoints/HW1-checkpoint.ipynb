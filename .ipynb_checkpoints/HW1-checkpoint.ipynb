{
 "cells": [
  {
   "cell_type": "markdown",
   "metadata": {},
   "source": [
    "# 10 Minutes to pandas"
   ]
  },
  {
   "cell_type": "code",
   "execution_count": 1,
   "metadata": {
    "collapsed": true
   },
   "outputs": [],
   "source": [
    "import pandas as pd\n",
    "import numpy as np\n",
    "import matplotlib.pyplot as plt"
   ]
  },
  {
   "cell_type": "code",
   "execution_count": 2,
   "metadata": {
    "collapsed": true
   },
   "outputs": [],
   "source": [
    "%matplotlib inline"
   ]
  },
  {
   "cell_type": "markdown",
   "metadata": {},
   "source": [
    "## Object Creation"
   ]
  },
  {
   "cell_type": "code",
   "execution_count": 3,
   "metadata": {
    "collapsed": false
   },
   "outputs": [
    {
     "data": {
      "text/plain": [
       "0     1\n",
       "1     3\n",
       "2     5\n",
       "3   NaN\n",
       "4     6\n",
       "5     8\n",
       "dtype: float64"
      ]
     },
     "execution_count": 3,
     "metadata": {},
     "output_type": "execute_result"
    }
   ],
   "source": [
    "s = pd.Series([1,3,5,np.nan,6,8])\n",
    "s"
   ]
  },
  {
   "cell_type": "code",
   "execution_count": 4,
   "metadata": {
    "collapsed": false
   },
   "outputs": [
    {
     "data": {
      "text/plain": [
       "DatetimeIndex(['2015-01-01', '2015-01-02', '2015-01-03', '2015-01-04',\n",
       "               '2015-01-05', '2015-01-06'],\n",
       "              dtype='datetime64[ns]', freq='D', tz=None)"
      ]
     },
     "execution_count": 4,
     "metadata": {},
     "output_type": "execute_result"
    }
   ],
   "source": [
    "dates = pd.date_range('20150101', periods=6)\n",
    "dates"
   ]
  },
  {
   "cell_type": "code",
   "execution_count": 5,
   "metadata": {
    "collapsed": false
   },
   "outputs": [
    {
     "data": {
      "text/html": [
       "<div>\n",
       "<table border=\"1\" class=\"dataframe\">\n",
       "  <thead>\n",
       "    <tr style=\"text-align: right;\">\n",
       "      <th></th>\n",
       "      <th>A</th>\n",
       "      <th>B</th>\n",
       "      <th>C</th>\n",
       "      <th>D</th>\n",
       "    </tr>\n",
       "  </thead>\n",
       "  <tbody>\n",
       "    <tr>\n",
       "      <th>2015-01-01</th>\n",
       "      <td>-1.122900</td>\n",
       "      <td>-1.563512</td>\n",
       "      <td>-0.856226</td>\n",
       "      <td>-1.487888</td>\n",
       "    </tr>\n",
       "    <tr>\n",
       "      <th>2015-01-02</th>\n",
       "      <td>0.929722</td>\n",
       "      <td>-0.388930</td>\n",
       "      <td>1.256732</td>\n",
       "      <td>1.243055</td>\n",
       "    </tr>\n",
       "    <tr>\n",
       "      <th>2015-01-03</th>\n",
       "      <td>2.012352</td>\n",
       "      <td>-0.282003</td>\n",
       "      <td>-0.111573</td>\n",
       "      <td>-0.722783</td>\n",
       "    </tr>\n",
       "    <tr>\n",
       "      <th>2015-01-04</th>\n",
       "      <td>-0.041285</td>\n",
       "      <td>-1.623209</td>\n",
       "      <td>-0.095172</td>\n",
       "      <td>-0.821733</td>\n",
       "    </tr>\n",
       "    <tr>\n",
       "      <th>2015-01-05</th>\n",
       "      <td>-0.103082</td>\n",
       "      <td>0.401575</td>\n",
       "      <td>-0.563606</td>\n",
       "      <td>1.812566</td>\n",
       "    </tr>\n",
       "    <tr>\n",
       "      <th>2015-01-06</th>\n",
       "      <td>0.330107</td>\n",
       "      <td>-0.341416</td>\n",
       "      <td>-0.093554</td>\n",
       "      <td>0.234484</td>\n",
       "    </tr>\n",
       "  </tbody>\n",
       "</table>\n",
       "</div>"
      ],
      "text/plain": [
       "                   A         B         C         D\n",
       "2015-01-01 -1.122900 -1.563512 -0.856226 -1.487888\n",
       "2015-01-02  0.929722 -0.388930  1.256732  1.243055\n",
       "2015-01-03  2.012352 -0.282003 -0.111573 -0.722783\n",
       "2015-01-04 -0.041285 -1.623209 -0.095172 -0.821733\n",
       "2015-01-05 -0.103082  0.401575 -0.563606  1.812566\n",
       "2015-01-06  0.330107 -0.341416 -0.093554  0.234484"
      ]
     },
     "execution_count": 5,
     "metadata": {},
     "output_type": "execute_result"
    }
   ],
   "source": [
    "df = pd.DataFrame(np.random.randn(6,4), index=dates, columns=list('ABCD'))   #index는 dates값으로 columns은 'ABCD'로 명명함 \n",
    "df"
   ]
  },
  {
   "cell_type": "code",
   "execution_count": 6,
   "metadata": {
    "collapsed": false
   },
   "outputs": [
    {
     "data": {
      "text/html": [
       "<div>\n",
       "<table border=\"1\" class=\"dataframe\">\n",
       "  <thead>\n",
       "    <tr style=\"text-align: right;\">\n",
       "      <th></th>\n",
       "      <th>A</th>\n",
       "      <th>B</th>\n",
       "      <th>C</th>\n",
       "      <th>D</th>\n",
       "      <th>E</th>\n",
       "      <th>F</th>\n",
       "    </tr>\n",
       "  </thead>\n",
       "  <tbody>\n",
       "    <tr>\n",
       "      <th>0</th>\n",
       "      <td>1</td>\n",
       "      <td>2013-01-02</td>\n",
       "      <td>1</td>\n",
       "      <td>3</td>\n",
       "      <td>test</td>\n",
       "      <td>foo</td>\n",
       "    </tr>\n",
       "    <tr>\n",
       "      <th>1</th>\n",
       "      <td>1</td>\n",
       "      <td>2013-01-02</td>\n",
       "      <td>1</td>\n",
       "      <td>3</td>\n",
       "      <td>train</td>\n",
       "      <td>foo</td>\n",
       "    </tr>\n",
       "    <tr>\n",
       "      <th>2</th>\n",
       "      <td>1</td>\n",
       "      <td>2013-01-02</td>\n",
       "      <td>1</td>\n",
       "      <td>3</td>\n",
       "      <td>test</td>\n",
       "      <td>foo</td>\n",
       "    </tr>\n",
       "    <tr>\n",
       "      <th>3</th>\n",
       "      <td>1</td>\n",
       "      <td>2013-01-02</td>\n",
       "      <td>1</td>\n",
       "      <td>3</td>\n",
       "      <td>train</td>\n",
       "      <td>foo</td>\n",
       "    </tr>\n",
       "  </tbody>\n",
       "</table>\n",
       "</div>"
      ],
      "text/plain": [
       "   A          B  C  D      E    F\n",
       "0  1 2013-01-02  1  3   test  foo\n",
       "1  1 2013-01-02  1  3  train  foo\n",
       "2  1 2013-01-02  1  3   test  foo\n",
       "3  1 2013-01-02  1  3  train  foo"
      ]
     },
     "execution_count": 6,
     "metadata": {},
     "output_type": "execute_result"
    }
   ],
   "source": [
    "df2 = pd.DataFrame({'A' : 1.,\n",
    "                    'B' : pd.Timestamp('20130102'),\n",
    "                    'C' : pd.Series(1,index=list(range(4)),dtype='float32'),\n",
    "                    'D' : np.array([3] * 4,dtype='int32'),\n",
    "                    'E' : pd.Categorical([\"test\",\"train\",\"test\",\"train\"]),\n",
    "                    'F' : 'foo' })\n",
    "df2"
   ]
  },
  {
   "cell_type": "code",
   "execution_count": 7,
   "metadata": {
    "collapsed": false
   },
   "outputs": [
    {
     "data": {
      "text/plain": [
       "A           float64\n",
       "B    datetime64[ns]\n",
       "C           float32\n",
       "D             int32\n",
       "E          category\n",
       "F            object\n",
       "dtype: object"
      ]
     },
     "execution_count": 7,
     "metadata": {},
     "output_type": "execute_result"
    }
   ],
   "source": [
    "df2.dtypes"
   ]
  },
  {
   "cell_type": "code",
   "execution_count": 8,
   "metadata": {
    "collapsed": false
   },
   "outputs": [],
   "source": [
    "#df2.<TAB>"
   ]
  },
  {
   "cell_type": "markdown",
   "metadata": {},
   "source": [
    "## Viewing Data"
   ]
  },
  {
   "cell_type": "code",
   "execution_count": 9,
   "metadata": {
    "collapsed": false
   },
   "outputs": [
    {
     "data": {
      "text/html": [
       "<div>\n",
       "<table border=\"1\" class=\"dataframe\">\n",
       "  <thead>\n",
       "    <tr style=\"text-align: right;\">\n",
       "      <th></th>\n",
       "      <th>A</th>\n",
       "      <th>B</th>\n",
       "      <th>C</th>\n",
       "      <th>D</th>\n",
       "    </tr>\n",
       "  </thead>\n",
       "  <tbody>\n",
       "    <tr>\n",
       "      <th>2015-01-01</th>\n",
       "      <td>-1.122900</td>\n",
       "      <td>-1.563512</td>\n",
       "      <td>-0.856226</td>\n",
       "      <td>-1.487888</td>\n",
       "    </tr>\n",
       "    <tr>\n",
       "      <th>2015-01-02</th>\n",
       "      <td>0.929722</td>\n",
       "      <td>-0.388930</td>\n",
       "      <td>1.256732</td>\n",
       "      <td>1.243055</td>\n",
       "    </tr>\n",
       "    <tr>\n",
       "      <th>2015-01-03</th>\n",
       "      <td>2.012352</td>\n",
       "      <td>-0.282003</td>\n",
       "      <td>-0.111573</td>\n",
       "      <td>-0.722783</td>\n",
       "    </tr>\n",
       "    <tr>\n",
       "      <th>2015-01-04</th>\n",
       "      <td>-0.041285</td>\n",
       "      <td>-1.623209</td>\n",
       "      <td>-0.095172</td>\n",
       "      <td>-0.821733</td>\n",
       "    </tr>\n",
       "    <tr>\n",
       "      <th>2015-01-05</th>\n",
       "      <td>-0.103082</td>\n",
       "      <td>0.401575</td>\n",
       "      <td>-0.563606</td>\n",
       "      <td>1.812566</td>\n",
       "    </tr>\n",
       "  </tbody>\n",
       "</table>\n",
       "</div>"
      ],
      "text/plain": [
       "                   A         B         C         D\n",
       "2015-01-01 -1.122900 -1.563512 -0.856226 -1.487888\n",
       "2015-01-02  0.929722 -0.388930  1.256732  1.243055\n",
       "2015-01-03  2.012352 -0.282003 -0.111573 -0.722783\n",
       "2015-01-04 -0.041285 -1.623209 -0.095172 -0.821733\n",
       "2015-01-05 -0.103082  0.401575 -0.563606  1.812566"
      ]
     },
     "execution_count": 9,
     "metadata": {},
     "output_type": "execute_result"
    }
   ],
   "source": [
    "df.head()   #처음 5개를 출력"
   ]
  },
  {
   "cell_type": "code",
   "execution_count": 10,
   "metadata": {
    "collapsed": false
   },
   "outputs": [
    {
     "data": {
      "text/html": [
       "<div>\n",
       "<table border=\"1\" class=\"dataframe\">\n",
       "  <thead>\n",
       "    <tr style=\"text-align: right;\">\n",
       "      <th></th>\n",
       "      <th>A</th>\n",
       "      <th>B</th>\n",
       "      <th>C</th>\n",
       "      <th>D</th>\n",
       "    </tr>\n",
       "  </thead>\n",
       "  <tbody>\n",
       "    <tr>\n",
       "      <th>2015-01-04</th>\n",
       "      <td>-0.041285</td>\n",
       "      <td>-1.623209</td>\n",
       "      <td>-0.095172</td>\n",
       "      <td>-0.821733</td>\n",
       "    </tr>\n",
       "    <tr>\n",
       "      <th>2015-01-05</th>\n",
       "      <td>-0.103082</td>\n",
       "      <td>0.401575</td>\n",
       "      <td>-0.563606</td>\n",
       "      <td>1.812566</td>\n",
       "    </tr>\n",
       "    <tr>\n",
       "      <th>2015-01-06</th>\n",
       "      <td>0.330107</td>\n",
       "      <td>-0.341416</td>\n",
       "      <td>-0.093554</td>\n",
       "      <td>0.234484</td>\n",
       "    </tr>\n",
       "  </tbody>\n",
       "</table>\n",
       "</div>"
      ],
      "text/plain": [
       "                   A         B         C         D\n",
       "2015-01-04 -0.041285 -1.623209 -0.095172 -0.821733\n",
       "2015-01-05 -0.103082  0.401575 -0.563606  1.812566\n",
       "2015-01-06  0.330107 -0.341416 -0.093554  0.234484"
      ]
     },
     "execution_count": 10,
     "metadata": {},
     "output_type": "execute_result"
    }
   ],
   "source": [
    "df.tail(3)   #맨끝 3개의 로우를 출력"
   ]
  },
  {
   "cell_type": "code",
   "execution_count": 11,
   "metadata": {
    "collapsed": false
   },
   "outputs": [
    {
     "data": {
      "text/plain": [
       "DatetimeIndex(['2015-01-01', '2015-01-02', '2015-01-03', '2015-01-04',\n",
       "               '2015-01-05', '2015-01-06'],\n",
       "              dtype='datetime64[ns]', freq='D', tz=None)"
      ]
     },
     "execution_count": 11,
     "metadata": {},
     "output_type": "execute_result"
    }
   ],
   "source": [
    "df.index   #df의 인덱스 출력"
   ]
  },
  {
   "cell_type": "code",
   "execution_count": 12,
   "metadata": {
    "collapsed": false
   },
   "outputs": [
    {
     "data": {
      "text/plain": [
       "Index([u'A', u'B', u'C', u'D'], dtype='object')"
      ]
     },
     "execution_count": 12,
     "metadata": {},
     "output_type": "execute_result"
    }
   ],
   "source": [
    "df.columns   #df의 칼럼이름을 출력"
   ]
  },
  {
   "cell_type": "code",
   "execution_count": 13,
   "metadata": {
    "collapsed": false
   },
   "outputs": [
    {
     "data": {
      "text/plain": [
       "array([[-1.1228996 , -1.56351184, -0.85622615, -1.48788835],\n",
       "       [ 0.92972225, -0.38892975,  1.25673223,  1.24305496],\n",
       "       [ 2.0123521 , -0.28200262, -0.11157321, -0.72278275],\n",
       "       [-0.04128495, -1.62320893, -0.09517223, -0.82173327],\n",
       "       [-0.10308185,  0.40157477, -0.56360625,  1.81256623],\n",
       "       [ 0.33010726, -0.34141569, -0.09355407,  0.23448376]])"
      ]
     },
     "execution_count": 13,
     "metadata": {},
     "output_type": "execute_result"
    }
   ],
   "source": [
    "df.values   #df의 값을 ndarray로 출력"
   ]
  },
  {
   "cell_type": "code",
   "execution_count": 14,
   "metadata": {
    "collapsed": false
   },
   "outputs": [
    {
     "data": {
      "text/html": [
       "<div>\n",
       "<table border=\"1\" class=\"dataframe\">\n",
       "  <thead>\n",
       "    <tr style=\"text-align: right;\">\n",
       "      <th></th>\n",
       "      <th>A</th>\n",
       "      <th>B</th>\n",
       "      <th>C</th>\n",
       "      <th>D</th>\n",
       "    </tr>\n",
       "  </thead>\n",
       "  <tbody>\n",
       "    <tr>\n",
       "      <th>count</th>\n",
       "      <td>6.000000</td>\n",
       "      <td>6.000000</td>\n",
       "      <td>6.000000</td>\n",
       "      <td>6.000000</td>\n",
       "    </tr>\n",
       "    <tr>\n",
       "      <th>mean</th>\n",
       "      <td>0.334153</td>\n",
       "      <td>-0.632916</td>\n",
       "      <td>-0.077233</td>\n",
       "      <td>0.042950</td>\n",
       "    </tr>\n",
       "    <tr>\n",
       "      <th>std</th>\n",
       "      <td>1.060773</td>\n",
       "      <td>0.798060</td>\n",
       "      <td>0.724516</td>\n",
       "      <td>1.287320</td>\n",
       "    </tr>\n",
       "    <tr>\n",
       "      <th>min</th>\n",
       "      <td>-1.122900</td>\n",
       "      <td>-1.623209</td>\n",
       "      <td>-0.856226</td>\n",
       "      <td>-1.487888</td>\n",
       "    </tr>\n",
       "    <tr>\n",
       "      <th>25%</th>\n",
       "      <td>-0.087633</td>\n",
       "      <td>-1.269866</td>\n",
       "      <td>-0.450598</td>\n",
       "      <td>-0.796996</td>\n",
       "    </tr>\n",
       "    <tr>\n",
       "      <th>50%</th>\n",
       "      <td>0.144411</td>\n",
       "      <td>-0.365173</td>\n",
       "      <td>-0.103373</td>\n",
       "      <td>-0.244149</td>\n",
       "    </tr>\n",
       "    <tr>\n",
       "      <th>75%</th>\n",
       "      <td>0.779819</td>\n",
       "      <td>-0.296856</td>\n",
       "      <td>-0.093959</td>\n",
       "      <td>0.990912</td>\n",
       "    </tr>\n",
       "    <tr>\n",
       "      <th>max</th>\n",
       "      <td>2.012352</td>\n",
       "      <td>0.401575</td>\n",
       "      <td>1.256732</td>\n",
       "      <td>1.812566</td>\n",
       "    </tr>\n",
       "  </tbody>\n",
       "</table>\n",
       "</div>"
      ],
      "text/plain": [
       "              A         B         C         D\n",
       "count  6.000000  6.000000  6.000000  6.000000\n",
       "mean   0.334153 -0.632916 -0.077233  0.042950\n",
       "std    1.060773  0.798060  0.724516  1.287320\n",
       "min   -1.122900 -1.623209 -0.856226 -1.487888\n",
       "25%   -0.087633 -1.269866 -0.450598 -0.796996\n",
       "50%    0.144411 -0.365173 -0.103373 -0.244149\n",
       "75%    0.779819 -0.296856 -0.093959  0.990912\n",
       "max    2.012352  0.401575  1.256732  1.812566"
      ]
     },
     "execution_count": 14,
     "metadata": {},
     "output_type": "execute_result"
    }
   ],
   "source": [
    "df.describe()   #해당 데이터프레임의 요약을 보여준다"
   ]
  },
  {
   "cell_type": "code",
   "execution_count": 15,
   "metadata": {
    "collapsed": false
   },
   "outputs": [
    {
     "data": {
      "text/html": [
       "<div>\n",
       "<table border=\"1\" class=\"dataframe\">\n",
       "  <thead>\n",
       "    <tr style=\"text-align: right;\">\n",
       "      <th></th>\n",
       "      <th>2015-01-01 00:00:00</th>\n",
       "      <th>2015-01-02 00:00:00</th>\n",
       "      <th>2015-01-03 00:00:00</th>\n",
       "      <th>2015-01-04 00:00:00</th>\n",
       "      <th>2015-01-05 00:00:00</th>\n",
       "      <th>2015-01-06 00:00:00</th>\n",
       "    </tr>\n",
       "  </thead>\n",
       "  <tbody>\n",
       "    <tr>\n",
       "      <th>A</th>\n",
       "      <td>-1.122900</td>\n",
       "      <td>0.929722</td>\n",
       "      <td>2.012352</td>\n",
       "      <td>-0.041285</td>\n",
       "      <td>-0.103082</td>\n",
       "      <td>0.330107</td>\n",
       "    </tr>\n",
       "    <tr>\n",
       "      <th>B</th>\n",
       "      <td>-1.563512</td>\n",
       "      <td>-0.388930</td>\n",
       "      <td>-0.282003</td>\n",
       "      <td>-1.623209</td>\n",
       "      <td>0.401575</td>\n",
       "      <td>-0.341416</td>\n",
       "    </tr>\n",
       "    <tr>\n",
       "      <th>C</th>\n",
       "      <td>-0.856226</td>\n",
       "      <td>1.256732</td>\n",
       "      <td>-0.111573</td>\n",
       "      <td>-0.095172</td>\n",
       "      <td>-0.563606</td>\n",
       "      <td>-0.093554</td>\n",
       "    </tr>\n",
       "    <tr>\n",
       "      <th>D</th>\n",
       "      <td>-1.487888</td>\n",
       "      <td>1.243055</td>\n",
       "      <td>-0.722783</td>\n",
       "      <td>-0.821733</td>\n",
       "      <td>1.812566</td>\n",
       "      <td>0.234484</td>\n",
       "    </tr>\n",
       "  </tbody>\n",
       "</table>\n",
       "</div>"
      ],
      "text/plain": [
       "   2015-01-01  2015-01-02  2015-01-03  2015-01-04  2015-01-05  2015-01-06\n",
       "A   -1.122900    0.929722    2.012352   -0.041285   -0.103082    0.330107\n",
       "B   -1.563512   -0.388930   -0.282003   -1.623209    0.401575   -0.341416\n",
       "C   -0.856226    1.256732   -0.111573   -0.095172   -0.563606   -0.093554\n",
       "D   -1.487888    1.243055   -0.722783   -0.821733    1.812566    0.234484"
      ]
     },
     "execution_count": 15,
     "metadata": {},
     "output_type": "execute_result"
    }
   ],
   "source": [
    "df.T   #칼럼과 인덱스를 전치 시킨다."
   ]
  },
  {
   "cell_type": "code",
   "execution_count": 16,
   "metadata": {
    "collapsed": false
   },
   "outputs": [
    {
     "data": {
      "text/html": [
       "<div>\n",
       "<table border=\"1\" class=\"dataframe\">\n",
       "  <thead>\n",
       "    <tr style=\"text-align: right;\">\n",
       "      <th></th>\n",
       "      <th>D</th>\n",
       "      <th>C</th>\n",
       "      <th>B</th>\n",
       "      <th>A</th>\n",
       "    </tr>\n",
       "  </thead>\n",
       "  <tbody>\n",
       "    <tr>\n",
       "      <th>2015-01-01</th>\n",
       "      <td>-1.487888</td>\n",
       "      <td>-0.856226</td>\n",
       "      <td>-1.563512</td>\n",
       "      <td>-1.122900</td>\n",
       "    </tr>\n",
       "    <tr>\n",
       "      <th>2015-01-02</th>\n",
       "      <td>1.243055</td>\n",
       "      <td>1.256732</td>\n",
       "      <td>-0.388930</td>\n",
       "      <td>0.929722</td>\n",
       "    </tr>\n",
       "    <tr>\n",
       "      <th>2015-01-03</th>\n",
       "      <td>-0.722783</td>\n",
       "      <td>-0.111573</td>\n",
       "      <td>-0.282003</td>\n",
       "      <td>2.012352</td>\n",
       "    </tr>\n",
       "    <tr>\n",
       "      <th>2015-01-04</th>\n",
       "      <td>-0.821733</td>\n",
       "      <td>-0.095172</td>\n",
       "      <td>-1.623209</td>\n",
       "      <td>-0.041285</td>\n",
       "    </tr>\n",
       "    <tr>\n",
       "      <th>2015-01-05</th>\n",
       "      <td>1.812566</td>\n",
       "      <td>-0.563606</td>\n",
       "      <td>0.401575</td>\n",
       "      <td>-0.103082</td>\n",
       "    </tr>\n",
       "    <tr>\n",
       "      <th>2015-01-06</th>\n",
       "      <td>0.234484</td>\n",
       "      <td>-0.093554</td>\n",
       "      <td>-0.341416</td>\n",
       "      <td>0.330107</td>\n",
       "    </tr>\n",
       "  </tbody>\n",
       "</table>\n",
       "</div>"
      ],
      "text/plain": [
       "                   D         C         B         A\n",
       "2015-01-01 -1.487888 -0.856226 -1.563512 -1.122900\n",
       "2015-01-02  1.243055  1.256732 -0.388930  0.929722\n",
       "2015-01-03 -0.722783 -0.111573 -0.282003  2.012352\n",
       "2015-01-04 -0.821733 -0.095172 -1.623209 -0.041285\n",
       "2015-01-05  1.812566 -0.563606  0.401575 -0.103082\n",
       "2015-01-06  0.234484 -0.093554 -0.341416  0.330107"
      ]
     },
     "execution_count": 16,
     "metadata": {},
     "output_type": "execute_result"
    }
   ],
   "source": [
    "df.sort_index(axis=1, ascending=False)   #인덱스를 정렬"
   ]
  },
  {
   "cell_type": "code",
   "execution_count": 17,
   "metadata": {
    "collapsed": false,
    "scrolled": true
   },
   "outputs": [
    {
     "data": {
      "text/html": [
       "<div>\n",
       "<table border=\"1\" class=\"dataframe\">\n",
       "  <thead>\n",
       "    <tr style=\"text-align: right;\">\n",
       "      <th></th>\n",
       "      <th>A</th>\n",
       "      <th>B</th>\n",
       "      <th>C</th>\n",
       "      <th>D</th>\n",
       "    </tr>\n",
       "  </thead>\n",
       "  <tbody>\n",
       "    <tr>\n",
       "      <th>2015-01-04</th>\n",
       "      <td>-0.041285</td>\n",
       "      <td>-1.623209</td>\n",
       "      <td>-0.095172</td>\n",
       "      <td>-0.821733</td>\n",
       "    </tr>\n",
       "    <tr>\n",
       "      <th>2015-01-01</th>\n",
       "      <td>-1.122900</td>\n",
       "      <td>-1.563512</td>\n",
       "      <td>-0.856226</td>\n",
       "      <td>-1.487888</td>\n",
       "    </tr>\n",
       "    <tr>\n",
       "      <th>2015-01-02</th>\n",
       "      <td>0.929722</td>\n",
       "      <td>-0.388930</td>\n",
       "      <td>1.256732</td>\n",
       "      <td>1.243055</td>\n",
       "    </tr>\n",
       "    <tr>\n",
       "      <th>2015-01-06</th>\n",
       "      <td>0.330107</td>\n",
       "      <td>-0.341416</td>\n",
       "      <td>-0.093554</td>\n",
       "      <td>0.234484</td>\n",
       "    </tr>\n",
       "    <tr>\n",
       "      <th>2015-01-03</th>\n",
       "      <td>2.012352</td>\n",
       "      <td>-0.282003</td>\n",
       "      <td>-0.111573</td>\n",
       "      <td>-0.722783</td>\n",
       "    </tr>\n",
       "    <tr>\n",
       "      <th>2015-01-05</th>\n",
       "      <td>-0.103082</td>\n",
       "      <td>0.401575</td>\n",
       "      <td>-0.563606</td>\n",
       "      <td>1.812566</td>\n",
       "    </tr>\n",
       "  </tbody>\n",
       "</table>\n",
       "</div>"
      ],
      "text/plain": [
       "                   A         B         C         D\n",
       "2015-01-04 -0.041285 -1.623209 -0.095172 -0.821733\n",
       "2015-01-01 -1.122900 -1.563512 -0.856226 -1.487888\n",
       "2015-01-02  0.929722 -0.388930  1.256732  1.243055\n",
       "2015-01-06  0.330107 -0.341416 -0.093554  0.234484\n",
       "2015-01-03  2.012352 -0.282003 -0.111573 -0.722783\n",
       "2015-01-05 -0.103082  0.401575 -0.563606  1.812566"
      ]
     },
     "execution_count": 17,
     "metadata": {},
     "output_type": "execute_result"
    }
   ],
   "source": [
    "df.sort(columns='B')   #칼럼 B의 값을 기준으로 로우를 정렬 시킴"
   ]
  },
  {
   "cell_type": "markdown",
   "metadata": {},
   "source": [
    "## Selection"
   ]
  },
  {
   "cell_type": "markdown",
   "metadata": {},
   "source": [
    "### Getting"
   ]
  },
  {
   "cell_type": "code",
   "execution_count": 18,
   "metadata": {
    "collapsed": false
   },
   "outputs": [
    {
     "data": {
      "text/plain": [
       "2015-01-01   -1.122900\n",
       "2015-01-02    0.929722\n",
       "2015-01-03    2.012352\n",
       "2015-01-04   -0.041285\n",
       "2015-01-05   -0.103082\n",
       "2015-01-06    0.330107\n",
       "Freq: D, Name: A, dtype: float64"
      ]
     },
     "execution_count": 18,
     "metadata": {},
     "output_type": "execute_result"
    }
   ],
   "source": [
    "df['A']   #A칼럼의 값들을 출력"
   ]
  },
  {
   "cell_type": "code",
   "execution_count": 19,
   "metadata": {
    "collapsed": false
   },
   "outputs": [
    {
     "data": {
      "text/html": [
       "<div>\n",
       "<table border=\"1\" class=\"dataframe\">\n",
       "  <thead>\n",
       "    <tr style=\"text-align: right;\">\n",
       "      <th></th>\n",
       "      <th>A</th>\n",
       "      <th>B</th>\n",
       "      <th>C</th>\n",
       "      <th>D</th>\n",
       "    </tr>\n",
       "  </thead>\n",
       "  <tbody>\n",
       "    <tr>\n",
       "      <th>2015-01-01</th>\n",
       "      <td>-1.122900</td>\n",
       "      <td>-1.563512</td>\n",
       "      <td>-0.856226</td>\n",
       "      <td>-1.487888</td>\n",
       "    </tr>\n",
       "    <tr>\n",
       "      <th>2015-01-02</th>\n",
       "      <td>0.929722</td>\n",
       "      <td>-0.388930</td>\n",
       "      <td>1.256732</td>\n",
       "      <td>1.243055</td>\n",
       "    </tr>\n",
       "    <tr>\n",
       "      <th>2015-01-03</th>\n",
       "      <td>2.012352</td>\n",
       "      <td>-0.282003</td>\n",
       "      <td>-0.111573</td>\n",
       "      <td>-0.722783</td>\n",
       "    </tr>\n",
       "  </tbody>\n",
       "</table>\n",
       "</div>"
      ],
      "text/plain": [
       "                   A         B         C         D\n",
       "2015-01-01 -1.122900 -1.563512 -0.856226 -1.487888\n",
       "2015-01-02  0.929722 -0.388930  1.256732  1.243055\n",
       "2015-01-03  2.012352 -0.282003 -0.111573 -0.722783"
      ]
     },
     "execution_count": 19,
     "metadata": {},
     "output_type": "execute_result"
    }
   ],
   "source": [
    "df[0:3]   #로우의 1~3까지를 출력"
   ]
  },
  {
   "cell_type": "code",
   "execution_count": 20,
   "metadata": {
    "collapsed": false
   },
   "outputs": [
    {
     "data": {
      "text/html": [
       "<div>\n",
       "<table border=\"1\" class=\"dataframe\">\n",
       "  <thead>\n",
       "    <tr style=\"text-align: right;\">\n",
       "      <th></th>\n",
       "      <th>A</th>\n",
       "      <th>B</th>\n",
       "      <th>C</th>\n",
       "      <th>D</th>\n",
       "    </tr>\n",
       "  </thead>\n",
       "  <tbody>\n",
       "    <tr>\n",
       "      <th>2015-01-02</th>\n",
       "      <td>0.929722</td>\n",
       "      <td>-0.388930</td>\n",
       "      <td>1.256732</td>\n",
       "      <td>1.243055</td>\n",
       "    </tr>\n",
       "    <tr>\n",
       "      <th>2015-01-03</th>\n",
       "      <td>2.012352</td>\n",
       "      <td>-0.282003</td>\n",
       "      <td>-0.111573</td>\n",
       "      <td>-0.722783</td>\n",
       "    </tr>\n",
       "    <tr>\n",
       "      <th>2015-01-04</th>\n",
       "      <td>-0.041285</td>\n",
       "      <td>-1.623209</td>\n",
       "      <td>-0.095172</td>\n",
       "      <td>-0.821733</td>\n",
       "    </tr>\n",
       "  </tbody>\n",
       "</table>\n",
       "</div>"
      ],
      "text/plain": [
       "                   A         B         C         D\n",
       "2015-01-02  0.929722 -0.388930  1.256732  1.243055\n",
       "2015-01-03  2.012352 -0.282003 -0.111573 -0.722783\n",
       "2015-01-04 -0.041285 -1.623209 -0.095172 -0.821733"
      ]
     },
     "execution_count": 20,
     "metadata": {},
     "output_type": "execute_result"
    }
   ],
   "source": [
    "df['20150102':'20150104']   #1월2일 부터 4일 까지의 로우를 출력"
   ]
  },
  {
   "cell_type": "markdown",
   "metadata": {},
   "source": [
    "### Selection by Label"
   ]
  },
  {
   "cell_type": "code",
   "execution_count": 21,
   "metadata": {
    "collapsed": false
   },
   "outputs": [
    {
     "data": {
      "text/plain": [
       "A   -1.122900\n",
       "B   -1.563512\n",
       "C   -0.856226\n",
       "D   -1.487888\n",
       "Name: 2015-01-01 00:00:00, dtype: float64"
      ]
     },
     "execution_count": 21,
     "metadata": {},
     "output_type": "execute_result"
    }
   ],
   "source": [
    "df.loc[dates[0]]   #해당 로우가 속한 값들을 출력"
   ]
  },
  {
   "cell_type": "code",
   "execution_count": 22,
   "metadata": {
    "collapsed": false
   },
   "outputs": [
    {
     "data": {
      "text/html": [
       "<div>\n",
       "<table border=\"1\" class=\"dataframe\">\n",
       "  <thead>\n",
       "    <tr style=\"text-align: right;\">\n",
       "      <th></th>\n",
       "      <th>A</th>\n",
       "      <th>B</th>\n",
       "    </tr>\n",
       "  </thead>\n",
       "  <tbody>\n",
       "    <tr>\n",
       "      <th>2015-01-01</th>\n",
       "      <td>-1.122900</td>\n",
       "      <td>-1.563512</td>\n",
       "    </tr>\n",
       "    <tr>\n",
       "      <th>2015-01-02</th>\n",
       "      <td>0.929722</td>\n",
       "      <td>-0.388930</td>\n",
       "    </tr>\n",
       "    <tr>\n",
       "      <th>2015-01-03</th>\n",
       "      <td>2.012352</td>\n",
       "      <td>-0.282003</td>\n",
       "    </tr>\n",
       "    <tr>\n",
       "      <th>2015-01-04</th>\n",
       "      <td>-0.041285</td>\n",
       "      <td>-1.623209</td>\n",
       "    </tr>\n",
       "    <tr>\n",
       "      <th>2015-01-05</th>\n",
       "      <td>-0.103082</td>\n",
       "      <td>0.401575</td>\n",
       "    </tr>\n",
       "    <tr>\n",
       "      <th>2015-01-06</th>\n",
       "      <td>0.330107</td>\n",
       "      <td>-0.341416</td>\n",
       "    </tr>\n",
       "  </tbody>\n",
       "</table>\n",
       "</div>"
      ],
      "text/plain": [
       "                   A         B\n",
       "2015-01-01 -1.122900 -1.563512\n",
       "2015-01-02  0.929722 -0.388930\n",
       "2015-01-03  2.012352 -0.282003\n",
       "2015-01-04 -0.041285 -1.623209\n",
       "2015-01-05 -0.103082  0.401575\n",
       "2015-01-06  0.330107 -0.341416"
      ]
     },
     "execution_count": 22,
     "metadata": {},
     "output_type": "execute_result"
    }
   ],
   "source": [
    "df.loc[:,['A','B']]   #전체 로우에서 A와 B칼럼의 값들을 출력"
   ]
  },
  {
   "cell_type": "code",
   "execution_count": 23,
   "metadata": {
    "collapsed": false
   },
   "outputs": [
    {
     "data": {
      "text/plain": [
       "-1.1228996036139753"
      ]
     },
     "execution_count": 23,
     "metadata": {},
     "output_type": "execute_result"
    }
   ],
   "source": [
    "df.loc[dates[0], 'A']   #해당 로우의 A칼럼을 출력"
   ]
  },
  {
   "cell_type": "code",
   "execution_count": 24,
   "metadata": {
    "collapsed": false
   },
   "outputs": [
    {
     "data": {
      "text/plain": [
       "-1.1228996036139753"
      ]
     },
     "execution_count": 24,
     "metadata": {},
     "output_type": "execute_result"
    }
   ],
   "source": [
    "df.at[dates[0], 'A']"
   ]
  },
  {
   "cell_type": "markdown",
   "metadata": {},
   "source": [
    "### Selection by Position"
   ]
  },
  {
   "cell_type": "code",
   "execution_count": 25,
   "metadata": {
    "collapsed": false
   },
   "outputs": [
    {
     "data": {
      "text/plain": [
       "A   -0.041285\n",
       "B   -1.623209\n",
       "C   -0.095172\n",
       "D   -0.821733\n",
       "Name: 2015-01-04 00:00:00, dtype: float64"
      ]
     },
     "execution_count": 25,
     "metadata": {},
     "output_type": "execute_result"
    }
   ],
   "source": [
    "df.iloc[3]   #20150104의 값들을 출력"
   ]
  },
  {
   "cell_type": "code",
   "execution_count": 26,
   "metadata": {
    "collapsed": false
   },
   "outputs": [
    {
     "data": {
      "text/html": [
       "<div>\n",
       "<table border=\"1\" class=\"dataframe\">\n",
       "  <thead>\n",
       "    <tr style=\"text-align: right;\">\n",
       "      <th></th>\n",
       "      <th>A</th>\n",
       "      <th>B</th>\n",
       "    </tr>\n",
       "  </thead>\n",
       "  <tbody>\n",
       "    <tr>\n",
       "      <th>2015-01-04</th>\n",
       "      <td>-0.041285</td>\n",
       "      <td>-1.623209</td>\n",
       "    </tr>\n",
       "    <tr>\n",
       "      <th>2015-01-05</th>\n",
       "      <td>-0.103082</td>\n",
       "      <td>0.401575</td>\n",
       "    </tr>\n",
       "  </tbody>\n",
       "</table>\n",
       "</div>"
      ],
      "text/plain": [
       "                   A         B\n",
       "2015-01-04 -0.041285 -1.623209\n",
       "2015-01-05 -0.103082  0.401575"
      ]
     },
     "execution_count": 26,
     "metadata": {},
     "output_type": "execute_result"
    }
   ],
   "source": [
    "df.iloc[3:5, 0:2]   #로우 4~5번과 칼럼 0~2번을 출력"
   ]
  },
  {
   "cell_type": "code",
   "execution_count": 27,
   "metadata": {
    "collapsed": false
   },
   "outputs": [
    {
     "data": {
      "text/html": [
       "<div>\n",
       "<table border=\"1\" class=\"dataframe\">\n",
       "  <thead>\n",
       "    <tr style=\"text-align: right;\">\n",
       "      <th></th>\n",
       "      <th>A</th>\n",
       "      <th>C</th>\n",
       "    </tr>\n",
       "  </thead>\n",
       "  <tbody>\n",
       "    <tr>\n",
       "      <th>2015-01-02</th>\n",
       "      <td>0.929722</td>\n",
       "      <td>1.256732</td>\n",
       "    </tr>\n",
       "    <tr>\n",
       "      <th>2015-01-03</th>\n",
       "      <td>2.012352</td>\n",
       "      <td>-0.111573</td>\n",
       "    </tr>\n",
       "    <tr>\n",
       "      <th>2015-01-05</th>\n",
       "      <td>-0.103082</td>\n",
       "      <td>-0.563606</td>\n",
       "    </tr>\n",
       "  </tbody>\n",
       "</table>\n",
       "</div>"
      ],
      "text/plain": [
       "                   A         C\n",
       "2015-01-02  0.929722  1.256732\n",
       "2015-01-03  2.012352 -0.111573\n",
       "2015-01-05 -0.103082 -0.563606"
      ]
     },
     "execution_count": 27,
     "metadata": {},
     "output_type": "execute_result"
    }
   ],
   "source": [
    "In [34]: df.iloc[[1,2,4],[0,2]]"
   ]
  },
  {
   "cell_type": "code",
   "execution_count": 28,
   "metadata": {
    "collapsed": false
   },
   "outputs": [
    {
     "data": {
      "text/html": [
       "<div>\n",
       "<table border=\"1\" class=\"dataframe\">\n",
       "  <thead>\n",
       "    <tr style=\"text-align: right;\">\n",
       "      <th></th>\n",
       "      <th>A</th>\n",
       "      <th>B</th>\n",
       "      <th>C</th>\n",
       "      <th>D</th>\n",
       "    </tr>\n",
       "  </thead>\n",
       "  <tbody>\n",
       "    <tr>\n",
       "      <th>2015-01-02</th>\n",
       "      <td>0.929722</td>\n",
       "      <td>-0.388930</td>\n",
       "      <td>1.256732</td>\n",
       "      <td>1.243055</td>\n",
       "    </tr>\n",
       "    <tr>\n",
       "      <th>2015-01-03</th>\n",
       "      <td>2.012352</td>\n",
       "      <td>-0.282003</td>\n",
       "      <td>-0.111573</td>\n",
       "      <td>-0.722783</td>\n",
       "    </tr>\n",
       "  </tbody>\n",
       "</table>\n",
       "</div>"
      ],
      "text/plain": [
       "                   A         B         C         D\n",
       "2015-01-02  0.929722 -0.388930  1.256732  1.243055\n",
       "2015-01-03  2.012352 -0.282003 -0.111573 -0.722783"
      ]
     },
     "execution_count": 28,
     "metadata": {},
     "output_type": "execute_result"
    }
   ],
   "source": [
    "df.iloc[1:3,:]   #':'만 있는경우는 전체를 출력"
   ]
  },
  {
   "cell_type": "code",
   "execution_count": 29,
   "metadata": {
    "collapsed": false
   },
   "outputs": [
    {
     "data": {
      "text/html": [
       "<div>\n",
       "<table border=\"1\" class=\"dataframe\">\n",
       "  <thead>\n",
       "    <tr style=\"text-align: right;\">\n",
       "      <th></th>\n",
       "      <th>B</th>\n",
       "      <th>C</th>\n",
       "    </tr>\n",
       "  </thead>\n",
       "  <tbody>\n",
       "    <tr>\n",
       "      <th>2015-01-01</th>\n",
       "      <td>-1.563512</td>\n",
       "      <td>-0.856226</td>\n",
       "    </tr>\n",
       "    <tr>\n",
       "      <th>2015-01-02</th>\n",
       "      <td>-0.388930</td>\n",
       "      <td>1.256732</td>\n",
       "    </tr>\n",
       "    <tr>\n",
       "      <th>2015-01-03</th>\n",
       "      <td>-0.282003</td>\n",
       "      <td>-0.111573</td>\n",
       "    </tr>\n",
       "    <tr>\n",
       "      <th>2015-01-04</th>\n",
       "      <td>-1.623209</td>\n",
       "      <td>-0.095172</td>\n",
       "    </tr>\n",
       "    <tr>\n",
       "      <th>2015-01-05</th>\n",
       "      <td>0.401575</td>\n",
       "      <td>-0.563606</td>\n",
       "    </tr>\n",
       "    <tr>\n",
       "      <th>2015-01-06</th>\n",
       "      <td>-0.341416</td>\n",
       "      <td>-0.093554</td>\n",
       "    </tr>\n",
       "  </tbody>\n",
       "</table>\n",
       "</div>"
      ],
      "text/plain": [
       "                   B         C\n",
       "2015-01-01 -1.563512 -0.856226\n",
       "2015-01-02 -0.388930  1.256732\n",
       "2015-01-03 -0.282003 -0.111573\n",
       "2015-01-04 -1.623209 -0.095172\n",
       "2015-01-05  0.401575 -0.563606\n",
       "2015-01-06 -0.341416 -0.093554"
      ]
     },
     "execution_count": 29,
     "metadata": {},
     "output_type": "execute_result"
    }
   ],
   "source": [
    "df.iloc[:,1:3] "
   ]
  },
  {
   "cell_type": "code",
   "execution_count": 30,
   "metadata": {
    "collapsed": false
   },
   "outputs": [
    {
     "data": {
      "text/plain": [
       "-0.38892974697947347"
      ]
     },
     "execution_count": 30,
     "metadata": {},
     "output_type": "execute_result"
    }
   ],
   "source": [
    "df.iloc[1,1]   #(1,1) 위치에 있는 값을 출력 따라서 20150102의 B칼럼 값을 출력"
   ]
  },
  {
   "cell_type": "code",
   "execution_count": 31,
   "metadata": {
    "collapsed": false
   },
   "outputs": [
    {
     "data": {
      "text/plain": [
       "-0.38892974697947347"
      ]
     },
     "execution_count": 31,
     "metadata": {},
     "output_type": "execute_result"
    }
   ],
   "source": [
    "df.iat[1,1]   #위와 같은 효과"
   ]
  },
  {
   "cell_type": "markdown",
   "metadata": {},
   "source": [
    "### Boolean Indexing"
   ]
  },
  {
   "cell_type": "code",
   "execution_count": 32,
   "metadata": {
    "collapsed": false
   },
   "outputs": [
    {
     "data": {
      "text/html": [
       "<div>\n",
       "<table border=\"1\" class=\"dataframe\">\n",
       "  <thead>\n",
       "    <tr style=\"text-align: right;\">\n",
       "      <th></th>\n",
       "      <th>A</th>\n",
       "      <th>B</th>\n",
       "      <th>C</th>\n",
       "      <th>D</th>\n",
       "    </tr>\n",
       "  </thead>\n",
       "  <tbody>\n",
       "    <tr>\n",
       "      <th>2015-01-02</th>\n",
       "      <td>0.929722</td>\n",
       "      <td>-0.388930</td>\n",
       "      <td>1.256732</td>\n",
       "      <td>1.243055</td>\n",
       "    </tr>\n",
       "    <tr>\n",
       "      <th>2015-01-03</th>\n",
       "      <td>2.012352</td>\n",
       "      <td>-0.282003</td>\n",
       "      <td>-0.111573</td>\n",
       "      <td>-0.722783</td>\n",
       "    </tr>\n",
       "    <tr>\n",
       "      <th>2015-01-06</th>\n",
       "      <td>0.330107</td>\n",
       "      <td>-0.341416</td>\n",
       "      <td>-0.093554</td>\n",
       "      <td>0.234484</td>\n",
       "    </tr>\n",
       "  </tbody>\n",
       "</table>\n",
       "</div>"
      ],
      "text/plain": [
       "                   A         B         C         D\n",
       "2015-01-02  0.929722 -0.388930  1.256732  1.243055\n",
       "2015-01-03  2.012352 -0.282003 -0.111573 -0.722783\n",
       "2015-01-06  0.330107 -0.341416 -0.093554  0.234484"
      ]
     },
     "execution_count": 32,
     "metadata": {},
     "output_type": "execute_result"
    }
   ],
   "source": [
    "df[df.A > 0]   #A 칼럼의 값이 0보다 큰 로우만 출력"
   ]
  },
  {
   "cell_type": "code",
   "execution_count": 33,
   "metadata": {
    "collapsed": false
   },
   "outputs": [
    {
     "data": {
      "text/html": [
       "<div>\n",
       "<table border=\"1\" class=\"dataframe\">\n",
       "  <thead>\n",
       "    <tr style=\"text-align: right;\">\n",
       "      <th></th>\n",
       "      <th>A</th>\n",
       "      <th>B</th>\n",
       "      <th>C</th>\n",
       "      <th>D</th>\n",
       "    </tr>\n",
       "  </thead>\n",
       "  <tbody>\n",
       "    <tr>\n",
       "      <th>2015-01-01</th>\n",
       "      <td>NaN</td>\n",
       "      <td>NaN</td>\n",
       "      <td>NaN</td>\n",
       "      <td>NaN</td>\n",
       "    </tr>\n",
       "    <tr>\n",
       "      <th>2015-01-02</th>\n",
       "      <td>0.929722</td>\n",
       "      <td>NaN</td>\n",
       "      <td>1.256732</td>\n",
       "      <td>1.243055</td>\n",
       "    </tr>\n",
       "    <tr>\n",
       "      <th>2015-01-03</th>\n",
       "      <td>2.012352</td>\n",
       "      <td>NaN</td>\n",
       "      <td>NaN</td>\n",
       "      <td>NaN</td>\n",
       "    </tr>\n",
       "    <tr>\n",
       "      <th>2015-01-04</th>\n",
       "      <td>NaN</td>\n",
       "      <td>NaN</td>\n",
       "      <td>NaN</td>\n",
       "      <td>NaN</td>\n",
       "    </tr>\n",
       "    <tr>\n",
       "      <th>2015-01-05</th>\n",
       "      <td>NaN</td>\n",
       "      <td>0.401575</td>\n",
       "      <td>NaN</td>\n",
       "      <td>1.812566</td>\n",
       "    </tr>\n",
       "    <tr>\n",
       "      <th>2015-01-06</th>\n",
       "      <td>0.330107</td>\n",
       "      <td>NaN</td>\n",
       "      <td>NaN</td>\n",
       "      <td>0.234484</td>\n",
       "    </tr>\n",
       "  </tbody>\n",
       "</table>\n",
       "</div>"
      ],
      "text/plain": [
       "                   A         B         C         D\n",
       "2015-01-01       NaN       NaN       NaN       NaN\n",
       "2015-01-02  0.929722       NaN  1.256732  1.243055\n",
       "2015-01-03  2.012352       NaN       NaN       NaN\n",
       "2015-01-04       NaN       NaN       NaN       NaN\n",
       "2015-01-05       NaN  0.401575       NaN  1.812566\n",
       "2015-01-06  0.330107       NaN       NaN  0.234484"
      ]
     },
     "execution_count": 33,
     "metadata": {},
     "output_type": "execute_result"
    }
   ],
   "source": [
    "df[df > 0]   #df의 값들 중에 0보다 큰 로우만 출력하며 0보다 작은 경우는 null처리하여 출력"
   ]
  },
  {
   "cell_type": "code",
   "execution_count": 34,
   "metadata": {
    "collapsed": true
   },
   "outputs": [],
   "source": [
    "df2 = df.copy()   #copy 함수를 이용하여 df2에 df를 복사"
   ]
  },
  {
   "cell_type": "code",
   "execution_count": 35,
   "metadata": {
    "collapsed": false
   },
   "outputs": [
    {
     "data": {
      "text/html": [
       "<div>\n",
       "<table border=\"1\" class=\"dataframe\">\n",
       "  <thead>\n",
       "    <tr style=\"text-align: right;\">\n",
       "      <th></th>\n",
       "      <th>A</th>\n",
       "      <th>B</th>\n",
       "      <th>C</th>\n",
       "      <th>D</th>\n",
       "      <th>E</th>\n",
       "    </tr>\n",
       "  </thead>\n",
       "  <tbody>\n",
       "    <tr>\n",
       "      <th>2015-01-01</th>\n",
       "      <td>-1.122900</td>\n",
       "      <td>-1.563512</td>\n",
       "      <td>-0.856226</td>\n",
       "      <td>-1.487888</td>\n",
       "      <td>one</td>\n",
       "    </tr>\n",
       "    <tr>\n",
       "      <th>2015-01-02</th>\n",
       "      <td>0.929722</td>\n",
       "      <td>-0.388930</td>\n",
       "      <td>1.256732</td>\n",
       "      <td>1.243055</td>\n",
       "      <td>one</td>\n",
       "    </tr>\n",
       "    <tr>\n",
       "      <th>2015-01-03</th>\n",
       "      <td>2.012352</td>\n",
       "      <td>-0.282003</td>\n",
       "      <td>-0.111573</td>\n",
       "      <td>-0.722783</td>\n",
       "      <td>two</td>\n",
       "    </tr>\n",
       "    <tr>\n",
       "      <th>2015-01-04</th>\n",
       "      <td>-0.041285</td>\n",
       "      <td>-1.623209</td>\n",
       "      <td>-0.095172</td>\n",
       "      <td>-0.821733</td>\n",
       "      <td>three</td>\n",
       "    </tr>\n",
       "    <tr>\n",
       "      <th>2015-01-05</th>\n",
       "      <td>-0.103082</td>\n",
       "      <td>0.401575</td>\n",
       "      <td>-0.563606</td>\n",
       "      <td>1.812566</td>\n",
       "      <td>four</td>\n",
       "    </tr>\n",
       "    <tr>\n",
       "      <th>2015-01-06</th>\n",
       "      <td>0.330107</td>\n",
       "      <td>-0.341416</td>\n",
       "      <td>-0.093554</td>\n",
       "      <td>0.234484</td>\n",
       "      <td>three</td>\n",
       "    </tr>\n",
       "  </tbody>\n",
       "</table>\n",
       "</div>"
      ],
      "text/plain": [
       "                   A         B         C         D      E\n",
       "2015-01-01 -1.122900 -1.563512 -0.856226 -1.487888    one\n",
       "2015-01-02  0.929722 -0.388930  1.256732  1.243055    one\n",
       "2015-01-03  2.012352 -0.282003 -0.111573 -0.722783    two\n",
       "2015-01-04 -0.041285 -1.623209 -0.095172 -0.821733  three\n",
       "2015-01-05 -0.103082  0.401575 -0.563606  1.812566   four\n",
       "2015-01-06  0.330107 -0.341416 -0.093554  0.234484  three"
      ]
     },
     "execution_count": 35,
     "metadata": {},
     "output_type": "execute_result"
    }
   ],
   "source": [
    "df2['E'] = ['one', 'one', 'two', 'three', 'four', 'three']  #E 칼럼을 다음과 같이 생성\n",
    "df2"
   ]
  },
  {
   "cell_type": "code",
   "execution_count": 36,
   "metadata": {
    "collapsed": false
   },
   "outputs": [
    {
     "data": {
      "text/html": [
       "<div>\n",
       "<table border=\"1\" class=\"dataframe\">\n",
       "  <thead>\n",
       "    <tr style=\"text-align: right;\">\n",
       "      <th></th>\n",
       "      <th>A</th>\n",
       "      <th>B</th>\n",
       "      <th>C</th>\n",
       "      <th>D</th>\n",
       "      <th>E</th>\n",
       "    </tr>\n",
       "  </thead>\n",
       "  <tbody>\n",
       "    <tr>\n",
       "      <th>2015-01-03</th>\n",
       "      <td>2.012352</td>\n",
       "      <td>-0.282003</td>\n",
       "      <td>-0.111573</td>\n",
       "      <td>-0.722783</td>\n",
       "      <td>two</td>\n",
       "    </tr>\n",
       "    <tr>\n",
       "      <th>2015-01-05</th>\n",
       "      <td>-0.103082</td>\n",
       "      <td>0.401575</td>\n",
       "      <td>-0.563606</td>\n",
       "      <td>1.812566</td>\n",
       "      <td>four</td>\n",
       "    </tr>\n",
       "  </tbody>\n",
       "</table>\n",
       "</div>"
      ],
      "text/plain": [
       "                   A         B         C         D     E\n",
       "2015-01-03  2.012352 -0.282003 -0.111573 -0.722783   two\n",
       "2015-01-05 -0.103082  0.401575 -0.563606  1.812566  four"
      ]
     },
     "execution_count": 36,
     "metadata": {},
     "output_type": "execute_result"
    }
   ],
   "source": [
    "df2[df2['E'].isin(['two', 'four'])]"
   ]
  },
  {
   "cell_type": "markdown",
   "metadata": {},
   "source": [
    "### Setting"
   ]
  },
  {
   "cell_type": "code",
   "execution_count": 37,
   "metadata": {
    "collapsed": false
   },
   "outputs": [
    {
     "data": {
      "text/plain": [
       "2015-01-02    1\n",
       "2015-01-03    2\n",
       "2015-01-04    3\n",
       "2015-01-05    4\n",
       "2015-01-06    5\n",
       "2015-01-07    6\n",
       "Freq: D, dtype: int64"
      ]
     },
     "execution_count": 37,
     "metadata": {},
     "output_type": "execute_result"
    }
   ],
   "source": [
    "s1 = pd.Series([1,2,3,4,5,6], index=pd.date_range('20150102', periods=6))\n",
    "s1"
   ]
  },
  {
   "cell_type": "code",
   "execution_count": 38,
   "metadata": {
    "collapsed": true
   },
   "outputs": [],
   "source": [
    "df['F'] = s1   #df에 다음과 같이 위에서 만든 데이터 프레임을 추가"
   ]
  },
  {
   "cell_type": "code",
   "execution_count": 39,
   "metadata": {
    "collapsed": true
   },
   "outputs": [],
   "source": [
    "df.at[dates[0], 'A'] = 0"
   ]
  },
  {
   "cell_type": "code",
   "execution_count": 40,
   "metadata": {
    "collapsed": true
   },
   "outputs": [],
   "source": [
    "df.iat[0,1] = 0"
   ]
  },
  {
   "cell_type": "code",
   "execution_count": 41,
   "metadata": {
    "collapsed": true
   },
   "outputs": [],
   "source": [
    "df.loc[:, 'D'] = np.array([5] * len(df))"
   ]
  },
  {
   "cell_type": "code",
   "execution_count": 42,
   "metadata": {
    "collapsed": false
   },
   "outputs": [
    {
     "data": {
      "text/plain": [
       "6"
      ]
     },
     "execution_count": 42,
     "metadata": {},
     "output_type": "execute_result"
    }
   ],
   "source": [
    "len(df)"
   ]
  },
  {
   "cell_type": "code",
   "execution_count": 43,
   "metadata": {
    "collapsed": false
   },
   "outputs": [
    {
     "data": {
      "text/html": [
       "<div>\n",
       "<table border=\"1\" class=\"dataframe\">\n",
       "  <thead>\n",
       "    <tr style=\"text-align: right;\">\n",
       "      <th></th>\n",
       "      <th>A</th>\n",
       "      <th>B</th>\n",
       "      <th>C</th>\n",
       "      <th>D</th>\n",
       "      <th>F</th>\n",
       "    </tr>\n",
       "  </thead>\n",
       "  <tbody>\n",
       "    <tr>\n",
       "      <th>2015-01-01</th>\n",
       "      <td>0.000000</td>\n",
       "      <td>0.000000</td>\n",
       "      <td>-0.856226</td>\n",
       "      <td>5</td>\n",
       "      <td>NaN</td>\n",
       "    </tr>\n",
       "    <tr>\n",
       "      <th>2015-01-02</th>\n",
       "      <td>0.929722</td>\n",
       "      <td>-0.388930</td>\n",
       "      <td>1.256732</td>\n",
       "      <td>5</td>\n",
       "      <td>1</td>\n",
       "    </tr>\n",
       "    <tr>\n",
       "      <th>2015-01-03</th>\n",
       "      <td>2.012352</td>\n",
       "      <td>-0.282003</td>\n",
       "      <td>-0.111573</td>\n",
       "      <td>5</td>\n",
       "      <td>2</td>\n",
       "    </tr>\n",
       "    <tr>\n",
       "      <th>2015-01-04</th>\n",
       "      <td>-0.041285</td>\n",
       "      <td>-1.623209</td>\n",
       "      <td>-0.095172</td>\n",
       "      <td>5</td>\n",
       "      <td>3</td>\n",
       "    </tr>\n",
       "    <tr>\n",
       "      <th>2015-01-05</th>\n",
       "      <td>-0.103082</td>\n",
       "      <td>0.401575</td>\n",
       "      <td>-0.563606</td>\n",
       "      <td>5</td>\n",
       "      <td>4</td>\n",
       "    </tr>\n",
       "    <tr>\n",
       "      <th>2015-01-06</th>\n",
       "      <td>0.330107</td>\n",
       "      <td>-0.341416</td>\n",
       "      <td>-0.093554</td>\n",
       "      <td>5</td>\n",
       "      <td>5</td>\n",
       "    </tr>\n",
       "  </tbody>\n",
       "</table>\n",
       "</div>"
      ],
      "text/plain": [
       "                   A         B         C  D   F\n",
       "2015-01-01  0.000000  0.000000 -0.856226  5 NaN\n",
       "2015-01-02  0.929722 -0.388930  1.256732  5   1\n",
       "2015-01-03  2.012352 -0.282003 -0.111573  5   2\n",
       "2015-01-04 -0.041285 -1.623209 -0.095172  5   3\n",
       "2015-01-05 -0.103082  0.401575 -0.563606  5   4\n",
       "2015-01-06  0.330107 -0.341416 -0.093554  5   5"
      ]
     },
     "execution_count": 43,
     "metadata": {},
     "output_type": "execute_result"
    }
   ],
   "source": [
    "df"
   ]
  },
  {
   "cell_type": "code",
   "execution_count": 44,
   "metadata": {
    "collapsed": true
   },
   "outputs": [],
   "source": [
    "df2 = df.copy()"
   ]
  },
  {
   "cell_type": "code",
   "execution_count": 45,
   "metadata": {
    "collapsed": false
   },
   "outputs": [
    {
     "data": {
      "text/html": [
       "<div>\n",
       "<table border=\"1\" class=\"dataframe\">\n",
       "  <thead>\n",
       "    <tr style=\"text-align: right;\">\n",
       "      <th></th>\n",
       "      <th>A</th>\n",
       "      <th>B</th>\n",
       "      <th>C</th>\n",
       "      <th>D</th>\n",
       "      <th>F</th>\n",
       "    </tr>\n",
       "  </thead>\n",
       "  <tbody>\n",
       "    <tr>\n",
       "      <th>2015-01-01</th>\n",
       "      <td>0.000000</td>\n",
       "      <td>0.000000</td>\n",
       "      <td>-0.856226</td>\n",
       "      <td>-5</td>\n",
       "      <td>NaN</td>\n",
       "    </tr>\n",
       "    <tr>\n",
       "      <th>2015-01-02</th>\n",
       "      <td>-0.929722</td>\n",
       "      <td>-0.388930</td>\n",
       "      <td>-1.256732</td>\n",
       "      <td>-5</td>\n",
       "      <td>-1</td>\n",
       "    </tr>\n",
       "    <tr>\n",
       "      <th>2015-01-03</th>\n",
       "      <td>-2.012352</td>\n",
       "      <td>-0.282003</td>\n",
       "      <td>-0.111573</td>\n",
       "      <td>-5</td>\n",
       "      <td>-2</td>\n",
       "    </tr>\n",
       "    <tr>\n",
       "      <th>2015-01-04</th>\n",
       "      <td>-0.041285</td>\n",
       "      <td>-1.623209</td>\n",
       "      <td>-0.095172</td>\n",
       "      <td>-5</td>\n",
       "      <td>-3</td>\n",
       "    </tr>\n",
       "    <tr>\n",
       "      <th>2015-01-05</th>\n",
       "      <td>-0.103082</td>\n",
       "      <td>-0.401575</td>\n",
       "      <td>-0.563606</td>\n",
       "      <td>-5</td>\n",
       "      <td>-4</td>\n",
       "    </tr>\n",
       "    <tr>\n",
       "      <th>2015-01-06</th>\n",
       "      <td>-0.330107</td>\n",
       "      <td>-0.341416</td>\n",
       "      <td>-0.093554</td>\n",
       "      <td>-5</td>\n",
       "      <td>-5</td>\n",
       "    </tr>\n",
       "  </tbody>\n",
       "</table>\n",
       "</div>"
      ],
      "text/plain": [
       "                   A         B         C  D   F\n",
       "2015-01-01  0.000000  0.000000 -0.856226 -5 NaN\n",
       "2015-01-02 -0.929722 -0.388930 -1.256732 -5  -1\n",
       "2015-01-03 -2.012352 -0.282003 -0.111573 -5  -2\n",
       "2015-01-04 -0.041285 -1.623209 -0.095172 -5  -3\n",
       "2015-01-05 -0.103082 -0.401575 -0.563606 -5  -4\n",
       "2015-01-06 -0.330107 -0.341416 -0.093554 -5  -5"
      ]
     },
     "execution_count": 45,
     "metadata": {},
     "output_type": "execute_result"
    }
   ],
   "source": [
    "df2[df2 > 0] = -df2   #양수에 모두 음수 처리\n",
    "df2"
   ]
  },
  {
   "cell_type": "markdown",
   "metadata": {},
   "source": [
    "## Missing Data"
   ]
  },
  {
   "cell_type": "code",
   "execution_count": 46,
   "metadata": {
    "collapsed": true
   },
   "outputs": [],
   "source": [
    "df1 = df.reindex(index=dates[0:4], columns=list(df.columns) + ['E'])   #reindex 함수를 이용하여 새로운 dataframe을 생성"
   ]
  },
  {
   "cell_type": "code",
   "execution_count": 47,
   "metadata": {
    "collapsed": false
   },
   "outputs": [
    {
     "data": {
      "text/html": [
       "<div>\n",
       "<table border=\"1\" class=\"dataframe\">\n",
       "  <thead>\n",
       "    <tr style=\"text-align: right;\">\n",
       "      <th></th>\n",
       "      <th>A</th>\n",
       "      <th>B</th>\n",
       "      <th>C</th>\n",
       "      <th>D</th>\n",
       "      <th>F</th>\n",
       "      <th>E</th>\n",
       "    </tr>\n",
       "  </thead>\n",
       "  <tbody>\n",
       "    <tr>\n",
       "      <th>2015-01-01</th>\n",
       "      <td>0.000000</td>\n",
       "      <td>0.000000</td>\n",
       "      <td>-0.856226</td>\n",
       "      <td>5</td>\n",
       "      <td>NaN</td>\n",
       "      <td>1</td>\n",
       "    </tr>\n",
       "    <tr>\n",
       "      <th>2015-01-02</th>\n",
       "      <td>0.929722</td>\n",
       "      <td>-0.388930</td>\n",
       "      <td>1.256732</td>\n",
       "      <td>5</td>\n",
       "      <td>1</td>\n",
       "      <td>1</td>\n",
       "    </tr>\n",
       "    <tr>\n",
       "      <th>2015-01-03</th>\n",
       "      <td>2.012352</td>\n",
       "      <td>-0.282003</td>\n",
       "      <td>-0.111573</td>\n",
       "      <td>5</td>\n",
       "      <td>2</td>\n",
       "      <td>NaN</td>\n",
       "    </tr>\n",
       "    <tr>\n",
       "      <th>2015-01-04</th>\n",
       "      <td>-0.041285</td>\n",
       "      <td>-1.623209</td>\n",
       "      <td>-0.095172</td>\n",
       "      <td>5</td>\n",
       "      <td>3</td>\n",
       "      <td>NaN</td>\n",
       "    </tr>\n",
       "  </tbody>\n",
       "</table>\n",
       "</div>"
      ],
      "text/plain": [
       "                   A         B         C  D   F   E\n",
       "2015-01-01  0.000000  0.000000 -0.856226  5 NaN   1\n",
       "2015-01-02  0.929722 -0.388930  1.256732  5   1   1\n",
       "2015-01-03  2.012352 -0.282003 -0.111573  5   2 NaN\n",
       "2015-01-04 -0.041285 -1.623209 -0.095172  5   3 NaN"
      ]
     },
     "execution_count": 47,
     "metadata": {},
     "output_type": "execute_result"
    }
   ],
   "source": [
    "df1.loc[dates[0]:dates[1], 'E'] = 1   #E칼럼에 0~1번 로우에 1을 입력\n",
    "df1"
   ]
  },
  {
   "cell_type": "code",
   "execution_count": 48,
   "metadata": {
    "collapsed": false
   },
   "outputs": [
    {
     "data": {
      "text/html": [
       "<div>\n",
       "<table border=\"1\" class=\"dataframe\">\n",
       "  <thead>\n",
       "    <tr style=\"text-align: right;\">\n",
       "      <th></th>\n",
       "      <th>A</th>\n",
       "      <th>B</th>\n",
       "      <th>C</th>\n",
       "      <th>D</th>\n",
       "      <th>F</th>\n",
       "      <th>E</th>\n",
       "    </tr>\n",
       "  </thead>\n",
       "  <tbody>\n",
       "    <tr>\n",
       "      <th>2015-01-02</th>\n",
       "      <td>0.929722</td>\n",
       "      <td>-0.38893</td>\n",
       "      <td>1.256732</td>\n",
       "      <td>5</td>\n",
       "      <td>1</td>\n",
       "      <td>1</td>\n",
       "    </tr>\n",
       "  </tbody>\n",
       "</table>\n",
       "</div>"
      ],
      "text/plain": [
       "                   A        B         C  D  F  E\n",
       "2015-01-02  0.929722 -0.38893  1.256732  5  1  1"
      ]
     },
     "execution_count": 48,
     "metadata": {},
     "output_type": "execute_result"
    }
   ],
   "source": [
    "df1.dropna(how='any')    #널값이 하나라도 있는 로우 제거"
   ]
  },
  {
   "cell_type": "code",
   "execution_count": 49,
   "metadata": {
    "collapsed": false
   },
   "outputs": [
    {
     "data": {
      "text/html": [
       "<div>\n",
       "<table border=\"1\" class=\"dataframe\">\n",
       "  <thead>\n",
       "    <tr style=\"text-align: right;\">\n",
       "      <th></th>\n",
       "      <th>A</th>\n",
       "      <th>B</th>\n",
       "      <th>C</th>\n",
       "      <th>D</th>\n",
       "      <th>F</th>\n",
       "      <th>E</th>\n",
       "    </tr>\n",
       "  </thead>\n",
       "  <tbody>\n",
       "    <tr>\n",
       "      <th>2015-01-01</th>\n",
       "      <td>0.000000</td>\n",
       "      <td>0.000000</td>\n",
       "      <td>-0.856226</td>\n",
       "      <td>5</td>\n",
       "      <td>5</td>\n",
       "      <td>1</td>\n",
       "    </tr>\n",
       "    <tr>\n",
       "      <th>2015-01-02</th>\n",
       "      <td>0.929722</td>\n",
       "      <td>-0.388930</td>\n",
       "      <td>1.256732</td>\n",
       "      <td>5</td>\n",
       "      <td>1</td>\n",
       "      <td>1</td>\n",
       "    </tr>\n",
       "    <tr>\n",
       "      <th>2015-01-03</th>\n",
       "      <td>2.012352</td>\n",
       "      <td>-0.282003</td>\n",
       "      <td>-0.111573</td>\n",
       "      <td>5</td>\n",
       "      <td>2</td>\n",
       "      <td>5</td>\n",
       "    </tr>\n",
       "    <tr>\n",
       "      <th>2015-01-04</th>\n",
       "      <td>-0.041285</td>\n",
       "      <td>-1.623209</td>\n",
       "      <td>-0.095172</td>\n",
       "      <td>5</td>\n",
       "      <td>3</td>\n",
       "      <td>5</td>\n",
       "    </tr>\n",
       "  </tbody>\n",
       "</table>\n",
       "</div>"
      ],
      "text/plain": [
       "                   A         B         C  D  F  E\n",
       "2015-01-01  0.000000  0.000000 -0.856226  5  5  1\n",
       "2015-01-02  0.929722 -0.388930  1.256732  5  1  1\n",
       "2015-01-03  2.012352 -0.282003 -0.111573  5  2  5\n",
       "2015-01-04 -0.041285 -1.623209 -0.095172  5  3  5"
      ]
     },
     "execution_count": 49,
     "metadata": {},
     "output_type": "execute_result"
    }
   ],
   "source": [
    "df1.fillna(value=5)   #널값이 있는 경우 값을 5로 채움"
   ]
  },
  {
   "cell_type": "code",
   "execution_count": 50,
   "metadata": {
    "collapsed": false
   },
   "outputs": [
    {
     "data": {
      "text/html": [
       "<div>\n",
       "<table border=\"1\" class=\"dataframe\">\n",
       "  <thead>\n",
       "    <tr style=\"text-align: right;\">\n",
       "      <th></th>\n",
       "      <th>A</th>\n",
       "      <th>B</th>\n",
       "      <th>C</th>\n",
       "      <th>D</th>\n",
       "      <th>F</th>\n",
       "      <th>E</th>\n",
       "    </tr>\n",
       "  </thead>\n",
       "  <tbody>\n",
       "    <tr>\n",
       "      <th>2015-01-01</th>\n",
       "      <td>False</td>\n",
       "      <td>False</td>\n",
       "      <td>False</td>\n",
       "      <td>False</td>\n",
       "      <td>True</td>\n",
       "      <td>False</td>\n",
       "    </tr>\n",
       "    <tr>\n",
       "      <th>2015-01-02</th>\n",
       "      <td>False</td>\n",
       "      <td>False</td>\n",
       "      <td>False</td>\n",
       "      <td>False</td>\n",
       "      <td>False</td>\n",
       "      <td>False</td>\n",
       "    </tr>\n",
       "    <tr>\n",
       "      <th>2015-01-03</th>\n",
       "      <td>False</td>\n",
       "      <td>False</td>\n",
       "      <td>False</td>\n",
       "      <td>False</td>\n",
       "      <td>False</td>\n",
       "      <td>True</td>\n",
       "    </tr>\n",
       "    <tr>\n",
       "      <th>2015-01-04</th>\n",
       "      <td>False</td>\n",
       "      <td>False</td>\n",
       "      <td>False</td>\n",
       "      <td>False</td>\n",
       "      <td>False</td>\n",
       "      <td>True</td>\n",
       "    </tr>\n",
       "  </tbody>\n",
       "</table>\n",
       "</div>"
      ],
      "text/plain": [
       "                A      B      C      D      F      E\n",
       "2015-01-01  False  False  False  False   True  False\n",
       "2015-01-02  False  False  False  False  False  False\n",
       "2015-01-03  False  False  False  False  False   True\n",
       "2015-01-04  False  False  False  False  False   True"
      ]
     },
     "execution_count": 50,
     "metadata": {},
     "output_type": "execute_result"
    }
   ],
   "source": [
    "pd.isnull(df1)   #df1에 null이 있는지 검사"
   ]
  },
  {
   "cell_type": "markdown",
   "metadata": {},
   "source": [
    "## Operations"
   ]
  },
  {
   "cell_type": "markdown",
   "metadata": {},
   "source": [
    "### Stats"
   ]
  },
  {
   "cell_type": "code",
   "execution_count": 51,
   "metadata": {
    "collapsed": false
   },
   "outputs": [
    {
     "data": {
      "text/plain": [
       "A    0.521302\n",
       "B   -0.372330\n",
       "C   -0.077233\n",
       "D    5.000000\n",
       "F    3.000000\n",
       "dtype: float64"
      ]
     },
     "execution_count": 51,
     "metadata": {},
     "output_type": "execute_result"
    }
   ],
   "source": [
    "df.mean()   #각 칼럼의 평균을 구한다"
   ]
  },
  {
   "cell_type": "code",
   "execution_count": 52,
   "metadata": {
    "collapsed": false
   },
   "outputs": [
    {
     "data": {
      "text/plain": [
       "2015-01-01    1.035943\n",
       "2015-01-02    1.559505\n",
       "2015-01-03    1.723755\n",
       "2015-01-04    1.248067\n",
       "2015-01-05    1.746977\n",
       "2015-01-06    1.979028\n",
       "Freq: D, dtype: float64"
      ]
     },
     "execution_count": 52,
     "metadata": {},
     "output_type": "execute_result"
    }
   ],
   "source": [
    "df.mean(1)   #로우의 평균을 구한다."
   ]
  },
  {
   "cell_type": "code",
   "execution_count": 53,
   "metadata": {
    "collapsed": false
   },
   "outputs": [
    {
     "data": {
      "text/plain": [
       "2015-01-01   NaN\n",
       "2015-01-02     1\n",
       "2015-01-03     3\n",
       "2015-01-04     5\n",
       "2015-01-05   NaN\n",
       "2015-01-06     6\n",
       "Freq: D, dtype: float64"
      ]
     },
     "execution_count": 53,
     "metadata": {},
     "output_type": "execute_result"
    }
   ],
   "source": [
    "s = pd.Series([1,3,5,np.nan,6,8], index=dates).shift(1)   #shift?\n",
    "s"
   ]
  },
  {
   "cell_type": "code",
   "execution_count": 54,
   "metadata": {
    "collapsed": false
   },
   "outputs": [],
   "source": [
    "pd.Series.shift?"
   ]
  },
  {
   "cell_type": "code",
   "execution_count": 55,
   "metadata": {
    "collapsed": false
   },
   "outputs": [
    {
     "data": {
      "text/html": [
       "<div>\n",
       "<table border=\"1\" class=\"dataframe\">\n",
       "  <thead>\n",
       "    <tr style=\"text-align: right;\">\n",
       "      <th></th>\n",
       "      <th>A</th>\n",
       "      <th>B</th>\n",
       "      <th>C</th>\n",
       "      <th>D</th>\n",
       "      <th>F</th>\n",
       "    </tr>\n",
       "  </thead>\n",
       "  <tbody>\n",
       "    <tr>\n",
       "      <th>2015-01-01</th>\n",
       "      <td>NaN</td>\n",
       "      <td>NaN</td>\n",
       "      <td>NaN</td>\n",
       "      <td>NaN</td>\n",
       "      <td>NaN</td>\n",
       "    </tr>\n",
       "    <tr>\n",
       "      <th>2015-01-02</th>\n",
       "      <td>-0.070278</td>\n",
       "      <td>-1.388930</td>\n",
       "      <td>0.256732</td>\n",
       "      <td>4</td>\n",
       "      <td>0</td>\n",
       "    </tr>\n",
       "    <tr>\n",
       "      <th>2015-01-03</th>\n",
       "      <td>-0.987648</td>\n",
       "      <td>-3.282003</td>\n",
       "      <td>-3.111573</td>\n",
       "      <td>2</td>\n",
       "      <td>-1</td>\n",
       "    </tr>\n",
       "    <tr>\n",
       "      <th>2015-01-04</th>\n",
       "      <td>-5.041285</td>\n",
       "      <td>-6.623209</td>\n",
       "      <td>-5.095172</td>\n",
       "      <td>0</td>\n",
       "      <td>-2</td>\n",
       "    </tr>\n",
       "    <tr>\n",
       "      <th>2015-01-05</th>\n",
       "      <td>NaN</td>\n",
       "      <td>NaN</td>\n",
       "      <td>NaN</td>\n",
       "      <td>NaN</td>\n",
       "      <td>NaN</td>\n",
       "    </tr>\n",
       "    <tr>\n",
       "      <th>2015-01-06</th>\n",
       "      <td>-5.669893</td>\n",
       "      <td>-6.341416</td>\n",
       "      <td>-6.093554</td>\n",
       "      <td>-1</td>\n",
       "      <td>-1</td>\n",
       "    </tr>\n",
       "  </tbody>\n",
       "</table>\n",
       "</div>"
      ],
      "text/plain": [
       "                   A         B         C   D   F\n",
       "2015-01-01       NaN       NaN       NaN NaN NaN\n",
       "2015-01-02 -0.070278 -1.388930  0.256732   4   0\n",
       "2015-01-03 -0.987648 -3.282003 -3.111573   2  -1\n",
       "2015-01-04 -5.041285 -6.623209 -5.095172   0  -2\n",
       "2015-01-05       NaN       NaN       NaN NaN NaN\n",
       "2015-01-06 -5.669893 -6.341416 -6.093554  -1  -1"
      ]
     },
     "execution_count": 55,
     "metadata": {},
     "output_type": "execute_result"
    }
   ],
   "source": [
    "df.sub(s, axis='index')   #해당 로우의 값들을 출력하여 보여준다"
   ]
  },
  {
   "cell_type": "markdown",
   "metadata": {},
   "source": [
    "### Apply"
   ]
  },
  {
   "cell_type": "code",
   "execution_count": 56,
   "metadata": {
    "collapsed": false
   },
   "outputs": [
    {
     "data": {
      "text/html": [
       "<div>\n",
       "<table border=\"1\" class=\"dataframe\">\n",
       "  <thead>\n",
       "    <tr style=\"text-align: right;\">\n",
       "      <th></th>\n",
       "      <th>A</th>\n",
       "      <th>B</th>\n",
       "      <th>C</th>\n",
       "      <th>D</th>\n",
       "      <th>F</th>\n",
       "    </tr>\n",
       "  </thead>\n",
       "  <tbody>\n",
       "    <tr>\n",
       "      <th>2015-01-01</th>\n",
       "      <td>0.000000</td>\n",
       "      <td>0.000000</td>\n",
       "      <td>-0.856226</td>\n",
       "      <td>5</td>\n",
       "      <td>NaN</td>\n",
       "    </tr>\n",
       "    <tr>\n",
       "      <th>2015-01-02</th>\n",
       "      <td>0.929722</td>\n",
       "      <td>-0.388930</td>\n",
       "      <td>0.400506</td>\n",
       "      <td>10</td>\n",
       "      <td>1</td>\n",
       "    </tr>\n",
       "    <tr>\n",
       "      <th>2015-01-03</th>\n",
       "      <td>2.942074</td>\n",
       "      <td>-0.670932</td>\n",
       "      <td>0.288933</td>\n",
       "      <td>15</td>\n",
       "      <td>3</td>\n",
       "    </tr>\n",
       "    <tr>\n",
       "      <th>2015-01-04</th>\n",
       "      <td>2.900789</td>\n",
       "      <td>-2.294141</td>\n",
       "      <td>0.193761</td>\n",
       "      <td>20</td>\n",
       "      <td>6</td>\n",
       "    </tr>\n",
       "    <tr>\n",
       "      <th>2015-01-05</th>\n",
       "      <td>2.797708</td>\n",
       "      <td>-1.892567</td>\n",
       "      <td>-0.369846</td>\n",
       "      <td>25</td>\n",
       "      <td>10</td>\n",
       "    </tr>\n",
       "    <tr>\n",
       "      <th>2015-01-06</th>\n",
       "      <td>3.127815</td>\n",
       "      <td>-2.233982</td>\n",
       "      <td>-0.463400</td>\n",
       "      <td>30</td>\n",
       "      <td>15</td>\n",
       "    </tr>\n",
       "  </tbody>\n",
       "</table>\n",
       "</div>"
      ],
      "text/plain": [
       "                   A         B         C   D   F\n",
       "2015-01-01  0.000000  0.000000 -0.856226   5 NaN\n",
       "2015-01-02  0.929722 -0.388930  0.400506  10   1\n",
       "2015-01-03  2.942074 -0.670932  0.288933  15   3\n",
       "2015-01-04  2.900789 -2.294141  0.193761  20   6\n",
       "2015-01-05  2.797708 -1.892567 -0.369846  25  10\n",
       "2015-01-06  3.127815 -2.233982 -0.463400  30  15"
      ]
     },
     "execution_count": 56,
     "metadata": {},
     "output_type": "execute_result"
    }
   ],
   "source": [
    "df.apply(np.cumsum)   #각 로우의 축적 합을 보여준다."
   ]
  },
  {
   "cell_type": "code",
   "execution_count": 57,
   "metadata": {
    "collapsed": false
   },
   "outputs": [
    {
     "data": {
      "text/plain": [
       "A    2.115434\n",
       "B    2.024784\n",
       "C    2.112958\n",
       "D    0.000000\n",
       "F    4.000000\n",
       "dtype: float64"
      ]
     },
     "execution_count": 57,
     "metadata": {},
     "output_type": "execute_result"
    }
   ],
   "source": [
    "df.apply(lambda x : x.max() - x.min())  #각 칼럼에서 최대값, 최소값의 차를 출력"
   ]
  },
  {
   "cell_type": "markdown",
   "metadata": {},
   "source": [
    "### Histogramming"
   ]
  },
  {
   "cell_type": "code",
   "execution_count": 58,
   "metadata": {
    "collapsed": false
   },
   "outputs": [
    {
     "data": {
      "text/plain": [
       "0    3\n",
       "1    6\n",
       "2    2\n",
       "3    5\n",
       "4    0\n",
       "5    5\n",
       "6    6\n",
       "7    6\n",
       "8    0\n",
       "9    2\n",
       "dtype: int64"
      ]
     },
     "execution_count": 58,
     "metadata": {},
     "output_type": "execute_result"
    }
   ],
   "source": [
    "s = pd.Series(np.random.randint(0, 7, size=10))   #해당 시리즈를 0~7의 수를 랜덤하게 넣고 사이즈 10만큼 만든다\n",
    "s"
   ]
  },
  {
   "cell_type": "code",
   "execution_count": 59,
   "metadata": {
    "collapsed": false
   },
   "outputs": [
    {
     "data": {
      "text/plain": [
       "6    3\n",
       "5    2\n",
       "2    2\n",
       "0    2\n",
       "3    1\n",
       "dtype: int64"
      ]
     },
     "execution_count": 59,
     "metadata": {},
     "output_type": "execute_result"
    }
   ],
   "source": [
    "s.value_counts()   #해당 값이 몇번 나왔는지 세줌"
   ]
  },
  {
   "cell_type": "markdown",
   "metadata": {},
   "source": [
    "### String Methods"
   ]
  },
  {
   "cell_type": "code",
   "execution_count": 60,
   "metadata": {
    "collapsed": true
   },
   "outputs": [],
   "source": [
    "s = pd.Series(['A', 'B', 'C', 'Aaba', 'Baca', np.nan, 'ABA', 'dog', 'cat'])"
   ]
  },
  {
   "cell_type": "code",
   "execution_count": 61,
   "metadata": {
    "collapsed": false
   },
   "outputs": [
    {
     "data": {
      "text/plain": [
       "0       a\n",
       "1       b\n",
       "2       c\n",
       "3    aaba\n",
       "4    baca\n",
       "5     NaN\n",
       "6     aba\n",
       "7     dog\n",
       "8     cat\n",
       "dtype: object"
      ]
     },
     "execution_count": 61,
     "metadata": {},
     "output_type": "execute_result"
    }
   ],
   "source": [
    "s.str.lower()   #대문자들을 소문자로 변환하는 메소드"
   ]
  },
  {
   "cell_type": "markdown",
   "metadata": {},
   "source": [
    "## Merge"
   ]
  },
  {
   "cell_type": "markdown",
   "metadata": {},
   "source": [
    "### Concat"
   ]
  },
  {
   "cell_type": "code",
   "execution_count": 62,
   "metadata": {
    "collapsed": false
   },
   "outputs": [
    {
     "data": {
      "text/html": [
       "<div>\n",
       "<table border=\"1\" class=\"dataframe\">\n",
       "  <thead>\n",
       "    <tr style=\"text-align: right;\">\n",
       "      <th></th>\n",
       "      <th>0</th>\n",
       "      <th>1</th>\n",
       "      <th>2</th>\n",
       "      <th>3</th>\n",
       "    </tr>\n",
       "  </thead>\n",
       "  <tbody>\n",
       "    <tr>\n",
       "      <th>0</th>\n",
       "      <td>1.234831</td>\n",
       "      <td>-0.460523</td>\n",
       "      <td>0.799023</td>\n",
       "      <td>-1.567827</td>\n",
       "    </tr>\n",
       "    <tr>\n",
       "      <th>1</th>\n",
       "      <td>0.717715</td>\n",
       "      <td>-0.264791</td>\n",
       "      <td>0.423762</td>\n",
       "      <td>0.175412</td>\n",
       "    </tr>\n",
       "    <tr>\n",
       "      <th>2</th>\n",
       "      <td>-0.466206</td>\n",
       "      <td>0.600525</td>\n",
       "      <td>-0.716209</td>\n",
       "      <td>-0.173869</td>\n",
       "    </tr>\n",
       "    <tr>\n",
       "      <th>3</th>\n",
       "      <td>0.648939</td>\n",
       "      <td>-0.938413</td>\n",
       "      <td>-0.359495</td>\n",
       "      <td>-0.416954</td>\n",
       "    </tr>\n",
       "    <tr>\n",
       "      <th>4</th>\n",
       "      <td>0.503541</td>\n",
       "      <td>-0.050832</td>\n",
       "      <td>-1.149563</td>\n",
       "      <td>0.146577</td>\n",
       "    </tr>\n",
       "    <tr>\n",
       "      <th>5</th>\n",
       "      <td>-0.756287</td>\n",
       "      <td>-0.167813</td>\n",
       "      <td>0.216277</td>\n",
       "      <td>0.996373</td>\n",
       "    </tr>\n",
       "    <tr>\n",
       "      <th>6</th>\n",
       "      <td>-0.091681</td>\n",
       "      <td>0.026259</td>\n",
       "      <td>0.828239</td>\n",
       "      <td>0.010357</td>\n",
       "    </tr>\n",
       "    <tr>\n",
       "      <th>7</th>\n",
       "      <td>0.387853</td>\n",
       "      <td>-1.177703</td>\n",
       "      <td>1.475571</td>\n",
       "      <td>-1.529734</td>\n",
       "    </tr>\n",
       "    <tr>\n",
       "      <th>8</th>\n",
       "      <td>-0.528675</td>\n",
       "      <td>-0.530078</td>\n",
       "      <td>1.101749</td>\n",
       "      <td>-0.694496</td>\n",
       "    </tr>\n",
       "    <tr>\n",
       "      <th>9</th>\n",
       "      <td>0.004148</td>\n",
       "      <td>-1.980893</td>\n",
       "      <td>0.140266</td>\n",
       "      <td>-1.262542</td>\n",
       "    </tr>\n",
       "  </tbody>\n",
       "</table>\n",
       "</div>"
      ],
      "text/plain": [
       "          0         1         2         3\n",
       "0  1.234831 -0.460523  0.799023 -1.567827\n",
       "1  0.717715 -0.264791  0.423762  0.175412\n",
       "2 -0.466206  0.600525 -0.716209 -0.173869\n",
       "3  0.648939 -0.938413 -0.359495 -0.416954\n",
       "4  0.503541 -0.050832 -1.149563  0.146577\n",
       "5 -0.756287 -0.167813  0.216277  0.996373\n",
       "6 -0.091681  0.026259  0.828239  0.010357\n",
       "7  0.387853 -1.177703  1.475571 -1.529734\n",
       "8 -0.528675 -0.530078  1.101749 -0.694496\n",
       "9  0.004148 -1.980893  0.140266 -1.262542"
      ]
     },
     "execution_count": 62,
     "metadata": {},
     "output_type": "execute_result"
    }
   ],
   "source": [
    "df = pd.DataFrame(np.random.randn(10, 4))   #df에 10 by 4로 랜덤 값을 넣는다.\n",
    "df"
   ]
  },
  {
   "cell_type": "code",
   "execution_count": 63,
   "metadata": {
    "collapsed": false
   },
   "outputs": [
    {
     "data": {
      "text/html": [
       "<div>\n",
       "<table border=\"1\" class=\"dataframe\">\n",
       "  <thead>\n",
       "    <tr style=\"text-align: right;\">\n",
       "      <th></th>\n",
       "      <th>0</th>\n",
       "      <th>1</th>\n",
       "      <th>2</th>\n",
       "      <th>3</th>\n",
       "    </tr>\n",
       "  </thead>\n",
       "  <tbody>\n",
       "    <tr>\n",
       "      <th>0</th>\n",
       "      <td>1.234831</td>\n",
       "      <td>-0.460523</td>\n",
       "      <td>0.799023</td>\n",
       "      <td>-1.567827</td>\n",
       "    </tr>\n",
       "    <tr>\n",
       "      <th>1</th>\n",
       "      <td>0.717715</td>\n",
       "      <td>-0.264791</td>\n",
       "      <td>0.423762</td>\n",
       "      <td>0.175412</td>\n",
       "    </tr>\n",
       "    <tr>\n",
       "      <th>2</th>\n",
       "      <td>-0.466206</td>\n",
       "      <td>0.600525</td>\n",
       "      <td>-0.716209</td>\n",
       "      <td>-0.173869</td>\n",
       "    </tr>\n",
       "    <tr>\n",
       "      <th>3</th>\n",
       "      <td>0.648939</td>\n",
       "      <td>-0.938413</td>\n",
       "      <td>-0.359495</td>\n",
       "      <td>-0.416954</td>\n",
       "    </tr>\n",
       "    <tr>\n",
       "      <th>4</th>\n",
       "      <td>0.503541</td>\n",
       "      <td>-0.050832</td>\n",
       "      <td>-1.149563</td>\n",
       "      <td>0.146577</td>\n",
       "    </tr>\n",
       "    <tr>\n",
       "      <th>5</th>\n",
       "      <td>-0.756287</td>\n",
       "      <td>-0.167813</td>\n",
       "      <td>0.216277</td>\n",
       "      <td>0.996373</td>\n",
       "    </tr>\n",
       "    <tr>\n",
       "      <th>6</th>\n",
       "      <td>-0.091681</td>\n",
       "      <td>0.026259</td>\n",
       "      <td>0.828239</td>\n",
       "      <td>0.010357</td>\n",
       "    </tr>\n",
       "    <tr>\n",
       "      <th>7</th>\n",
       "      <td>0.387853</td>\n",
       "      <td>-1.177703</td>\n",
       "      <td>1.475571</td>\n",
       "      <td>-1.529734</td>\n",
       "    </tr>\n",
       "    <tr>\n",
       "      <th>8</th>\n",
       "      <td>-0.528675</td>\n",
       "      <td>-0.530078</td>\n",
       "      <td>1.101749</td>\n",
       "      <td>-0.694496</td>\n",
       "    </tr>\n",
       "    <tr>\n",
       "      <th>9</th>\n",
       "      <td>0.004148</td>\n",
       "      <td>-1.980893</td>\n",
       "      <td>0.140266</td>\n",
       "      <td>-1.262542</td>\n",
       "    </tr>\n",
       "  </tbody>\n",
       "</table>\n",
       "</div>"
      ],
      "text/plain": [
       "          0         1         2         3\n",
       "0  1.234831 -0.460523  0.799023 -1.567827\n",
       "1  0.717715 -0.264791  0.423762  0.175412\n",
       "2 -0.466206  0.600525 -0.716209 -0.173869\n",
       "3  0.648939 -0.938413 -0.359495 -0.416954\n",
       "4  0.503541 -0.050832 -1.149563  0.146577\n",
       "5 -0.756287 -0.167813  0.216277  0.996373\n",
       "6 -0.091681  0.026259  0.828239  0.010357\n",
       "7  0.387853 -1.177703  1.475571 -1.529734\n",
       "8 -0.528675 -0.530078  1.101749 -0.694496\n",
       "9  0.004148 -1.980893  0.140266 -1.262542"
      ]
     },
     "execution_count": 63,
     "metadata": {},
     "output_type": "execute_result"
    }
   ],
   "source": [
    "pieces = [df[:3], df[3:7], df[7:]]\n",
    "pd.concat(pieces)"
   ]
  },
  {
   "cell_type": "markdown",
   "metadata": {},
   "source": [
    "### Join"
   ]
  },
  {
   "cell_type": "code",
   "execution_count": 64,
   "metadata": {
    "collapsed": false
   },
   "outputs": [
    {
     "data": {
      "text/html": [
       "<div>\n",
       "<table border=\"1\" class=\"dataframe\">\n",
       "  <thead>\n",
       "    <tr style=\"text-align: right;\">\n",
       "      <th></th>\n",
       "      <th>key</th>\n",
       "      <th>lval</th>\n",
       "    </tr>\n",
       "  </thead>\n",
       "  <tbody>\n",
       "    <tr>\n",
       "      <th>0</th>\n",
       "      <td>foo</td>\n",
       "      <td>1</td>\n",
       "    </tr>\n",
       "    <tr>\n",
       "      <th>1</th>\n",
       "      <td>foo</td>\n",
       "      <td>2</td>\n",
       "    </tr>\n",
       "  </tbody>\n",
       "</table>\n",
       "</div>"
      ],
      "text/plain": [
       "   key  lval\n",
       "0  foo     1\n",
       "1  foo     2"
      ]
     },
     "execution_count": 64,
     "metadata": {},
     "output_type": "execute_result"
    }
   ],
   "source": [
    "left = pd.DataFrame({'key': ['foo', 'foo'], 'lval': [1, 2]})    #다음의 dict를 DataFrame으로 생성\n",
    "left"
   ]
  },
  {
   "cell_type": "code",
   "execution_count": 65,
   "metadata": {
    "collapsed": false
   },
   "outputs": [
    {
     "data": {
      "text/html": [
       "<div>\n",
       "<table border=\"1\" class=\"dataframe\">\n",
       "  <thead>\n",
       "    <tr style=\"text-align: right;\">\n",
       "      <th></th>\n",
       "      <th>key</th>\n",
       "      <th>rval</th>\n",
       "    </tr>\n",
       "  </thead>\n",
       "  <tbody>\n",
       "    <tr>\n",
       "      <th>0</th>\n",
       "      <td>foo</td>\n",
       "      <td>4</td>\n",
       "    </tr>\n",
       "    <tr>\n",
       "      <th>1</th>\n",
       "      <td>foo</td>\n",
       "      <td>5</td>\n",
       "    </tr>\n",
       "  </tbody>\n",
       "</table>\n",
       "</div>"
      ],
      "text/plain": [
       "   key  rval\n",
       "0  foo     4\n",
       "1  foo     5"
      ]
     },
     "execution_count": 65,
     "metadata": {},
     "output_type": "execute_result"
    }
   ],
   "source": [
    "right = pd.DataFrame({'key': ['foo', 'foo'], 'rval': [4, 5]})\n",
    "right"
   ]
  },
  {
   "cell_type": "code",
   "execution_count": 66,
   "metadata": {
    "collapsed": false
   },
   "outputs": [
    {
     "data": {
      "text/html": [
       "<div>\n",
       "<table border=\"1\" class=\"dataframe\">\n",
       "  <thead>\n",
       "    <tr style=\"text-align: right;\">\n",
       "      <th></th>\n",
       "      <th>key</th>\n",
       "      <th>lval</th>\n",
       "      <th>rval</th>\n",
       "    </tr>\n",
       "  </thead>\n",
       "  <tbody>\n",
       "    <tr>\n",
       "      <th>0</th>\n",
       "      <td>foo</td>\n",
       "      <td>1</td>\n",
       "      <td>4</td>\n",
       "    </tr>\n",
       "    <tr>\n",
       "      <th>1</th>\n",
       "      <td>foo</td>\n",
       "      <td>1</td>\n",
       "      <td>5</td>\n",
       "    </tr>\n",
       "    <tr>\n",
       "      <th>2</th>\n",
       "      <td>foo</td>\n",
       "      <td>2</td>\n",
       "      <td>4</td>\n",
       "    </tr>\n",
       "    <tr>\n",
       "      <th>3</th>\n",
       "      <td>foo</td>\n",
       "      <td>2</td>\n",
       "      <td>5</td>\n",
       "    </tr>\n",
       "  </tbody>\n",
       "</table>\n",
       "</div>"
      ],
      "text/plain": [
       "   key  lval  rval\n",
       "0  foo     1     4\n",
       "1  foo     1     5\n",
       "2  foo     2     4\n",
       "3  foo     2     5"
      ]
     },
     "execution_count": 66,
     "metadata": {},
     "output_type": "execute_result"
    }
   ],
   "source": [
    "pd.merge(left, right, on='key')    #다음과 같이 key값을기주으로 다음을 조인 한다."
   ]
  },
  {
   "cell_type": "markdown",
   "metadata": {},
   "source": [
    "### Append"
   ]
  },
  {
   "cell_type": "code",
   "execution_count": 67,
   "metadata": {
    "collapsed": false
   },
   "outputs": [
    {
     "data": {
      "text/html": [
       "<div>\n",
       "<table border=\"1\" class=\"dataframe\">\n",
       "  <thead>\n",
       "    <tr style=\"text-align: right;\">\n",
       "      <th></th>\n",
       "      <th>A</th>\n",
       "      <th>B</th>\n",
       "      <th>C</th>\n",
       "      <th>D</th>\n",
       "    </tr>\n",
       "  </thead>\n",
       "  <tbody>\n",
       "    <tr>\n",
       "      <th>0</th>\n",
       "      <td>0.165272</td>\n",
       "      <td>0.082865</td>\n",
       "      <td>-0.551844</td>\n",
       "      <td>0.206497</td>\n",
       "    </tr>\n",
       "    <tr>\n",
       "      <th>1</th>\n",
       "      <td>-0.730289</td>\n",
       "      <td>0.541750</td>\n",
       "      <td>0.386785</td>\n",
       "      <td>-1.258608</td>\n",
       "    </tr>\n",
       "    <tr>\n",
       "      <th>2</th>\n",
       "      <td>1.340835</td>\n",
       "      <td>-0.106636</td>\n",
       "      <td>-0.030738</td>\n",
       "      <td>-0.347666</td>\n",
       "    </tr>\n",
       "    <tr>\n",
       "      <th>3</th>\n",
       "      <td>0.243820</td>\n",
       "      <td>-0.524272</td>\n",
       "      <td>1.275224</td>\n",
       "      <td>0.657129</td>\n",
       "    </tr>\n",
       "    <tr>\n",
       "      <th>4</th>\n",
       "      <td>-0.008407</td>\n",
       "      <td>-0.732034</td>\n",
       "      <td>0.961556</td>\n",
       "      <td>-1.002415</td>\n",
       "    </tr>\n",
       "    <tr>\n",
       "      <th>5</th>\n",
       "      <td>1.207540</td>\n",
       "      <td>1.566895</td>\n",
       "      <td>-1.141640</td>\n",
       "      <td>-0.111685</td>\n",
       "    </tr>\n",
       "    <tr>\n",
       "      <th>6</th>\n",
       "      <td>-0.718721</td>\n",
       "      <td>-0.158750</td>\n",
       "      <td>-1.384920</td>\n",
       "      <td>-1.047611</td>\n",
       "    </tr>\n",
       "    <tr>\n",
       "      <th>7</th>\n",
       "      <td>-1.203363</td>\n",
       "      <td>1.266083</td>\n",
       "      <td>-0.627112</td>\n",
       "      <td>0.351289</td>\n",
       "    </tr>\n",
       "  </tbody>\n",
       "</table>\n",
       "</div>"
      ],
      "text/plain": [
       "          A         B         C         D\n",
       "0  0.165272  0.082865 -0.551844  0.206497\n",
       "1 -0.730289  0.541750  0.386785 -1.258608\n",
       "2  1.340835 -0.106636 -0.030738 -0.347666\n",
       "3  0.243820 -0.524272  1.275224  0.657129\n",
       "4 -0.008407 -0.732034  0.961556 -1.002415\n",
       "5  1.207540  1.566895 -1.141640 -0.111685\n",
       "6 -0.718721 -0.158750 -1.384920 -1.047611\n",
       "7 -1.203363  1.266083 -0.627112  0.351289"
      ]
     },
     "execution_count": 67,
     "metadata": {},
     "output_type": "execute_result"
    }
   ],
   "source": [
    "df = pd.DataFrame(np.random.randn(8, 4), columns=['A','B','C','D'])\n",
    "df"
   ]
  },
  {
   "cell_type": "code",
   "execution_count": 68,
   "metadata": {
    "collapsed": true
   },
   "outputs": [],
   "source": [
    "s = df.iloc[3]   #df에서 2번 로우의 값을 s에 저장"
   ]
  },
  {
   "cell_type": "code",
   "execution_count": 69,
   "metadata": {
    "collapsed": false
   },
   "outputs": [
    {
     "data": {
      "text/html": [
       "<div>\n",
       "<table border=\"1\" class=\"dataframe\">\n",
       "  <thead>\n",
       "    <tr style=\"text-align: right;\">\n",
       "      <th></th>\n",
       "      <th>A</th>\n",
       "      <th>B</th>\n",
       "      <th>C</th>\n",
       "      <th>D</th>\n",
       "    </tr>\n",
       "  </thead>\n",
       "  <tbody>\n",
       "    <tr>\n",
       "      <th>0</th>\n",
       "      <td>0.165272</td>\n",
       "      <td>0.082865</td>\n",
       "      <td>-0.551844</td>\n",
       "      <td>0.206497</td>\n",
       "    </tr>\n",
       "    <tr>\n",
       "      <th>1</th>\n",
       "      <td>-0.730289</td>\n",
       "      <td>0.541750</td>\n",
       "      <td>0.386785</td>\n",
       "      <td>-1.258608</td>\n",
       "    </tr>\n",
       "    <tr>\n",
       "      <th>2</th>\n",
       "      <td>1.340835</td>\n",
       "      <td>-0.106636</td>\n",
       "      <td>-0.030738</td>\n",
       "      <td>-0.347666</td>\n",
       "    </tr>\n",
       "    <tr>\n",
       "      <th>3</th>\n",
       "      <td>0.243820</td>\n",
       "      <td>-0.524272</td>\n",
       "      <td>1.275224</td>\n",
       "      <td>0.657129</td>\n",
       "    </tr>\n",
       "    <tr>\n",
       "      <th>4</th>\n",
       "      <td>-0.008407</td>\n",
       "      <td>-0.732034</td>\n",
       "      <td>0.961556</td>\n",
       "      <td>-1.002415</td>\n",
       "    </tr>\n",
       "    <tr>\n",
       "      <th>5</th>\n",
       "      <td>1.207540</td>\n",
       "      <td>1.566895</td>\n",
       "      <td>-1.141640</td>\n",
       "      <td>-0.111685</td>\n",
       "    </tr>\n",
       "    <tr>\n",
       "      <th>6</th>\n",
       "      <td>-0.718721</td>\n",
       "      <td>-0.158750</td>\n",
       "      <td>-1.384920</td>\n",
       "      <td>-1.047611</td>\n",
       "    </tr>\n",
       "    <tr>\n",
       "      <th>7</th>\n",
       "      <td>-1.203363</td>\n",
       "      <td>1.266083</td>\n",
       "      <td>-0.627112</td>\n",
       "      <td>0.351289</td>\n",
       "    </tr>\n",
       "    <tr>\n",
       "      <th>8</th>\n",
       "      <td>0.243820</td>\n",
       "      <td>-0.524272</td>\n",
       "      <td>1.275224</td>\n",
       "      <td>0.657129</td>\n",
       "    </tr>\n",
       "  </tbody>\n",
       "</table>\n",
       "</div>"
      ],
      "text/plain": [
       "          A         B         C         D\n",
       "0  0.165272  0.082865 -0.551844  0.206497\n",
       "1 -0.730289  0.541750  0.386785 -1.258608\n",
       "2  1.340835 -0.106636 -0.030738 -0.347666\n",
       "3  0.243820 -0.524272  1.275224  0.657129\n",
       "4 -0.008407 -0.732034  0.961556 -1.002415\n",
       "5  1.207540  1.566895 -1.141640 -0.111685\n",
       "6 -0.718721 -0.158750 -1.384920 -1.047611\n",
       "7 -1.203363  1.266083 -0.627112  0.351289\n",
       "8  0.243820 -0.524272  1.275224  0.657129"
      ]
     },
     "execution_count": 69,
     "metadata": {},
     "output_type": "execute_result"
    }
   ],
   "source": [
    "df.append(s, ignore_index=True)   #append 함수를 이용하여 8번 로우를 추가하며, 2번과 똑같음을 확인 가능"
   ]
  },
  {
   "cell_type": "markdown",
   "metadata": {},
   "source": [
    "## Grouping"
   ]
  },
  {
   "cell_type": "code",
   "execution_count": 70,
   "metadata": {
    "collapsed": false
   },
   "outputs": [
    {
     "data": {
      "text/html": [
       "<div>\n",
       "<table border=\"1\" class=\"dataframe\">\n",
       "  <thead>\n",
       "    <tr style=\"text-align: right;\">\n",
       "      <th></th>\n",
       "      <th>A</th>\n",
       "      <th>B</th>\n",
       "      <th>C</th>\n",
       "      <th>D</th>\n",
       "    </tr>\n",
       "  </thead>\n",
       "  <tbody>\n",
       "    <tr>\n",
       "      <th>0</th>\n",
       "      <td>foo</td>\n",
       "      <td>one</td>\n",
       "      <td>-0.069121</td>\n",
       "      <td>-0.781185</td>\n",
       "    </tr>\n",
       "    <tr>\n",
       "      <th>1</th>\n",
       "      <td>bar</td>\n",
       "      <td>one</td>\n",
       "      <td>-0.985287</td>\n",
       "      <td>1.040721</td>\n",
       "    </tr>\n",
       "    <tr>\n",
       "      <th>2</th>\n",
       "      <td>foo</td>\n",
       "      <td>two</td>\n",
       "      <td>-0.349639</td>\n",
       "      <td>-0.624360</td>\n",
       "    </tr>\n",
       "    <tr>\n",
       "      <th>3</th>\n",
       "      <td>bar</td>\n",
       "      <td>three</td>\n",
       "      <td>-0.994374</td>\n",
       "      <td>2.253465</td>\n",
       "    </tr>\n",
       "    <tr>\n",
       "      <th>4</th>\n",
       "      <td>foo</td>\n",
       "      <td>two</td>\n",
       "      <td>0.414582</td>\n",
       "      <td>1.354750</td>\n",
       "    </tr>\n",
       "    <tr>\n",
       "      <th>5</th>\n",
       "      <td>bar</td>\n",
       "      <td>two</td>\n",
       "      <td>-1.434118</td>\n",
       "      <td>-0.045867</td>\n",
       "    </tr>\n",
       "    <tr>\n",
       "      <th>6</th>\n",
       "      <td>foo</td>\n",
       "      <td>one</td>\n",
       "      <td>-0.469553</td>\n",
       "      <td>0.989046</td>\n",
       "    </tr>\n",
       "    <tr>\n",
       "      <th>7</th>\n",
       "      <td>foo</td>\n",
       "      <td>three</td>\n",
       "      <td>2.072005</td>\n",
       "      <td>-1.193670</td>\n",
       "    </tr>\n",
       "  </tbody>\n",
       "</table>\n",
       "</div>"
      ],
      "text/plain": [
       "     A      B         C         D\n",
       "0  foo    one -0.069121 -0.781185\n",
       "1  bar    one -0.985287  1.040721\n",
       "2  foo    two -0.349639 -0.624360\n",
       "3  bar  three -0.994374  2.253465\n",
       "4  foo    two  0.414582  1.354750\n",
       "5  bar    two -1.434118 -0.045867\n",
       "6  foo    one -0.469553  0.989046\n",
       "7  foo  three  2.072005 -1.193670"
      ]
     },
     "execution_count": 70,
     "metadata": {},
     "output_type": "execute_result"
    }
   ],
   "source": [
    "df = pd.DataFrame({'A' : ['foo', 'bar', 'foo', 'bar','foo', 'bar', 'foo', 'foo'],\n",
    "                   'B' : ['one', 'one', 'two', 'three', 'two', 'two', 'one', 'three'],\n",
    "                   'C' : np.random.randn(8),\n",
    "                   'D' : np.random.randn(8)})\n",
    "df"
   ]
  },
  {
   "cell_type": "code",
   "execution_count": 71,
   "metadata": {
    "collapsed": false
   },
   "outputs": [
    {
     "data": {
      "text/html": [
       "<div>\n",
       "<table border=\"1\" class=\"dataframe\">\n",
       "  <thead>\n",
       "    <tr style=\"text-align: right;\">\n",
       "      <th></th>\n",
       "      <th>C</th>\n",
       "      <th>D</th>\n",
       "    </tr>\n",
       "    <tr>\n",
       "      <th>A</th>\n",
       "      <th></th>\n",
       "      <th></th>\n",
       "    </tr>\n",
       "  </thead>\n",
       "  <tbody>\n",
       "    <tr>\n",
       "      <th>bar</th>\n",
       "      <td>-3.413779</td>\n",
       "      <td>3.248319</td>\n",
       "    </tr>\n",
       "    <tr>\n",
       "      <th>foo</th>\n",
       "      <td>1.598273</td>\n",
       "      <td>-0.255419</td>\n",
       "    </tr>\n",
       "  </tbody>\n",
       "</table>\n",
       "</div>"
      ],
      "text/plain": [
       "            C         D\n",
       "A                      \n",
       "bar -3.413779  3.248319\n",
       "foo  1.598273 -0.255419"
      ]
     },
     "execution_count": 71,
     "metadata": {},
     "output_type": "execute_result"
    }
   ],
   "source": [
    "df.groupby('A').sum()   #A칼럼의 값을 기준으로 C와 D의 값들의 합을 표시"
   ]
  },
  {
   "cell_type": "code",
   "execution_count": 72,
   "metadata": {
    "collapsed": false
   },
   "outputs": [
    {
     "data": {
      "text/html": [
       "<div>\n",
       "<table border=\"1\" class=\"dataframe\">\n",
       "  <thead>\n",
       "    <tr style=\"text-align: right;\">\n",
       "      <th></th>\n",
       "      <th></th>\n",
       "      <th>C</th>\n",
       "      <th>D</th>\n",
       "    </tr>\n",
       "    <tr>\n",
       "      <th>A</th>\n",
       "      <th>B</th>\n",
       "      <th></th>\n",
       "      <th></th>\n",
       "    </tr>\n",
       "  </thead>\n",
       "  <tbody>\n",
       "    <tr>\n",
       "      <th rowspan=\"3\" valign=\"top\">bar</th>\n",
       "      <th>one</th>\n",
       "      <td>-0.985287</td>\n",
       "      <td>1.040721</td>\n",
       "    </tr>\n",
       "    <tr>\n",
       "      <th>three</th>\n",
       "      <td>-0.994374</td>\n",
       "      <td>2.253465</td>\n",
       "    </tr>\n",
       "    <tr>\n",
       "      <th>two</th>\n",
       "      <td>-1.434118</td>\n",
       "      <td>-0.045867</td>\n",
       "    </tr>\n",
       "    <tr>\n",
       "      <th rowspan=\"3\" valign=\"top\">foo</th>\n",
       "      <th>one</th>\n",
       "      <td>-0.538675</td>\n",
       "      <td>0.207861</td>\n",
       "    </tr>\n",
       "    <tr>\n",
       "      <th>three</th>\n",
       "      <td>2.072005</td>\n",
       "      <td>-1.193670</td>\n",
       "    </tr>\n",
       "    <tr>\n",
       "      <th>two</th>\n",
       "      <td>0.064942</td>\n",
       "      <td>0.730390</td>\n",
       "    </tr>\n",
       "  </tbody>\n",
       "</table>\n",
       "</div>"
      ],
      "text/plain": [
       "                  C         D\n",
       "A   B                        \n",
       "bar one   -0.985287  1.040721\n",
       "    three -0.994374  2.253465\n",
       "    two   -1.434118 -0.045867\n",
       "foo one   -0.538675  0.207861\n",
       "    three  2.072005 -1.193670\n",
       "    two    0.064942  0.730390"
      ]
     },
     "execution_count": 72,
     "metadata": {},
     "output_type": "execute_result"
    }
   ],
   "source": [
    "df.groupby(['A','B']).sum()   #A와 B칼럼을 기준으로 C와 D 칼럼 값의 합들을 표시"
   ]
  },
  {
   "cell_type": "markdown",
   "metadata": {},
   "source": [
    "##  Reshaping"
   ]
  },
  {
   "cell_type": "markdown",
   "metadata": {},
   "source": [
    "### Stack"
   ]
  },
  {
   "cell_type": "code",
   "execution_count": 73,
   "metadata": {
    "collapsed": true
   },
   "outputs": [],
   "source": [
    "tuples = list(zip(*[['bar', 'bar', 'baz', 'baz', 'foo', 'foo', 'qux', 'qux'],\n",
    "                    ['one', 'two', 'one', 'two', 'one', 'two', 'one', 'two']]))"
   ]
  },
  {
   "cell_type": "code",
   "execution_count": 74,
   "metadata": {
    "collapsed": true
   },
   "outputs": [],
   "source": [
    "index = pd.MultiIndex.from_tuples(tuples, names=['first', 'second'])"
   ]
  },
  {
   "cell_type": "code",
   "execution_count": 75,
   "metadata": {
    "collapsed": true
   },
   "outputs": [],
   "source": [
    "df = pd.DataFrame(np.random.randn(8, 2), index=index, columns=['A', 'B'])   #df에 위에서 만든 튜플을 인덱스와 칼럼을 추가하여 생성"
   ]
  },
  {
   "cell_type": "code",
   "execution_count": 76,
   "metadata": {
    "collapsed": true
   },
   "outputs": [],
   "source": [
    "df2 = df[:4]"
   ]
  },
  {
   "cell_type": "code",
   "execution_count": 77,
   "metadata": {
    "collapsed": false
   },
   "outputs": [
    {
     "data": {
      "text/html": [
       "<div>\n",
       "<table border=\"1\" class=\"dataframe\">\n",
       "  <thead>\n",
       "    <tr style=\"text-align: right;\">\n",
       "      <th></th>\n",
       "      <th></th>\n",
       "      <th>A</th>\n",
       "      <th>B</th>\n",
       "    </tr>\n",
       "    <tr>\n",
       "      <th>first</th>\n",
       "      <th>second</th>\n",
       "      <th></th>\n",
       "      <th></th>\n",
       "    </tr>\n",
       "  </thead>\n",
       "  <tbody>\n",
       "    <tr>\n",
       "      <th rowspan=\"2\" valign=\"top\">bar</th>\n",
       "      <th>one</th>\n",
       "      <td>0.787839</td>\n",
       "      <td>-1.734751</td>\n",
       "    </tr>\n",
       "    <tr>\n",
       "      <th>two</th>\n",
       "      <td>1.445053</td>\n",
       "      <td>-0.130926</td>\n",
       "    </tr>\n",
       "    <tr>\n",
       "      <th rowspan=\"2\" valign=\"top\">baz</th>\n",
       "      <th>one</th>\n",
       "      <td>-0.464413</td>\n",
       "      <td>-1.006819</td>\n",
       "    </tr>\n",
       "    <tr>\n",
       "      <th>two</th>\n",
       "      <td>-1.223304</td>\n",
       "      <td>-1.096079</td>\n",
       "    </tr>\n",
       "    <tr>\n",
       "      <th rowspan=\"2\" valign=\"top\">foo</th>\n",
       "      <th>one</th>\n",
       "      <td>0.006821</td>\n",
       "      <td>-1.723728</td>\n",
       "    </tr>\n",
       "    <tr>\n",
       "      <th>two</th>\n",
       "      <td>1.164080</td>\n",
       "      <td>-0.763340</td>\n",
       "    </tr>\n",
       "    <tr>\n",
       "      <th rowspan=\"2\" valign=\"top\">qux</th>\n",
       "      <th>one</th>\n",
       "      <td>0.591387</td>\n",
       "      <td>-0.561372</td>\n",
       "    </tr>\n",
       "    <tr>\n",
       "      <th>two</th>\n",
       "      <td>0.325202</td>\n",
       "      <td>-2.866963</td>\n",
       "    </tr>\n",
       "  </tbody>\n",
       "</table>\n",
       "</div>"
      ],
      "text/plain": [
       "                     A         B\n",
       "first second                    \n",
       "bar   one     0.787839 -1.734751\n",
       "      two     1.445053 -0.130926\n",
       "baz   one    -0.464413 -1.006819\n",
       "      two    -1.223304 -1.096079\n",
       "foo   one     0.006821 -1.723728\n",
       "      two     1.164080 -0.763340\n",
       "qux   one     0.591387 -0.561372\n",
       "      two     0.325202 -2.866963"
      ]
     },
     "execution_count": 77,
     "metadata": {},
     "output_type": "execute_result"
    }
   ],
   "source": [
    "df"
   ]
  },
  {
   "cell_type": "code",
   "execution_count": 78,
   "metadata": {
    "collapsed": false
   },
   "outputs": [
    {
     "data": {
      "text/plain": [
       "first  second   \n",
       "bar    one     A    0.787839\n",
       "               B   -1.734751\n",
       "       two     A    1.445053\n",
       "               B   -0.130926\n",
       "baz    one     A   -0.464413\n",
       "               B   -1.006819\n",
       "       two     A   -1.223304\n",
       "               B   -1.096079\n",
       "dtype: float64"
      ]
     },
     "execution_count": 78,
     "metadata": {},
     "output_type": "execute_result"
    }
   ],
   "source": [
    "stacked = df2.stack()   #stack 메서드를 활용하여 다음처럼 값들을 차례로 스택에 쌓듯 저장\n",
    "stacked"
   ]
  },
  {
   "cell_type": "code",
   "execution_count": 79,
   "metadata": {
    "collapsed": false
   },
   "outputs": [
    {
     "data": {
      "text/plain": [
       "pandas.core.series.Series"
      ]
     },
     "execution_count": 79,
     "metadata": {},
     "output_type": "execute_result"
    }
   ],
   "source": [
    "type(stacked)"
   ]
  },
  {
   "cell_type": "code",
   "execution_count": 80,
   "metadata": {
    "collapsed": false
   },
   "outputs": [
    {
     "data": {
      "text/html": [
       "<div>\n",
       "<table border=\"1\" class=\"dataframe\">\n",
       "  <thead>\n",
       "    <tr style=\"text-align: right;\">\n",
       "      <th></th>\n",
       "      <th>second</th>\n",
       "      <th>one</th>\n",
       "      <th>two</th>\n",
       "    </tr>\n",
       "    <tr>\n",
       "      <th>first</th>\n",
       "      <th></th>\n",
       "      <th></th>\n",
       "      <th></th>\n",
       "    </tr>\n",
       "  </thead>\n",
       "  <tbody>\n",
       "    <tr>\n",
       "      <th rowspan=\"2\" valign=\"top\">bar</th>\n",
       "      <th>A</th>\n",
       "      <td>0.787839</td>\n",
       "      <td>1.445053</td>\n",
       "    </tr>\n",
       "    <tr>\n",
       "      <th>B</th>\n",
       "      <td>-1.734751</td>\n",
       "      <td>-0.130926</td>\n",
       "    </tr>\n",
       "    <tr>\n",
       "      <th rowspan=\"2\" valign=\"top\">baz</th>\n",
       "      <th>A</th>\n",
       "      <td>-0.464413</td>\n",
       "      <td>-1.223304</td>\n",
       "    </tr>\n",
       "    <tr>\n",
       "      <th>B</th>\n",
       "      <td>-1.006819</td>\n",
       "      <td>-1.096079</td>\n",
       "    </tr>\n",
       "  </tbody>\n",
       "</table>\n",
       "</div>"
      ],
      "text/plain": [
       "second        one       two\n",
       "first                      \n",
       "bar   A  0.787839  1.445053\n",
       "      B -1.734751 -0.130926\n",
       "baz   A -0.464413 -1.223304\n",
       "      B -1.006819 -1.096079"
      ]
     },
     "execution_count": 80,
     "metadata": {},
     "output_type": "execute_result"
    }
   ],
   "source": [
    "stacked.unstack(1)   #0과 1은 기준에 대한 것이며 1은 세로 0은 가로를 뜻함"
   ]
  },
  {
   "cell_type": "code",
   "execution_count": 81,
   "metadata": {
    "collapsed": false
   },
   "outputs": [
    {
     "data": {
      "text/html": [
       "<div>\n",
       "<table border=\"1\" class=\"dataframe\">\n",
       "  <thead>\n",
       "    <tr style=\"text-align: right;\">\n",
       "      <th></th>\n",
       "      <th>first</th>\n",
       "      <th>bar</th>\n",
       "      <th>baz</th>\n",
       "    </tr>\n",
       "    <tr>\n",
       "      <th>second</th>\n",
       "      <th></th>\n",
       "      <th></th>\n",
       "      <th></th>\n",
       "    </tr>\n",
       "  </thead>\n",
       "  <tbody>\n",
       "    <tr>\n",
       "      <th rowspan=\"2\" valign=\"top\">one</th>\n",
       "      <th>A</th>\n",
       "      <td>0.787839</td>\n",
       "      <td>-0.464413</td>\n",
       "    </tr>\n",
       "    <tr>\n",
       "      <th>B</th>\n",
       "      <td>-1.734751</td>\n",
       "      <td>-1.006819</td>\n",
       "    </tr>\n",
       "    <tr>\n",
       "      <th rowspan=\"2\" valign=\"top\">two</th>\n",
       "      <th>A</th>\n",
       "      <td>1.445053</td>\n",
       "      <td>-1.223304</td>\n",
       "    </tr>\n",
       "    <tr>\n",
       "      <th>B</th>\n",
       "      <td>-0.130926</td>\n",
       "      <td>-1.096079</td>\n",
       "    </tr>\n",
       "  </tbody>\n",
       "</table>\n",
       "</div>"
      ],
      "text/plain": [
       "first          bar       baz\n",
       "second                      \n",
       "one    A  0.787839 -0.464413\n",
       "       B -1.734751 -1.006819\n",
       "two    A  1.445053 -1.223304\n",
       "       B -0.130926 -1.096079"
      ]
     },
     "execution_count": 81,
     "metadata": {},
     "output_type": "execute_result"
    }
   ],
   "source": [
    "stacked.unstack(0)"
   ]
  },
  {
   "cell_type": "markdown",
   "metadata": {},
   "source": [
    "### Pivot Tables"
   ]
  },
  {
   "cell_type": "code",
   "execution_count": 82,
   "metadata": {
    "collapsed": false
   },
   "outputs": [
    {
     "data": {
      "text/html": [
       "<div>\n",
       "<table border=\"1\" class=\"dataframe\">\n",
       "  <thead>\n",
       "    <tr style=\"text-align: right;\">\n",
       "      <th></th>\n",
       "      <th>A</th>\n",
       "      <th>B</th>\n",
       "      <th>C</th>\n",
       "      <th>D</th>\n",
       "      <th>E</th>\n",
       "    </tr>\n",
       "  </thead>\n",
       "  <tbody>\n",
       "    <tr>\n",
       "      <th>0</th>\n",
       "      <td>one</td>\n",
       "      <td>A</td>\n",
       "      <td>foo</td>\n",
       "      <td>1.208807</td>\n",
       "      <td>-0.036585</td>\n",
       "    </tr>\n",
       "    <tr>\n",
       "      <th>1</th>\n",
       "      <td>one</td>\n",
       "      <td>B</td>\n",
       "      <td>foo</td>\n",
       "      <td>0.533148</td>\n",
       "      <td>-0.892547</td>\n",
       "    </tr>\n",
       "    <tr>\n",
       "      <th>2</th>\n",
       "      <td>two</td>\n",
       "      <td>C</td>\n",
       "      <td>foo</td>\n",
       "      <td>-0.897712</td>\n",
       "      <td>0.098087</td>\n",
       "    </tr>\n",
       "    <tr>\n",
       "      <th>3</th>\n",
       "      <td>three</td>\n",
       "      <td>A</td>\n",
       "      <td>bar</td>\n",
       "      <td>0.885821</td>\n",
       "      <td>-0.318439</td>\n",
       "    </tr>\n",
       "    <tr>\n",
       "      <th>4</th>\n",
       "      <td>one</td>\n",
       "      <td>B</td>\n",
       "      <td>bar</td>\n",
       "      <td>-0.311297</td>\n",
       "      <td>-0.780571</td>\n",
       "    </tr>\n",
       "    <tr>\n",
       "      <th>5</th>\n",
       "      <td>one</td>\n",
       "      <td>C</td>\n",
       "      <td>bar</td>\n",
       "      <td>-1.152387</td>\n",
       "      <td>0.231773</td>\n",
       "    </tr>\n",
       "    <tr>\n",
       "      <th>6</th>\n",
       "      <td>two</td>\n",
       "      <td>A</td>\n",
       "      <td>foo</td>\n",
       "      <td>-0.598430</td>\n",
       "      <td>-1.402443</td>\n",
       "    </tr>\n",
       "    <tr>\n",
       "      <th>7</th>\n",
       "      <td>three</td>\n",
       "      <td>B</td>\n",
       "      <td>foo</td>\n",
       "      <td>-0.249801</td>\n",
       "      <td>0.841591</td>\n",
       "    </tr>\n",
       "    <tr>\n",
       "      <th>8</th>\n",
       "      <td>one</td>\n",
       "      <td>C</td>\n",
       "      <td>foo</td>\n",
       "      <td>-1.764738</td>\n",
       "      <td>1.232792</td>\n",
       "    </tr>\n",
       "    <tr>\n",
       "      <th>9</th>\n",
       "      <td>one</td>\n",
       "      <td>A</td>\n",
       "      <td>bar</td>\n",
       "      <td>0.635876</td>\n",
       "      <td>-1.452110</td>\n",
       "    </tr>\n",
       "    <tr>\n",
       "      <th>10</th>\n",
       "      <td>two</td>\n",
       "      <td>B</td>\n",
       "      <td>bar</td>\n",
       "      <td>1.051964</td>\n",
       "      <td>0.578269</td>\n",
       "    </tr>\n",
       "    <tr>\n",
       "      <th>11</th>\n",
       "      <td>three</td>\n",
       "      <td>C</td>\n",
       "      <td>bar</td>\n",
       "      <td>-0.498132</td>\n",
       "      <td>0.693127</td>\n",
       "    </tr>\n",
       "  </tbody>\n",
       "</table>\n",
       "</div>"
      ],
      "text/plain": [
       "        A  B    C         D         E\n",
       "0     one  A  foo  1.208807 -0.036585\n",
       "1     one  B  foo  0.533148 -0.892547\n",
       "2     two  C  foo -0.897712  0.098087\n",
       "3   three  A  bar  0.885821 -0.318439\n",
       "4     one  B  bar -0.311297 -0.780571\n",
       "5     one  C  bar -1.152387  0.231773\n",
       "6     two  A  foo -0.598430 -1.402443\n",
       "7   three  B  foo -0.249801  0.841591\n",
       "8     one  C  foo -1.764738  1.232792\n",
       "9     one  A  bar  0.635876 -1.452110\n",
       "10    two  B  bar  1.051964  0.578269\n",
       "11  three  C  bar -0.498132  0.693127"
      ]
     },
     "execution_count": 82,
     "metadata": {},
     "output_type": "execute_result"
    }
   ],
   "source": [
    "df = pd.DataFrame({'A' : ['one', 'one', 'two', 'three'] * 3,\n",
    "                   'B' : ['A', 'B', 'C'] * 4,\n",
    "                   'C' : ['foo', 'foo', 'foo', 'bar', 'bar', 'bar'] * 2,\n",
    "                   'D' : np.random.randn(12),\n",
    "                   'E' : np.random.randn(12)})\n",
    "df"
   ]
  },
  {
   "cell_type": "code",
   "execution_count": 83,
   "metadata": {
    "collapsed": false
   },
   "outputs": [
    {
     "data": {
      "text/html": [
       "<div>\n",
       "<table border=\"1\" class=\"dataframe\">\n",
       "  <thead>\n",
       "    <tr style=\"text-align: right;\">\n",
       "      <th></th>\n",
       "      <th>C</th>\n",
       "      <th>bar</th>\n",
       "      <th>foo</th>\n",
       "    </tr>\n",
       "    <tr>\n",
       "      <th>A</th>\n",
       "      <th>B</th>\n",
       "      <th></th>\n",
       "      <th></th>\n",
       "    </tr>\n",
       "  </thead>\n",
       "  <tbody>\n",
       "    <tr>\n",
       "      <th rowspan=\"3\" valign=\"top\">one</th>\n",
       "      <th>A</th>\n",
       "      <td>0.635876</td>\n",
       "      <td>1.208807</td>\n",
       "    </tr>\n",
       "    <tr>\n",
       "      <th>B</th>\n",
       "      <td>-0.311297</td>\n",
       "      <td>0.533148</td>\n",
       "    </tr>\n",
       "    <tr>\n",
       "      <th>C</th>\n",
       "      <td>-1.152387</td>\n",
       "      <td>-1.764738</td>\n",
       "    </tr>\n",
       "    <tr>\n",
       "      <th rowspan=\"3\" valign=\"top\">three</th>\n",
       "      <th>A</th>\n",
       "      <td>0.885821</td>\n",
       "      <td>NaN</td>\n",
       "    </tr>\n",
       "    <tr>\n",
       "      <th>B</th>\n",
       "      <td>NaN</td>\n",
       "      <td>-0.249801</td>\n",
       "    </tr>\n",
       "    <tr>\n",
       "      <th>C</th>\n",
       "      <td>-0.498132</td>\n",
       "      <td>NaN</td>\n",
       "    </tr>\n",
       "    <tr>\n",
       "      <th rowspan=\"3\" valign=\"top\">two</th>\n",
       "      <th>A</th>\n",
       "      <td>NaN</td>\n",
       "      <td>-0.598430</td>\n",
       "    </tr>\n",
       "    <tr>\n",
       "      <th>B</th>\n",
       "      <td>1.051964</td>\n",
       "      <td>NaN</td>\n",
       "    </tr>\n",
       "    <tr>\n",
       "      <th>C</th>\n",
       "      <td>NaN</td>\n",
       "      <td>-0.897712</td>\n",
       "    </tr>\n",
       "  </tbody>\n",
       "</table>\n",
       "</div>"
      ],
      "text/plain": [
       "C             bar       foo\n",
       "A     B                    \n",
       "one   A  0.635876  1.208807\n",
       "      B -0.311297  0.533148\n",
       "      C -1.152387 -1.764738\n",
       "three A  0.885821       NaN\n",
       "      B       NaN -0.249801\n",
       "      C -0.498132       NaN\n",
       "two   A       NaN -0.598430\n",
       "      B  1.051964       NaN\n",
       "      C       NaN -0.897712"
      ]
     },
     "execution_count": 83,
     "metadata": {},
     "output_type": "execute_result"
    }
   ],
   "source": [
    "pd.pivot_table(df, values='D', index=['A', 'B'], columns=['C'])   #D의 값으로 df의 인덱스를 A와 B로 칼럼은 C로 하여 피보테이블생성"
   ]
  },
  {
   "cell_type": "markdown",
   "metadata": {},
   "source": [
    "## Time Series"
   ]
  },
  {
   "cell_type": "code",
   "execution_count": 84,
   "metadata": {
    "collapsed": true
   },
   "outputs": [],
   "source": [
    "rng = pd.date_range('1/1/2015', periods=100, freq='S')"
   ]
  },
  {
   "cell_type": "code",
   "execution_count": 85,
   "metadata": {
    "collapsed": true
   },
   "outputs": [],
   "source": [
    "ts = pd.Series(np.random.randint(0, 500, len(rng)), index=rng)   #시리즈에 0~499의 수를 랜덤으로 rng의 크기만큼 입력"
   ]
  },
  {
   "cell_type": "code",
   "execution_count": 86,
   "metadata": {
    "collapsed": false
   },
   "outputs": [
    {
     "data": {
      "text/plain": [
       "2015-01-01 00:00:00    148\n",
       "2015-01-01 00:00:01    330\n",
       "2015-01-01 00:00:02     53\n",
       "2015-01-01 00:00:03    143\n",
       "2015-01-01 00:00:04    422\n",
       "2015-01-01 00:00:05    101\n",
       "2015-01-01 00:00:06    457\n",
       "2015-01-01 00:00:07    172\n",
       "2015-01-01 00:00:08    451\n",
       "2015-01-01 00:00:09    212\n",
       "2015-01-01 00:00:10     76\n",
       "2015-01-01 00:00:11    235\n",
       "2015-01-01 00:00:12    163\n",
       "2015-01-01 00:00:13    411\n",
       "2015-01-01 00:00:14    205\n",
       "2015-01-01 00:00:15    251\n",
       "2015-01-01 00:00:16    137\n",
       "2015-01-01 00:00:17    494\n",
       "2015-01-01 00:00:18     78\n",
       "2015-01-01 00:00:19    170\n",
       "2015-01-01 00:00:20    106\n",
       "2015-01-01 00:00:21    145\n",
       "2015-01-01 00:00:22     88\n",
       "2015-01-01 00:00:23    387\n",
       "2015-01-01 00:00:24    267\n",
       "2015-01-01 00:00:25    173\n",
       "2015-01-01 00:00:26    335\n",
       "2015-01-01 00:00:27    346\n",
       "2015-01-01 00:00:28    284\n",
       "2015-01-01 00:00:29    166\n",
       "                      ... \n",
       "2015-01-01 00:01:10     57\n",
       "2015-01-01 00:01:11     41\n",
       "2015-01-01 00:01:12    209\n",
       "2015-01-01 00:01:13    432\n",
       "2015-01-01 00:01:14    467\n",
       "2015-01-01 00:01:15    486\n",
       "2015-01-01 00:01:16    340\n",
       "2015-01-01 00:01:17    387\n",
       "2015-01-01 00:01:18     10\n",
       "2015-01-01 00:01:19    424\n",
       "2015-01-01 00:01:20    403\n",
       "2015-01-01 00:01:21    252\n",
       "2015-01-01 00:01:22    163\n",
       "2015-01-01 00:01:23    204\n",
       "2015-01-01 00:01:24    345\n",
       "2015-01-01 00:01:25    236\n",
       "2015-01-01 00:01:26    465\n",
       "2015-01-01 00:01:27    320\n",
       "2015-01-01 00:01:28    154\n",
       "2015-01-01 00:01:29    112\n",
       "2015-01-01 00:01:30    329\n",
       "2015-01-01 00:01:31    134\n",
       "2015-01-01 00:01:32    101\n",
       "2015-01-01 00:01:33    338\n",
       "2015-01-01 00:01:34    426\n",
       "2015-01-01 00:01:35    189\n",
       "2015-01-01 00:01:36    411\n",
       "2015-01-01 00:01:37    309\n",
       "2015-01-01 00:01:38    188\n",
       "2015-01-01 00:01:39    426\n",
       "Freq: S, dtype: int64"
      ]
     },
     "execution_count": 86,
     "metadata": {},
     "output_type": "execute_result"
    }
   ],
   "source": [
    "ts"
   ]
  },
  {
   "cell_type": "code",
   "execution_count": 87,
   "metadata": {
    "collapsed": false
   },
   "outputs": [
    {
     "data": {
      "text/plain": [
       "2015-01-01    26789\n",
       "Freq: 5T, dtype: int64"
      ]
     },
     "execution_count": 87,
     "metadata": {},
     "output_type": "execute_result"
    }
   ],
   "source": [
    "ts.resample('5Min', how='sum')   #다 합침"
   ]
  },
  {
   "cell_type": "code",
   "execution_count": 88,
   "metadata": {
    "collapsed": true
   },
   "outputs": [],
   "source": [
    "rng = pd.date_range('3/6/2015 00:00', periods=5, freq='D')   #다음과 같이 만든다. 주기는 Day"
   ]
  },
  {
   "cell_type": "code",
   "execution_count": 89,
   "metadata": {
    "collapsed": false
   },
   "outputs": [
    {
     "data": {
      "text/plain": [
       "DatetimeIndex(['2015-03-06', '2015-03-07', '2015-03-08', '2015-03-09',\n",
       "               '2015-03-10'],\n",
       "              dtype='datetime64[ns]', freq='D', tz=None)"
      ]
     },
     "execution_count": 89,
     "metadata": {},
     "output_type": "execute_result"
    }
   ],
   "source": [
    "rng"
   ]
  },
  {
   "cell_type": "code",
   "execution_count": 90,
   "metadata": {
    "collapsed": false
   },
   "outputs": [
    {
     "data": {
      "text/plain": [
       "2015-03-06   -1.239622\n",
       "2015-03-07   -0.459466\n",
       "2015-03-08    1.121376\n",
       "2015-03-09   -0.654083\n",
       "2015-03-10    2.969317\n",
       "Freq: D, dtype: float64"
      ]
     },
     "execution_count": 90,
     "metadata": {},
     "output_type": "execute_result"
    }
   ],
   "source": [
    "ts = pd.Series(np.random.randn(len(rng)), rng)\n",
    "ts"
   ]
  },
  {
   "cell_type": "code",
   "execution_count": 91,
   "metadata": {
    "collapsed": false
   },
   "outputs": [
    {
     "data": {
      "text/plain": [
       "2015-03-06 00:00:00+00:00   -1.239622\n",
       "2015-03-07 00:00:00+00:00   -0.459466\n",
       "2015-03-08 00:00:00+00:00    1.121376\n",
       "2015-03-09 00:00:00+00:00   -0.654083\n",
       "2015-03-10 00:00:00+00:00    2.969317\n",
       "Freq: D, dtype: float64"
      ]
     },
     "execution_count": 91,
     "metadata": {},
     "output_type": "execute_result"
    }
   ],
   "source": [
    "ts_utc = ts.tz_localize('UTC')\n",
    "ts_utc"
   ]
  },
  {
   "cell_type": "code",
   "execution_count": 92,
   "metadata": {
    "collapsed": false
   },
   "outputs": [
    {
     "data": {
      "text/plain": [
       "2015-03-05 19:00:00-05:00   -1.239622\n",
       "2015-03-06 19:00:00-05:00   -0.459466\n",
       "2015-03-07 19:00:00-05:00    1.121376\n",
       "2015-03-08 20:00:00-04:00   -0.654083\n",
       "2015-03-09 20:00:00-04:00    2.969317\n",
       "Freq: D, dtype: float64"
      ]
     },
     "execution_count": 92,
     "metadata": {},
     "output_type": "execute_result"
    }
   ],
   "source": [
    "ts_utc.tz_convert('US/Eastern')   #타임존을 ts_convert 함수를 이용하여 변경"
   ]
  },
  {
   "cell_type": "code",
   "execution_count": 93,
   "metadata": {
    "collapsed": true
   },
   "outputs": [],
   "source": [
    "rng = pd.date_range('1/1/2015', periods=5, freq='M')   #월을 주기로"
   ]
  },
  {
   "cell_type": "code",
   "execution_count": 94,
   "metadata": {
    "collapsed": false
   },
   "outputs": [
    {
     "data": {
      "text/plain": [
       "2015-01-31   -0.928368\n",
       "2015-02-28    0.836050\n",
       "2015-03-31   -1.077049\n",
       "2015-04-30   -2.622227\n",
       "2015-05-31   -1.252852\n",
       "Freq: M, dtype: float64"
      ]
     },
     "execution_count": 94,
     "metadata": {},
     "output_type": "execute_result"
    }
   ],
   "source": [
    "ts = pd.Series(np.random.randn(len(rng)), index=rng)\n",
    "ts"
   ]
  },
  {
   "cell_type": "code",
   "execution_count": 95,
   "metadata": {
    "collapsed": false
   },
   "outputs": [
    {
     "data": {
      "text/plain": [
       "2015-01   -0.928368\n",
       "2015-02    0.836050\n",
       "2015-03   -1.077049\n",
       "2015-04   -2.622227\n",
       "2015-05   -1.252852\n",
       "Freq: M, dtype: float64"
      ]
     },
     "execution_count": 95,
     "metadata": {},
     "output_type": "execute_result"
    }
   ],
   "source": [
    "ps = ts.to_period()   #일이 빠진것을 볼 수 있다.\n",
    "ps"
   ]
  },
  {
   "cell_type": "code",
   "execution_count": 96,
   "metadata": {
    "collapsed": false
   },
   "outputs": [
    {
     "data": {
      "text/plain": [
       "2015-01-01   -0.928368\n",
       "2015-02-01    0.836050\n",
       "2015-03-01   -1.077049\n",
       "2015-04-01   -2.622227\n",
       "2015-05-01   -1.252852\n",
       "Freq: MS, dtype: float64"
      ]
     },
     "execution_count": 96,
     "metadata": {},
     "output_type": "execute_result"
    }
   ],
   "source": [
    "ps.to_timestamp()"
   ]
  },
  {
   "cell_type": "code",
   "execution_count": 97,
   "metadata": {
    "collapsed": true
   },
   "outputs": [],
   "source": [
    "prng = pd.period_range('1990Q1', '2000Q4', freq='Q-NOV')   #분기별로 1, 2, 3 4를 표시"
   ]
  },
  {
   "cell_type": "code",
   "execution_count": 98,
   "metadata": {
    "collapsed": false
   },
   "outputs": [
    {
     "data": {
      "text/plain": [
       "PeriodIndex(['1990Q1', '1990Q2', '1990Q3', '1990Q4', '1991Q1', '1991Q2',\n",
       "             '1991Q3', '1991Q4', '1992Q1', '1992Q2', '1992Q3', '1992Q4',\n",
       "             '1993Q1', '1993Q2', '1993Q3', '1993Q4', '1994Q1', '1994Q2',\n",
       "             '1994Q3', '1994Q4', '1995Q1', '1995Q2', '1995Q3', '1995Q4',\n",
       "             '1996Q1', '1996Q2', '1996Q3', '1996Q4', '1997Q1', '1997Q2',\n",
       "             '1997Q3', '1997Q4', '1998Q1', '1998Q2', '1998Q3', '1998Q4',\n",
       "             '1999Q1', '1999Q2', '1999Q3', '1999Q4', '2000Q1', '2000Q2',\n",
       "             '2000Q3', '2000Q4'],\n",
       "            dtype='int64', freq='Q-NOV')"
      ]
     },
     "execution_count": 98,
     "metadata": {},
     "output_type": "execute_result"
    }
   ],
   "source": [
    "prng"
   ]
  },
  {
   "cell_type": "code",
   "execution_count": 99,
   "metadata": {
    "collapsed": true
   },
   "outputs": [],
   "source": [
    "ts = pd.Series(np.random.randn(len(prng)), prng) "
   ]
  },
  {
   "cell_type": "code",
   "execution_count": 100,
   "metadata": {
    "collapsed": false
   },
   "outputs": [
    {
     "data": {
      "text/plain": [
       "1990-03-01 09:00    0.279155\n",
       "1990-06-01 09:00   -0.536293\n",
       "1990-09-01 09:00   -1.275364\n",
       "1990-12-01 09:00   -0.436068\n",
       "1991-03-01 09:00   -0.358097\n",
       "Freq: H, dtype: float64"
      ]
     },
     "execution_count": 100,
     "metadata": {},
     "output_type": "execute_result"
    }
   ],
   "source": [
    "ts.index = (prng.asfreq('M', 'e') + 1).asfreq('H', 's') + 9\n",
    "ts.head()"
   ]
  },
  {
   "cell_type": "markdown",
   "metadata": {},
   "source": [
    "## Categoricals"
   ]
  },
  {
   "cell_type": "code",
   "execution_count": 101,
   "metadata": {
    "collapsed": true
   },
   "outputs": [],
   "source": [
    "df = pd.DataFrame({\"id\":[1,2,3,4,5,6], \"raw_grade\":['a', 'b', 'b', 'a', 'a', 'e']})"
   ]
  },
  {
   "cell_type": "code",
   "execution_count": 102,
   "metadata": {
    "collapsed": false
   },
   "outputs": [
    {
     "data": {
      "text/html": [
       "<div>\n",
       "<table border=\"1\" class=\"dataframe\">\n",
       "  <thead>\n",
       "    <tr style=\"text-align: right;\">\n",
       "      <th></th>\n",
       "      <th>id</th>\n",
       "      <th>raw_grade</th>\n",
       "    </tr>\n",
       "  </thead>\n",
       "  <tbody>\n",
       "    <tr>\n",
       "      <th>0</th>\n",
       "      <td>1</td>\n",
       "      <td>a</td>\n",
       "    </tr>\n",
       "    <tr>\n",
       "      <th>1</th>\n",
       "      <td>2</td>\n",
       "      <td>b</td>\n",
       "    </tr>\n",
       "    <tr>\n",
       "      <th>2</th>\n",
       "      <td>3</td>\n",
       "      <td>b</td>\n",
       "    </tr>\n",
       "    <tr>\n",
       "      <th>3</th>\n",
       "      <td>4</td>\n",
       "      <td>a</td>\n",
       "    </tr>\n",
       "    <tr>\n",
       "      <th>4</th>\n",
       "      <td>5</td>\n",
       "      <td>a</td>\n",
       "    </tr>\n",
       "    <tr>\n",
       "      <th>5</th>\n",
       "      <td>6</td>\n",
       "      <td>e</td>\n",
       "    </tr>\n",
       "  </tbody>\n",
       "</table>\n",
       "</div>"
      ],
      "text/plain": [
       "   id raw_grade\n",
       "0   1         a\n",
       "1   2         b\n",
       "2   3         b\n",
       "3   4         a\n",
       "4   5         a\n",
       "5   6         e"
      ]
     },
     "execution_count": 102,
     "metadata": {},
     "output_type": "execute_result"
    }
   ],
   "source": [
    "df"
   ]
  },
  {
   "cell_type": "code",
   "execution_count": 103,
   "metadata": {
    "collapsed": true
   },
   "outputs": [],
   "source": [
    "df[\"grade\"] = df[\"raw_grade\"].astype(\"category\")"
   ]
  },
  {
   "cell_type": "code",
   "execution_count": 104,
   "metadata": {
    "collapsed": false
   },
   "outputs": [
    {
     "data": {
      "text/plain": [
       "0    a\n",
       "1    b\n",
       "2    b\n",
       "3    a\n",
       "4    a\n",
       "5    e\n",
       "Name: grade, dtype: category\n",
       "Categories (3, object): [a, b, e]"
      ]
     },
     "execution_count": 104,
     "metadata": {},
     "output_type": "execute_result"
    }
   ],
   "source": [
    "df[\"grade\"]"
   ]
  },
  {
   "cell_type": "code",
   "execution_count": 105,
   "metadata": {
    "collapsed": true
   },
   "outputs": [],
   "source": [
    "df[\"grade\"].cat.categories = [\"very good\", \"good\", \"very bad\"]   #a는 very good, b good, 그외는 very bad"
   ]
  },
  {
   "cell_type": "code",
   "execution_count": 106,
   "metadata": {
    "collapsed": false
   },
   "outputs": [
    {
     "data": {
      "text/plain": [
       "0    very good\n",
       "1         good\n",
       "2         good\n",
       "3    very good\n",
       "4    very good\n",
       "5     very bad\n",
       "Name: grade, dtype: category\n",
       "Categories (3, object): [very good, good, very bad]"
      ]
     },
     "execution_count": 106,
     "metadata": {},
     "output_type": "execute_result"
    }
   ],
   "source": [
    "df[\"grade\"]"
   ]
  },
  {
   "cell_type": "code",
   "execution_count": 107,
   "metadata": {
    "collapsed": false
   },
   "outputs": [
    {
     "data": {
      "text/html": [
       "<div>\n",
       "<table border=\"1\" class=\"dataframe\">\n",
       "  <thead>\n",
       "    <tr style=\"text-align: right;\">\n",
       "      <th></th>\n",
       "      <th>id</th>\n",
       "      <th>raw_grade</th>\n",
       "      <th>grade</th>\n",
       "    </tr>\n",
       "  </thead>\n",
       "  <tbody>\n",
       "    <tr>\n",
       "      <th>0</th>\n",
       "      <td>1</td>\n",
       "      <td>a</td>\n",
       "      <td>very good</td>\n",
       "    </tr>\n",
       "    <tr>\n",
       "      <th>3</th>\n",
       "      <td>4</td>\n",
       "      <td>a</td>\n",
       "      <td>very good</td>\n",
       "    </tr>\n",
       "    <tr>\n",
       "      <th>4</th>\n",
       "      <td>5</td>\n",
       "      <td>a</td>\n",
       "      <td>very good</td>\n",
       "    </tr>\n",
       "    <tr>\n",
       "      <th>1</th>\n",
       "      <td>2</td>\n",
       "      <td>b</td>\n",
       "      <td>good</td>\n",
       "    </tr>\n",
       "    <tr>\n",
       "      <th>2</th>\n",
       "      <td>3</td>\n",
       "      <td>b</td>\n",
       "      <td>good</td>\n",
       "    </tr>\n",
       "    <tr>\n",
       "      <th>5</th>\n",
       "      <td>6</td>\n",
       "      <td>e</td>\n",
       "      <td>very bad</td>\n",
       "    </tr>\n",
       "  </tbody>\n",
       "</table>\n",
       "</div>"
      ],
      "text/plain": [
       "   id raw_grade      grade\n",
       "0   1         a  very good\n",
       "3   4         a  very good\n",
       "4   5         a  very good\n",
       "1   2         b       good\n",
       "2   3         b       good\n",
       "5   6         e   very bad"
      ]
     },
     "execution_count": 107,
     "metadata": {},
     "output_type": "execute_result"
    }
   ],
   "source": [
    "df.sort(\"grade\")   #grade를 기준으로 정렬"
   ]
  },
  {
   "cell_type": "code",
   "execution_count": 108,
   "metadata": {
    "collapsed": false
   },
   "outputs": [
    {
     "data": {
      "text/plain": [
       "grade\n",
       "very good    3\n",
       "good         2\n",
       "very bad     1\n",
       "dtype: int64"
      ]
     },
     "execution_count": 108,
     "metadata": {},
     "output_type": "execute_result"
    }
   ],
   "source": [
    "df.groupby(\"grade\").size()   #그룹화하여 몇개의 정보가 있는지 확인"
   ]
  },
  {
   "cell_type": "markdown",
   "metadata": {},
   "source": [
    "## Plotting"
   ]
  },
  {
   "cell_type": "code",
   "execution_count": 109,
   "metadata": {
    "collapsed": true
   },
   "outputs": [],
   "source": [
    "ts = pd.Series(np.random.randn(1000), index=pd.date_range('1/1/2015', periods=1000))"
   ]
  },
  {
   "cell_type": "code",
   "execution_count": 110,
   "metadata": {
    "collapsed": true
   },
   "outputs": [],
   "source": [
    "ts = ts.cumsum()"
   ]
  },
  {
   "cell_type": "code",
   "execution_count": 111,
   "metadata": {
    "collapsed": false
   },
   "outputs": [
    {
     "data": {
      "text/plain": [
       "<matplotlib.axes._subplots.AxesSubplot at 0x10e3dfdd0>"
      ]
     },
     "execution_count": 111,
     "metadata": {},
     "output_type": "execute_result"
    },
    {
     "data": {
      "image/png": "[encoded data removed]",
      "text/plain": [
       "<matplotlib.figure.Figure at 0x10e3c1850>"
      ]
     },
     "metadata": {},
     "output_type": "display_data"
    }
   ],
   "source": [
    "ts.plot()"
   ]
  },
  {
   "cell_type": "code",
   "execution_count": 112,
   "metadata": {
    "collapsed": true
   },
   "outputs": [],
   "source": [
    "df = pd.DataFrame(np.random.randn(1000, 4), index=ts.index, columns=['A', 'B', 'C', 'D'])"
   ]
  },
  {
   "cell_type": "code",
   "execution_count": 113,
   "metadata": {
    "collapsed": true
   },
   "outputs": [],
   "source": [
    "df = df.cumsum()"
   ]
  },
  {
   "cell_type": "code",
   "execution_count": 115,
   "metadata": {
    "collapsed": false
   },
   "outputs": [
    {
     "data": {
      "text/plain": [
       "<matplotlib.legend.Legend at 0x10ece6610>"
      ]
     },
     "execution_count": 115,
     "metadata": {},
     "output_type": "execute_result"
    },
    {
     "data": {
      "text/plain": [
       "<matplotlib.figure.Figure at 0x10eced050>"
      ]
     },
     "metadata": {},
     "output_type": "display_data"
    },
    {
     "data": {
      "image/png": "[encoded data removed]",
      "text/plain": [
       "<matplotlib.figure.Figure at 0x10ece64d0>"
      ]
     },
     "metadata": {},
     "output_type": "display_data"
    }
   ],
   "source": [
    "plt.figure(); df.plot(); plt.legend(loc='best')"
   ]
  },
  {
   "cell_type": "markdown",
   "metadata": {},
   "source": [
    "## Getting Data In/Out"
   ]
  },
  {
   "cell_type": "markdown",
   "metadata": {},
   "source": [
    "### CSV"
   ]
  },
  {
   "cell_type": "code",
   "execution_count": 116,
   "metadata": {
    "collapsed": true
   },
   "outputs": [],
   "source": [
    "df.to_csv('foo.csv')   #df의 내용을 csv파일로 생성"
   ]
  },
  {
   "cell_type": "code",
   "execution_count": 117,
   "metadata": {
    "collapsed": false
   },
   "outputs": [
    {
     "data": {
      "text/html": [
       "<div>\n",
       "<table border=\"1\" class=\"dataframe\">\n",
       "  <thead>\n",
       "    <tr style=\"text-align: right;\">\n",
       "      <th></th>\n",
       "      <th>Unnamed: 0</th>\n",
       "      <th>A</th>\n",
       "      <th>B</th>\n",
       "      <th>C</th>\n",
       "      <th>D</th>\n",
       "    </tr>\n",
       "  </thead>\n",
       "  <tbody>\n",
       "    <tr>\n",
       "      <th>0</th>\n",
       "      <td>2015-01-01</td>\n",
       "      <td>-0.417653</td>\n",
       "      <td>0.814706</td>\n",
       "      <td>2.124587</td>\n",
       "      <td>0.222015</td>\n",
       "    </tr>\n",
       "    <tr>\n",
       "      <th>1</th>\n",
       "      <td>2015-01-02</td>\n",
       "      <td>-0.691996</td>\n",
       "      <td>1.250333</td>\n",
       "      <td>2.644474</td>\n",
       "      <td>-0.258394</td>\n",
       "    </tr>\n",
       "    <tr>\n",
       "      <th>2</th>\n",
       "      <td>2015-01-03</td>\n",
       "      <td>-1.332306</td>\n",
       "      <td>3.204120</td>\n",
       "      <td>2.882625</td>\n",
       "      <td>-0.513656</td>\n",
       "    </tr>\n",
       "    <tr>\n",
       "      <th>3</th>\n",
       "      <td>2015-01-04</td>\n",
       "      <td>-2.956971</td>\n",
       "      <td>3.221987</td>\n",
       "      <td>3.148736</td>\n",
       "      <td>-1.499121</td>\n",
       "    </tr>\n",
       "    <tr>\n",
       "      <th>4</th>\n",
       "      <td>2015-01-05</td>\n",
       "      <td>-2.680156</td>\n",
       "      <td>2.764140</td>\n",
       "      <td>5.341289</td>\n",
       "      <td>-2.177715</td>\n",
       "    </tr>\n",
       "    <tr>\n",
       "      <th>5</th>\n",
       "      <td>2015-01-06</td>\n",
       "      <td>-4.710119</td>\n",
       "      <td>1.489376</td>\n",
       "      <td>6.419150</td>\n",
       "      <td>-2.887898</td>\n",
       "    </tr>\n",
       "    <tr>\n",
       "      <th>6</th>\n",
       "      <td>2015-01-07</td>\n",
       "      <td>-3.832853</td>\n",
       "      <td>0.720417</td>\n",
       "      <td>6.409660</td>\n",
       "      <td>-2.930515</td>\n",
       "    </tr>\n",
       "    <tr>\n",
       "      <th>7</th>\n",
       "      <td>2015-01-08</td>\n",
       "      <td>-4.872219</td>\n",
       "      <td>0.641850</td>\n",
       "      <td>7.094418</td>\n",
       "      <td>-0.478005</td>\n",
       "    </tr>\n",
       "    <tr>\n",
       "      <th>8</th>\n",
       "      <td>2015-01-09</td>\n",
       "      <td>-6.069491</td>\n",
       "      <td>0.491453</td>\n",
       "      <td>8.002828</td>\n",
       "      <td>0.317394</td>\n",
       "    </tr>\n",
       "    <tr>\n",
       "      <th>9</th>\n",
       "      <td>2015-01-10</td>\n",
       "      <td>-5.143711</td>\n",
       "      <td>0.402654</td>\n",
       "      <td>8.737582</td>\n",
       "      <td>0.386301</td>\n",
       "    </tr>\n",
       "    <tr>\n",
       "      <th>10</th>\n",
       "      <td>2015-01-11</td>\n",
       "      <td>-5.531828</td>\n",
       "      <td>0.573202</td>\n",
       "      <td>9.263866</td>\n",
       "      <td>1.379092</td>\n",
       "    </tr>\n",
       "    <tr>\n",
       "      <th>11</th>\n",
       "      <td>2015-01-12</td>\n",
       "      <td>-4.519457</td>\n",
       "      <td>0.548971</td>\n",
       "      <td>8.888393</td>\n",
       "      <td>0.139235</td>\n",
       "    </tr>\n",
       "    <tr>\n",
       "      <th>12</th>\n",
       "      <td>2015-01-13</td>\n",
       "      <td>-3.697505</td>\n",
       "      <td>0.319582</td>\n",
       "      <td>8.612967</td>\n",
       "      <td>-0.742050</td>\n",
       "    </tr>\n",
       "    <tr>\n",
       "      <th>13</th>\n",
       "      <td>2015-01-14</td>\n",
       "      <td>-3.091206</td>\n",
       "      <td>-0.519923</td>\n",
       "      <td>8.552628</td>\n",
       "      <td>-2.374323</td>\n",
       "    </tr>\n",
       "    <tr>\n",
       "      <th>14</th>\n",
       "      <td>2015-01-15</td>\n",
       "      <td>-3.679613</td>\n",
       "      <td>-1.687153</td>\n",
       "      <td>7.627419</td>\n",
       "      <td>-2.487649</td>\n",
       "    </tr>\n",
       "    <tr>\n",
       "      <th>15</th>\n",
       "      <td>2015-01-16</td>\n",
       "      <td>-2.693107</td>\n",
       "      <td>-1.733850</td>\n",
       "      <td>9.221567</td>\n",
       "      <td>-3.776698</td>\n",
       "    </tr>\n",
       "    <tr>\n",
       "      <th>16</th>\n",
       "      <td>2015-01-17</td>\n",
       "      <td>-2.126808</td>\n",
       "      <td>-2.975735</td>\n",
       "      <td>8.608212</td>\n",
       "      <td>-2.690578</td>\n",
       "    </tr>\n",
       "    <tr>\n",
       "      <th>17</th>\n",
       "      <td>2015-01-18</td>\n",
       "      <td>-2.157596</td>\n",
       "      <td>-2.504392</td>\n",
       "      <td>10.231000</td>\n",
       "      <td>-2.132927</td>\n",
       "    </tr>\n",
       "    <tr>\n",
       "      <th>18</th>\n",
       "      <td>2015-01-19</td>\n",
       "      <td>-2.206405</td>\n",
       "      <td>-2.943741</td>\n",
       "      <td>11.160803</td>\n",
       "      <td>-2.530664</td>\n",
       "    </tr>\n",
       "    <tr>\n",
       "      <th>19</th>\n",
       "      <td>2015-01-20</td>\n",
       "      <td>-3.611942</td>\n",
       "      <td>-2.143894</td>\n",
       "      <td>10.646450</td>\n",
       "      <td>-0.973240</td>\n",
       "    </tr>\n",
       "    <tr>\n",
       "      <th>20</th>\n",
       "      <td>2015-01-21</td>\n",
       "      <td>-2.464730</td>\n",
       "      <td>-1.525234</td>\n",
       "      <td>11.386608</td>\n",
       "      <td>0.701336</td>\n",
       "    </tr>\n",
       "    <tr>\n",
       "      <th>21</th>\n",
       "      <td>2015-01-22</td>\n",
       "      <td>-2.344542</td>\n",
       "      <td>-0.614826</td>\n",
       "      <td>11.042023</td>\n",
       "      <td>1.998959</td>\n",
       "    </tr>\n",
       "    <tr>\n",
       "      <th>22</th>\n",
       "      <td>2015-01-23</td>\n",
       "      <td>-3.487551</td>\n",
       "      <td>-0.525517</td>\n",
       "      <td>11.967908</td>\n",
       "      <td>0.894352</td>\n",
       "    </tr>\n",
       "    <tr>\n",
       "      <th>23</th>\n",
       "      <td>2015-01-24</td>\n",
       "      <td>-4.407251</td>\n",
       "      <td>-0.525144</td>\n",
       "      <td>11.724246</td>\n",
       "      <td>1.245002</td>\n",
       "    </tr>\n",
       "    <tr>\n",
       "      <th>24</th>\n",
       "      <td>2015-01-25</td>\n",
       "      <td>-2.386406</td>\n",
       "      <td>-1.073688</td>\n",
       "      <td>12.568677</td>\n",
       "      <td>1.510384</td>\n",
       "    </tr>\n",
       "    <tr>\n",
       "      <th>25</th>\n",
       "      <td>2015-01-26</td>\n",
       "      <td>-2.316216</td>\n",
       "      <td>-2.642317</td>\n",
       "      <td>13.925075</td>\n",
       "      <td>2.326233</td>\n",
       "    </tr>\n",
       "    <tr>\n",
       "      <th>26</th>\n",
       "      <td>2015-01-27</td>\n",
       "      <td>-1.640385</td>\n",
       "      <td>-2.679497</td>\n",
       "      <td>13.676415</td>\n",
       "      <td>1.812321</td>\n",
       "    </tr>\n",
       "    <tr>\n",
       "      <th>27</th>\n",
       "      <td>2015-01-28</td>\n",
       "      <td>-0.842598</td>\n",
       "      <td>-2.576327</td>\n",
       "      <td>14.366027</td>\n",
       "      <td>2.610081</td>\n",
       "    </tr>\n",
       "    <tr>\n",
       "      <th>28</th>\n",
       "      <td>2015-01-29</td>\n",
       "      <td>-1.322037</td>\n",
       "      <td>-2.724194</td>\n",
       "      <td>13.719253</td>\n",
       "      <td>2.025319</td>\n",
       "    </tr>\n",
       "    <tr>\n",
       "      <th>29</th>\n",
       "      <td>2015-01-30</td>\n",
       "      <td>0.829870</td>\n",
       "      <td>-2.689379</td>\n",
       "      <td>14.100505</td>\n",
       "      <td>2.953292</td>\n",
       "    </tr>\n",
       "    <tr>\n",
       "      <th>...</th>\n",
       "      <td>...</td>\n",
       "      <td>...</td>\n",
       "      <td>...</td>\n",
       "      <td>...</td>\n",
       "      <td>...</td>\n",
       "    </tr>\n",
       "    <tr>\n",
       "      <th>970</th>\n",
       "      <td>2017-08-28</td>\n",
       "      <td>-19.013044</td>\n",
       "      <td>-36.232346</td>\n",
       "      <td>-82.706323</td>\n",
       "      <td>-17.000919</td>\n",
       "    </tr>\n",
       "    <tr>\n",
       "      <th>971</th>\n",
       "      <td>2017-08-29</td>\n",
       "      <td>-19.099464</td>\n",
       "      <td>-36.928956</td>\n",
       "      <td>-82.331630</td>\n",
       "      <td>-16.554007</td>\n",
       "    </tr>\n",
       "    <tr>\n",
       "      <th>972</th>\n",
       "      <td>2017-08-30</td>\n",
       "      <td>-18.599689</td>\n",
       "      <td>-37.416120</td>\n",
       "      <td>-81.893794</td>\n",
       "      <td>-17.383420</td>\n",
       "    </tr>\n",
       "    <tr>\n",
       "      <th>973</th>\n",
       "      <td>2017-08-31</td>\n",
       "      <td>-17.934171</td>\n",
       "      <td>-36.061831</td>\n",
       "      <td>-82.171744</td>\n",
       "      <td>-16.877449</td>\n",
       "    </tr>\n",
       "    <tr>\n",
       "      <th>974</th>\n",
       "      <td>2017-09-01</td>\n",
       "      <td>-16.242892</td>\n",
       "      <td>-36.386052</td>\n",
       "      <td>-82.643525</td>\n",
       "      <td>-17.012533</td>\n",
       "    </tr>\n",
       "    <tr>\n",
       "      <th>975</th>\n",
       "      <td>2017-09-02</td>\n",
       "      <td>-17.322517</td>\n",
       "      <td>-35.840093</td>\n",
       "      <td>-82.993702</td>\n",
       "      <td>-17.006680</td>\n",
       "    </tr>\n",
       "    <tr>\n",
       "      <th>976</th>\n",
       "      <td>2017-09-03</td>\n",
       "      <td>-15.674295</td>\n",
       "      <td>-35.788299</td>\n",
       "      <td>-81.560330</td>\n",
       "      <td>-18.067852</td>\n",
       "    </tr>\n",
       "    <tr>\n",
       "      <th>977</th>\n",
       "      <td>2017-09-04</td>\n",
       "      <td>-15.197564</td>\n",
       "      <td>-33.464376</td>\n",
       "      <td>-80.197627</td>\n",
       "      <td>-18.429644</td>\n",
       "    </tr>\n",
       "    <tr>\n",
       "      <th>978</th>\n",
       "      <td>2017-09-05</td>\n",
       "      <td>-17.816274</td>\n",
       "      <td>-32.249844</td>\n",
       "      <td>-81.233822</td>\n",
       "      <td>-16.938581</td>\n",
       "    </tr>\n",
       "    <tr>\n",
       "      <th>979</th>\n",
       "      <td>2017-09-06</td>\n",
       "      <td>-18.743103</td>\n",
       "      <td>-32.430839</td>\n",
       "      <td>-79.985258</td>\n",
       "      <td>-17.097939</td>\n",
       "    </tr>\n",
       "    <tr>\n",
       "      <th>980</th>\n",
       "      <td>2017-09-07</td>\n",
       "      <td>-19.051753</td>\n",
       "      <td>-32.650914</td>\n",
       "      <td>-79.987534</td>\n",
       "      <td>-16.905104</td>\n",
       "    </tr>\n",
       "    <tr>\n",
       "      <th>981</th>\n",
       "      <td>2017-09-08</td>\n",
       "      <td>-20.914291</td>\n",
       "      <td>-30.702826</td>\n",
       "      <td>-80.237601</td>\n",
       "      <td>-15.621393</td>\n",
       "    </tr>\n",
       "    <tr>\n",
       "      <th>982</th>\n",
       "      <td>2017-09-09</td>\n",
       "      <td>-19.464019</td>\n",
       "      <td>-29.596024</td>\n",
       "      <td>-79.477133</td>\n",
       "      <td>-16.226846</td>\n",
       "    </tr>\n",
       "    <tr>\n",
       "      <th>983</th>\n",
       "      <td>2017-09-10</td>\n",
       "      <td>-19.245275</td>\n",
       "      <td>-29.397628</td>\n",
       "      <td>-81.940551</td>\n",
       "      <td>-16.104954</td>\n",
       "    </tr>\n",
       "    <tr>\n",
       "      <th>984</th>\n",
       "      <td>2017-09-11</td>\n",
       "      <td>-18.809279</td>\n",
       "      <td>-30.368437</td>\n",
       "      <td>-82.717812</td>\n",
       "      <td>-17.581149</td>\n",
       "    </tr>\n",
       "    <tr>\n",
       "      <th>985</th>\n",
       "      <td>2017-09-12</td>\n",
       "      <td>-16.632782</td>\n",
       "      <td>-32.272359</td>\n",
       "      <td>-82.744245</td>\n",
       "      <td>-16.952416</td>\n",
       "    </tr>\n",
       "    <tr>\n",
       "      <th>986</th>\n",
       "      <td>2017-09-13</td>\n",
       "      <td>-17.004291</td>\n",
       "      <td>-31.397385</td>\n",
       "      <td>-82.606234</td>\n",
       "      <td>-17.199197</td>\n",
       "    </tr>\n",
       "    <tr>\n",
       "      <th>987</th>\n",
       "      <td>2017-09-14</td>\n",
       "      <td>-16.689328</td>\n",
       "      <td>-32.190813</td>\n",
       "      <td>-81.337818</td>\n",
       "      <td>-15.810081</td>\n",
       "    </tr>\n",
       "    <tr>\n",
       "      <th>988</th>\n",
       "      <td>2017-09-15</td>\n",
       "      <td>-15.710382</td>\n",
       "      <td>-31.508365</td>\n",
       "      <td>-79.770786</td>\n",
       "      <td>-17.631093</td>\n",
       "    </tr>\n",
       "    <tr>\n",
       "      <th>989</th>\n",
       "      <td>2017-09-16</td>\n",
       "      <td>-16.002594</td>\n",
       "      <td>-33.168207</td>\n",
       "      <td>-79.108983</td>\n",
       "      <td>-16.879230</td>\n",
       "    </tr>\n",
       "    <tr>\n",
       "      <th>990</th>\n",
       "      <td>2017-09-17</td>\n",
       "      <td>-16.686099</td>\n",
       "      <td>-33.456561</td>\n",
       "      <td>-77.581999</td>\n",
       "      <td>-16.990846</td>\n",
       "    </tr>\n",
       "    <tr>\n",
       "      <th>991</th>\n",
       "      <td>2017-09-18</td>\n",
       "      <td>-17.277937</td>\n",
       "      <td>-34.913257</td>\n",
       "      <td>-77.458813</td>\n",
       "      <td>-18.073519</td>\n",
       "    </tr>\n",
       "    <tr>\n",
       "      <th>992</th>\n",
       "      <td>2017-09-19</td>\n",
       "      <td>-16.672124</td>\n",
       "      <td>-34.440051</td>\n",
       "      <td>-76.711493</td>\n",
       "      <td>-17.677589</td>\n",
       "    </tr>\n",
       "    <tr>\n",
       "      <th>993</th>\n",
       "      <td>2017-09-20</td>\n",
       "      <td>-16.710108</td>\n",
       "      <td>-34.484091</td>\n",
       "      <td>-76.755655</td>\n",
       "      <td>-17.105512</td>\n",
       "    </tr>\n",
       "    <tr>\n",
       "      <th>994</th>\n",
       "      <td>2017-09-21</td>\n",
       "      <td>-15.156123</td>\n",
       "      <td>-36.853644</td>\n",
       "      <td>-76.709468</td>\n",
       "      <td>-17.889543</td>\n",
       "    </tr>\n",
       "    <tr>\n",
       "      <th>995</th>\n",
       "      <td>2017-09-22</td>\n",
       "      <td>-14.858776</td>\n",
       "      <td>-36.816696</td>\n",
       "      <td>-78.043852</td>\n",
       "      <td>-17.956599</td>\n",
       "    </tr>\n",
       "    <tr>\n",
       "      <th>996</th>\n",
       "      <td>2017-09-23</td>\n",
       "      <td>-14.767999</td>\n",
       "      <td>-36.685553</td>\n",
       "      <td>-76.953252</td>\n",
       "      <td>-18.723465</td>\n",
       "    </tr>\n",
       "    <tr>\n",
       "      <th>997</th>\n",
       "      <td>2017-09-24</td>\n",
       "      <td>-12.902313</td>\n",
       "      <td>-36.929560</td>\n",
       "      <td>-75.365742</td>\n",
       "      <td>-18.210416</td>\n",
       "    </tr>\n",
       "    <tr>\n",
       "      <th>998</th>\n",
       "      <td>2017-09-25</td>\n",
       "      <td>-11.730139</td>\n",
       "      <td>-36.879369</td>\n",
       "      <td>-76.058803</td>\n",
       "      <td>-16.774496</td>\n",
       "    </tr>\n",
       "    <tr>\n",
       "      <th>999</th>\n",
       "      <td>2017-09-26</td>\n",
       "      <td>-11.096339</td>\n",
       "      <td>-37.098301</td>\n",
       "      <td>-75.676188</td>\n",
       "      <td>-17.184861</td>\n",
       "    </tr>\n",
       "  </tbody>\n",
       "</table>\n",
       "<p>1000 rows × 5 columns</p>\n",
       "</div>"
      ],
      "text/plain": [
       "     Unnamed: 0          A          B          C          D\n",
       "0    2015-01-01  -0.417653   0.814706   2.124587   0.222015\n",
       "1    2015-01-02  -0.691996   1.250333   2.644474  -0.258394\n",
       "2    2015-01-03  -1.332306   3.204120   2.882625  -0.513656\n",
       "3    2015-01-04  -2.956971   3.221987   3.148736  -1.499121\n",
       "4    2015-01-05  -2.680156   2.764140   5.341289  -2.177715\n",
       "5    2015-01-06  -4.710119   1.489376   6.419150  -2.887898\n",
       "6    2015-01-07  -3.832853   0.720417   6.409660  -2.930515\n",
       "7    2015-01-08  -4.872219   0.641850   7.094418  -0.478005\n",
       "8    2015-01-09  -6.069491   0.491453   8.002828   0.317394\n",
       "9    2015-01-10  -5.143711   0.402654   8.737582   0.386301\n",
       "10   2015-01-11  -5.531828   0.573202   9.263866   1.379092\n",
       "11   2015-01-12  -4.519457   0.548971   8.888393   0.139235\n",
       "12   2015-01-13  -3.697505   0.319582   8.612967  -0.742050\n",
       "13   2015-01-14  -3.091206  -0.519923   8.552628  -2.374323\n",
       "14   2015-01-15  -3.679613  -1.687153   7.627419  -2.487649\n",
       "15   2015-01-16  -2.693107  -1.733850   9.221567  -3.776698\n",
       "16   2015-01-17  -2.126808  -2.975735   8.608212  -2.690578\n",
       "17   2015-01-18  -2.157596  -2.504392  10.231000  -2.132927\n",
       "18   2015-01-19  -2.206405  -2.943741  11.160803  -2.530664\n",
       "19   2015-01-20  -3.611942  -2.143894  10.646450  -0.973240\n",
       "20   2015-01-21  -2.464730  -1.525234  11.386608   0.701336\n",
       "21   2015-01-22  -2.344542  -0.614826  11.042023   1.998959\n",
       "22   2015-01-23  -3.487551  -0.525517  11.967908   0.894352\n",
       "23   2015-01-24  -4.407251  -0.525144  11.724246   1.245002\n",
       "24   2015-01-25  -2.386406  -1.073688  12.568677   1.510384\n",
       "25   2015-01-26  -2.316216  -2.642317  13.925075   2.326233\n",
       "26   2015-01-27  -1.640385  -2.679497  13.676415   1.812321\n",
       "27   2015-01-28  -0.842598  -2.576327  14.366027   2.610081\n",
       "28   2015-01-29  -1.322037  -2.724194  13.719253   2.025319\n",
       "29   2015-01-30   0.829870  -2.689379  14.100505   2.953292\n",
       "..          ...        ...        ...        ...        ...\n",
       "970  2017-08-28 -19.013044 -36.232346 -82.706323 -17.000919\n",
       "971  2017-08-29 -19.099464 -36.928956 -82.331630 -16.554007\n",
       "972  2017-08-30 -18.599689 -37.416120 -81.893794 -17.383420\n",
       "973  2017-08-31 -17.934171 -36.061831 -82.171744 -16.877449\n",
       "974  2017-09-01 -16.242892 -36.386052 -82.643525 -17.012533\n",
       "975  2017-09-02 -17.322517 -35.840093 -82.993702 -17.006680\n",
       "976  2017-09-03 -15.674295 -35.788299 -81.560330 -18.067852\n",
       "977  2017-09-04 -15.197564 -33.464376 -80.197627 -18.429644\n",
       "978  2017-09-05 -17.816274 -32.249844 -81.233822 -16.938581\n",
       "979  2017-09-06 -18.743103 -32.430839 -79.985258 -17.097939\n",
       "980  2017-09-07 -19.051753 -32.650914 -79.987534 -16.905104\n",
       "981  2017-09-08 -20.914291 -30.702826 -80.237601 -15.621393\n",
       "982  2017-09-09 -19.464019 -29.596024 -79.477133 -16.226846\n",
       "983  2017-09-10 -19.245275 -29.397628 -81.940551 -16.104954\n",
       "984  2017-09-11 -18.809279 -30.368437 -82.717812 -17.581149\n",
       "985  2017-09-12 -16.632782 -32.272359 -82.744245 -16.952416\n",
       "986  2017-09-13 -17.004291 -31.397385 -82.606234 -17.199197\n",
       "987  2017-09-14 -16.689328 -32.190813 -81.337818 -15.810081\n",
       "988  2017-09-15 -15.710382 -31.508365 -79.770786 -17.631093\n",
       "989  2017-09-16 -16.002594 -33.168207 -79.108983 -16.879230\n",
       "990  2017-09-17 -16.686099 -33.456561 -77.581999 -16.990846\n",
       "991  2017-09-18 -17.277937 -34.913257 -77.458813 -18.073519\n",
       "992  2017-09-19 -16.672124 -34.440051 -76.711493 -17.677589\n",
       "993  2017-09-20 -16.710108 -34.484091 -76.755655 -17.105512\n",
       "994  2017-09-21 -15.156123 -36.853644 -76.709468 -17.889543\n",
       "995  2017-09-22 -14.858776 -36.816696 -78.043852 -17.956599\n",
       "996  2017-09-23 -14.767999 -36.685553 -76.953252 -18.723465\n",
       "997  2017-09-24 -12.902313 -36.929560 -75.365742 -18.210416\n",
       "998  2017-09-25 -11.730139 -36.879369 -76.058803 -16.774496\n",
       "999  2017-09-26 -11.096339 -37.098301 -75.676188 -17.184861\n",
       "\n",
       "[1000 rows x 5 columns]"
      ]
     },
     "execution_count": 117,
     "metadata": {},
     "output_type": "execute_result"
    }
   ],
   "source": [
    "pd.read_csv('foo.csv')   #csv파일 내용을 read_csv를 이용하여 DataFrame으로 읽어옴"
   ]
  },
  {
   "cell_type": "markdown",
   "metadata": {},
   "source": [
    "### HDF5"
   ]
  },
  {
   "cell_type": "code",
   "execution_count": 118,
   "metadata": {
    "collapsed": true
   },
   "outputs": [],
   "source": [
    "df.to_hdf('foo.h5', 'df')   #hdf 파일로 저장 그리고 읽어오기"
   ]
  },
  {
   "cell_type": "code",
   "execution_count": 119,
   "metadata": {
    "collapsed": false
   },
   "outputs": [
    {
     "data": {
      "text/html": [
       "<div>\n",
       "<table border=\"1\" class=\"dataframe\">\n",
       "  <thead>\n",
       "    <tr style=\"text-align: right;\">\n",
       "      <th></th>\n",
       "      <th>A</th>\n",
       "      <th>B</th>\n",
       "      <th>C</th>\n",
       "      <th>D</th>\n",
       "    </tr>\n",
       "  </thead>\n",
       "  <tbody>\n",
       "    <tr>\n",
       "      <th>2015-01-01</th>\n",
       "      <td>-0.417653</td>\n",
       "      <td>0.814706</td>\n",
       "      <td>2.124587</td>\n",
       "      <td>0.222015</td>\n",
       "    </tr>\n",
       "    <tr>\n",
       "      <th>2015-01-02</th>\n",
       "      <td>-0.691996</td>\n",
       "      <td>1.250333</td>\n",
       "      <td>2.644474</td>\n",
       "      <td>-0.258394</td>\n",
       "    </tr>\n",
       "    <tr>\n",
       "      <th>2015-01-03</th>\n",
       "      <td>-1.332306</td>\n",
       "      <td>3.204120</td>\n",
       "      <td>2.882625</td>\n",
       "      <td>-0.513656</td>\n",
       "    </tr>\n",
       "    <tr>\n",
       "      <th>2015-01-04</th>\n",
       "      <td>-2.956971</td>\n",
       "      <td>3.221987</td>\n",
       "      <td>3.148736</td>\n",
       "      <td>-1.499121</td>\n",
       "    </tr>\n",
       "    <tr>\n",
       "      <th>2015-01-05</th>\n",
       "      <td>-2.680156</td>\n",
       "      <td>2.764140</td>\n",
       "      <td>5.341289</td>\n",
       "      <td>-2.177715</td>\n",
       "    </tr>\n",
       "    <tr>\n",
       "      <th>2015-01-06</th>\n",
       "      <td>-4.710119</td>\n",
       "      <td>1.489376</td>\n",
       "      <td>6.419150</td>\n",
       "      <td>-2.887898</td>\n",
       "    </tr>\n",
       "    <tr>\n",
       "      <th>2015-01-07</th>\n",
       "      <td>-3.832853</td>\n",
       "      <td>0.720417</td>\n",
       "      <td>6.409660</td>\n",
       "      <td>-2.930515</td>\n",
       "    </tr>\n",
       "    <tr>\n",
       "      <th>2015-01-08</th>\n",
       "      <td>-4.872219</td>\n",
       "      <td>0.641850</td>\n",
       "      <td>7.094418</td>\n",
       "      <td>-0.478005</td>\n",
       "    </tr>\n",
       "    <tr>\n",
       "      <th>2015-01-09</th>\n",
       "      <td>-6.069491</td>\n",
       "      <td>0.491453</td>\n",
       "      <td>8.002828</td>\n",
       "      <td>0.317394</td>\n",
       "    </tr>\n",
       "    <tr>\n",
       "      <th>2015-01-10</th>\n",
       "      <td>-5.143711</td>\n",
       "      <td>0.402654</td>\n",
       "      <td>8.737582</td>\n",
       "      <td>0.386301</td>\n",
       "    </tr>\n",
       "    <tr>\n",
       "      <th>2015-01-11</th>\n",
       "      <td>-5.531828</td>\n",
       "      <td>0.573202</td>\n",
       "      <td>9.263866</td>\n",
       "      <td>1.379092</td>\n",
       "    </tr>\n",
       "    <tr>\n",
       "      <th>2015-01-12</th>\n",
       "      <td>-4.519457</td>\n",
       "      <td>0.548971</td>\n",
       "      <td>8.888393</td>\n",
       "      <td>0.139235</td>\n",
       "    </tr>\n",
       "    <tr>\n",
       "      <th>2015-01-13</th>\n",
       "      <td>-3.697505</td>\n",
       "      <td>0.319582</td>\n",
       "      <td>8.612967</td>\n",
       "      <td>-0.742050</td>\n",
       "    </tr>\n",
       "    <tr>\n",
       "      <th>2015-01-14</th>\n",
       "      <td>-3.091206</td>\n",
       "      <td>-0.519923</td>\n",
       "      <td>8.552628</td>\n",
       "      <td>-2.374323</td>\n",
       "    </tr>\n",
       "    <tr>\n",
       "      <th>2015-01-15</th>\n",
       "      <td>-3.679613</td>\n",
       "      <td>-1.687153</td>\n",
       "      <td>7.627419</td>\n",
       "      <td>-2.487649</td>\n",
       "    </tr>\n",
       "    <tr>\n",
       "      <th>2015-01-16</th>\n",
       "      <td>-2.693107</td>\n",
       "      <td>-1.733850</td>\n",
       "      <td>9.221567</td>\n",
       "      <td>-3.776698</td>\n",
       "    </tr>\n",
       "    <tr>\n",
       "      <th>2015-01-17</th>\n",
       "      <td>-2.126808</td>\n",
       "      <td>-2.975735</td>\n",
       "      <td>8.608212</td>\n",
       "      <td>-2.690578</td>\n",
       "    </tr>\n",
       "    <tr>\n",
       "      <th>2015-01-18</th>\n",
       "      <td>-2.157596</td>\n",
       "      <td>-2.504392</td>\n",
       "      <td>10.231000</td>\n",
       "      <td>-2.132927</td>\n",
       "    </tr>\n",
       "    <tr>\n",
       "      <th>2015-01-19</th>\n",
       "      <td>-2.206405</td>\n",
       "      <td>-2.943741</td>\n",
       "      <td>11.160803</td>\n",
       "      <td>-2.530664</td>\n",
       "    </tr>\n",
       "    <tr>\n",
       "      <th>2015-01-20</th>\n",
       "      <td>-3.611942</td>\n",
       "      <td>-2.143894</td>\n",
       "      <td>10.646450</td>\n",
       "      <td>-0.973240</td>\n",
       "    </tr>\n",
       "    <tr>\n",
       "      <th>2015-01-21</th>\n",
       "      <td>-2.464730</td>\n",
       "      <td>-1.525234</td>\n",
       "      <td>11.386608</td>\n",
       "      <td>0.701336</td>\n",
       "    </tr>\n",
       "    <tr>\n",
       "      <th>2015-01-22</th>\n",
       "      <td>-2.344542</td>\n",
       "      <td>-0.614826</td>\n",
       "      <td>11.042023</td>\n",
       "      <td>1.998959</td>\n",
       "    </tr>\n",
       "    <tr>\n",
       "      <th>2015-01-23</th>\n",
       "      <td>-3.487551</td>\n",
       "      <td>-0.525517</td>\n",
       "      <td>11.967908</td>\n",
       "      <td>0.894352</td>\n",
       "    </tr>\n",
       "    <tr>\n",
       "      <th>2015-01-24</th>\n",
       "      <td>-4.407251</td>\n",
       "      <td>-0.525144</td>\n",
       "      <td>11.724246</td>\n",
       "      <td>1.245002</td>\n",
       "    </tr>\n",
       "    <tr>\n",
       "      <th>2015-01-25</th>\n",
       "      <td>-2.386406</td>\n",
       "      <td>-1.073688</td>\n",
       "      <td>12.568677</td>\n",
       "      <td>1.510384</td>\n",
       "    </tr>\n",
       "    <tr>\n",
       "      <th>2015-01-26</th>\n",
       "      <td>-2.316216</td>\n",
       "      <td>-2.642317</td>\n",
       "      <td>13.925075</td>\n",
       "      <td>2.326233</td>\n",
       "    </tr>\n",
       "    <tr>\n",
       "      <th>2015-01-27</th>\n",
       "      <td>-1.640385</td>\n",
       "      <td>-2.679497</td>\n",
       "      <td>13.676415</td>\n",
       "      <td>1.812321</td>\n",
       "    </tr>\n",
       "    <tr>\n",
       "      <th>2015-01-28</th>\n",
       "      <td>-0.842598</td>\n",
       "      <td>-2.576327</td>\n",
       "      <td>14.366027</td>\n",
       "      <td>2.610081</td>\n",
       "    </tr>\n",
       "    <tr>\n",
       "      <th>2015-01-29</th>\n",
       "      <td>-1.322037</td>\n",
       "      <td>-2.724194</td>\n",
       "      <td>13.719253</td>\n",
       "      <td>2.025319</td>\n",
       "    </tr>\n",
       "    <tr>\n",
       "      <th>2015-01-30</th>\n",
       "      <td>0.829870</td>\n",
       "      <td>-2.689379</td>\n",
       "      <td>14.100505</td>\n",
       "      <td>2.953292</td>\n",
       "    </tr>\n",
       "    <tr>\n",
       "      <th>...</th>\n",
       "      <td>...</td>\n",
       "      <td>...</td>\n",
       "      <td>...</td>\n",
       "      <td>...</td>\n",
       "    </tr>\n",
       "    <tr>\n",
       "      <th>2017-08-28</th>\n",
       "      <td>-19.013044</td>\n",
       "      <td>-36.232346</td>\n",
       "      <td>-82.706323</td>\n",
       "      <td>-17.000919</td>\n",
       "    </tr>\n",
       "    <tr>\n",
       "      <th>2017-08-29</th>\n",
       "      <td>-19.099464</td>\n",
       "      <td>-36.928956</td>\n",
       "      <td>-82.331630</td>\n",
       "      <td>-16.554007</td>\n",
       "    </tr>\n",
       "    <tr>\n",
       "      <th>2017-08-30</th>\n",
       "      <td>-18.599689</td>\n",
       "      <td>-37.416120</td>\n",
       "      <td>-81.893794</td>\n",
       "      <td>-17.383420</td>\n",
       "    </tr>\n",
       "    <tr>\n",
       "      <th>2017-08-31</th>\n",
       "      <td>-17.934171</td>\n",
       "      <td>-36.061831</td>\n",
       "      <td>-82.171744</td>\n",
       "      <td>-16.877449</td>\n",
       "    </tr>\n",
       "    <tr>\n",
       "      <th>2017-09-01</th>\n",
       "      <td>-16.242892</td>\n",
       "      <td>-36.386052</td>\n",
       "      <td>-82.643525</td>\n",
       "      <td>-17.012533</td>\n",
       "    </tr>\n",
       "    <tr>\n",
       "      <th>2017-09-02</th>\n",
       "      <td>-17.322517</td>\n",
       "      <td>-35.840093</td>\n",
       "      <td>-82.993702</td>\n",
       "      <td>-17.006680</td>\n",
       "    </tr>\n",
       "    <tr>\n",
       "      <th>2017-09-03</th>\n",
       "      <td>-15.674295</td>\n",
       "      <td>-35.788299</td>\n",
       "      <td>-81.560330</td>\n",
       "      <td>-18.067852</td>\n",
       "    </tr>\n",
       "    <tr>\n",
       "      <th>2017-09-04</th>\n",
       "      <td>-15.197564</td>\n",
       "      <td>-33.464376</td>\n",
       "      <td>-80.197627</td>\n",
       "      <td>-18.429644</td>\n",
       "    </tr>\n",
       "    <tr>\n",
       "      <th>2017-09-05</th>\n",
       "      <td>-17.816274</td>\n",
       "      <td>-32.249844</td>\n",
       "      <td>-81.233822</td>\n",
       "      <td>-16.938581</td>\n",
       "    </tr>\n",
       "    <tr>\n",
       "      <th>2017-09-06</th>\n",
       "      <td>-18.743103</td>\n",
       "      <td>-32.430839</td>\n",
       "      <td>-79.985258</td>\n",
       "      <td>-17.097939</td>\n",
       "    </tr>\n",
       "    <tr>\n",
       "      <th>2017-09-07</th>\n",
       "      <td>-19.051753</td>\n",
       "      <td>-32.650914</td>\n",
       "      <td>-79.987534</td>\n",
       "      <td>-16.905104</td>\n",
       "    </tr>\n",
       "    <tr>\n",
       "      <th>2017-09-08</th>\n",
       "      <td>-20.914291</td>\n",
       "      <td>-30.702826</td>\n",
       "      <td>-80.237601</td>\n",
       "      <td>-15.621393</td>\n",
       "    </tr>\n",
       "    <tr>\n",
       "      <th>2017-09-09</th>\n",
       "      <td>-19.464019</td>\n",
       "      <td>-29.596024</td>\n",
       "      <td>-79.477133</td>\n",
       "      <td>-16.226846</td>\n",
       "    </tr>\n",
       "    <tr>\n",
       "      <th>2017-09-10</th>\n",
       "      <td>-19.245275</td>\n",
       "      <td>-29.397628</td>\n",
       "      <td>-81.940551</td>\n",
       "      <td>-16.104954</td>\n",
       "    </tr>\n",
       "    <tr>\n",
       "      <th>2017-09-11</th>\n",
       "      <td>-18.809279</td>\n",
       "      <td>-30.368437</td>\n",
       "      <td>-82.717812</td>\n",
       "      <td>-17.581149</td>\n",
       "    </tr>\n",
       "    <tr>\n",
       "      <th>2017-09-12</th>\n",
       "      <td>-16.632782</td>\n",
       "      <td>-32.272359</td>\n",
       "      <td>-82.744245</td>\n",
       "      <td>-16.952416</td>\n",
       "    </tr>\n",
       "    <tr>\n",
       "      <th>2017-09-13</th>\n",
       "      <td>-17.004291</td>\n",
       "      <td>-31.397385</td>\n",
       "      <td>-82.606234</td>\n",
       "      <td>-17.199197</td>\n",
       "    </tr>\n",
       "    <tr>\n",
       "      <th>2017-09-14</th>\n",
       "      <td>-16.689328</td>\n",
       "      <td>-32.190813</td>\n",
       "      <td>-81.337818</td>\n",
       "      <td>-15.810081</td>\n",
       "    </tr>\n",
       "    <tr>\n",
       "      <th>2017-09-15</th>\n",
       "      <td>-15.710382</td>\n",
       "      <td>-31.508365</td>\n",
       "      <td>-79.770786</td>\n",
       "      <td>-17.631093</td>\n",
       "    </tr>\n",
       "    <tr>\n",
       "      <th>2017-09-16</th>\n",
       "      <td>-16.002594</td>\n",
       "      <td>-33.168207</td>\n",
       "      <td>-79.108983</td>\n",
       "      <td>-16.879230</td>\n",
       "    </tr>\n",
       "    <tr>\n",
       "      <th>2017-09-17</th>\n",
       "      <td>-16.686099</td>\n",
       "      <td>-33.456561</td>\n",
       "      <td>-77.581999</td>\n",
       "      <td>-16.990846</td>\n",
       "    </tr>\n",
       "    <tr>\n",
       "      <th>2017-09-18</th>\n",
       "      <td>-17.277937</td>\n",
       "      <td>-34.913257</td>\n",
       "      <td>-77.458813</td>\n",
       "      <td>-18.073519</td>\n",
       "    </tr>\n",
       "    <tr>\n",
       "      <th>2017-09-19</th>\n",
       "      <td>-16.672124</td>\n",
       "      <td>-34.440051</td>\n",
       "      <td>-76.711493</td>\n",
       "      <td>-17.677589</td>\n",
       "    </tr>\n",
       "    <tr>\n",
       "      <th>2017-09-20</th>\n",
       "      <td>-16.710108</td>\n",
       "      <td>-34.484091</td>\n",
       "      <td>-76.755655</td>\n",
       "      <td>-17.105512</td>\n",
       "    </tr>\n",
       "    <tr>\n",
       "      <th>2017-09-21</th>\n",
       "      <td>-15.156123</td>\n",
       "      <td>-36.853644</td>\n",
       "      <td>-76.709468</td>\n",
       "      <td>-17.889543</td>\n",
       "    </tr>\n",
       "    <tr>\n",
       "      <th>2017-09-22</th>\n",
       "      <td>-14.858776</td>\n",
       "      <td>-36.816696</td>\n",
       "      <td>-78.043852</td>\n",
       "      <td>-17.956599</td>\n",
       "    </tr>\n",
       "    <tr>\n",
       "      <th>2017-09-23</th>\n",
       "      <td>-14.767999</td>\n",
       "      <td>-36.685553</td>\n",
       "      <td>-76.953252</td>\n",
       "      <td>-18.723465</td>\n",
       "    </tr>\n",
       "    <tr>\n",
       "      <th>2017-09-24</th>\n",
       "      <td>-12.902313</td>\n",
       "      <td>-36.929560</td>\n",
       "      <td>-75.365742</td>\n",
       "      <td>-18.210416</td>\n",
       "    </tr>\n",
       "    <tr>\n",
       "      <th>2017-09-25</th>\n",
       "      <td>-11.730139</td>\n",
       "      <td>-36.879369</td>\n",
       "      <td>-76.058803</td>\n",
       "      <td>-16.774496</td>\n",
       "    </tr>\n",
       "    <tr>\n",
       "      <th>2017-09-26</th>\n",
       "      <td>-11.096339</td>\n",
       "      <td>-37.098301</td>\n",
       "      <td>-75.676188</td>\n",
       "      <td>-17.184861</td>\n",
       "    </tr>\n",
       "  </tbody>\n",
       "</table>\n",
       "<p>1000 rows × 4 columns</p>\n",
       "</div>"
      ],
      "text/plain": [
       "                    A          B          C          D\n",
       "2015-01-01  -0.417653   0.814706   2.124587   0.222015\n",
       "2015-01-02  -0.691996   1.250333   2.644474  -0.258394\n",
       "2015-01-03  -1.332306   3.204120   2.882625  -0.513656\n",
       "2015-01-04  -2.956971   3.221987   3.148736  -1.499121\n",
       "2015-01-05  -2.680156   2.764140   5.341289  -2.177715\n",
       "2015-01-06  -4.710119   1.489376   6.419150  -2.887898\n",
       "2015-01-07  -3.832853   0.720417   6.409660  -2.930515\n",
       "2015-01-08  -4.872219   0.641850   7.094418  -0.478005\n",
       "2015-01-09  -6.069491   0.491453   8.002828   0.317394\n",
       "2015-01-10  -5.143711   0.402654   8.737582   0.386301\n",
       "2015-01-11  -5.531828   0.573202   9.263866   1.379092\n",
       "2015-01-12  -4.519457   0.548971   8.888393   0.139235\n",
       "2015-01-13  -3.697505   0.319582   8.612967  -0.742050\n",
       "2015-01-14  -3.091206  -0.519923   8.552628  -2.374323\n",
       "2015-01-15  -3.679613  -1.687153   7.627419  -2.487649\n",
       "2015-01-16  -2.693107  -1.733850   9.221567  -3.776698\n",
       "2015-01-17  -2.126808  -2.975735   8.608212  -2.690578\n",
       "2015-01-18  -2.157596  -2.504392  10.231000  -2.132927\n",
       "2015-01-19  -2.206405  -2.943741  11.160803  -2.530664\n",
       "2015-01-20  -3.611942  -2.143894  10.646450  -0.973240\n",
       "2015-01-21  -2.464730  -1.525234  11.386608   0.701336\n",
       "2015-01-22  -2.344542  -0.614826  11.042023   1.998959\n",
       "2015-01-23  -3.487551  -0.525517  11.967908   0.894352\n",
       "2015-01-24  -4.407251  -0.525144  11.724246   1.245002\n",
       "2015-01-25  -2.386406  -1.073688  12.568677   1.510384\n",
       "2015-01-26  -2.316216  -2.642317  13.925075   2.326233\n",
       "2015-01-27  -1.640385  -2.679497  13.676415   1.812321\n",
       "2015-01-28  -0.842598  -2.576327  14.366027   2.610081\n",
       "2015-01-29  -1.322037  -2.724194  13.719253   2.025319\n",
       "2015-01-30   0.829870  -2.689379  14.100505   2.953292\n",
       "...               ...        ...        ...        ...\n",
       "2017-08-28 -19.013044 -36.232346 -82.706323 -17.000919\n",
       "2017-08-29 -19.099464 -36.928956 -82.331630 -16.554007\n",
       "2017-08-30 -18.599689 -37.416120 -81.893794 -17.383420\n",
       "2017-08-31 -17.934171 -36.061831 -82.171744 -16.877449\n",
       "2017-09-01 -16.242892 -36.386052 -82.643525 -17.012533\n",
       "2017-09-02 -17.322517 -35.840093 -82.993702 -17.006680\n",
       "2017-09-03 -15.674295 -35.788299 -81.560330 -18.067852\n",
       "2017-09-04 -15.197564 -33.464376 -80.197627 -18.429644\n",
       "2017-09-05 -17.816274 -32.249844 -81.233822 -16.938581\n",
       "2017-09-06 -18.743103 -32.430839 -79.985258 -17.097939\n",
       "2017-09-07 -19.051753 -32.650914 -79.987534 -16.905104\n",
       "2017-09-08 -20.914291 -30.702826 -80.237601 -15.621393\n",
       "2017-09-09 -19.464019 -29.596024 -79.477133 -16.226846\n",
       "2017-09-10 -19.245275 -29.397628 -81.940551 -16.104954\n",
       "2017-09-11 -18.809279 -30.368437 -82.717812 -17.581149\n",
       "2017-09-12 -16.632782 -32.272359 -82.744245 -16.952416\n",
       "2017-09-13 -17.004291 -31.397385 -82.606234 -17.199197\n",
       "2017-09-14 -16.689328 -32.190813 -81.337818 -15.810081\n",
       "2017-09-15 -15.710382 -31.508365 -79.770786 -17.631093\n",
       "2017-09-16 -16.002594 -33.168207 -79.108983 -16.879230\n",
       "2017-09-17 -16.686099 -33.456561 -77.581999 -16.990846\n",
       "2017-09-18 -17.277937 -34.913257 -77.458813 -18.073519\n",
       "2017-09-19 -16.672124 -34.440051 -76.711493 -17.677589\n",
       "2017-09-20 -16.710108 -34.484091 -76.755655 -17.105512\n",
       "2017-09-21 -15.156123 -36.853644 -76.709468 -17.889543\n",
       "2017-09-22 -14.858776 -36.816696 -78.043852 -17.956599\n",
       "2017-09-23 -14.767999 -36.685553 -76.953252 -18.723465\n",
       "2017-09-24 -12.902313 -36.929560 -75.365742 -18.210416\n",
       "2017-09-25 -11.730139 -36.879369 -76.058803 -16.774496\n",
       "2017-09-26 -11.096339 -37.098301 -75.676188 -17.184861\n",
       "\n",
       "[1000 rows x 4 columns]"
      ]
     },
     "execution_count": 119,
     "metadata": {},
     "output_type": "execute_result"
    }
   ],
   "source": [
    "pd.read_hdf('foo.h5', 'df')"
   ]
  },
  {
   "cell_type": "markdown",
   "metadata": {},
   "source": [
    "### Excel"
   ]
  },
  {
   "cell_type": "markdown",
   "metadata": {},
   "source": [
    "- 맥 환경이라 그런가 실행되지 않음"
   ]
  },
  {
   "cell_type": "code",
   "execution_count": null,
   "metadata": {
    "collapsed": true
   },
   "outputs": [],
   "source": [
    "df.to_excel('foo.xlsx', sheet_name='Sheet1')"
   ]
  },
  {
   "cell_type": "code",
   "execution_count": null,
   "metadata": {
    "collapsed": true
   },
   "outputs": [],
   "source": [
    "pd.read_excel('foo.xlsx', 'Sheet1', index_col=None, na_values=['NA'])"
   ]
  },
  {
   "cell_type": "markdown",
   "metadata": {},
   "source": [
    "## Gotchas"
   ]
  },
  {
   "cell_type": "code",
   "execution_count": 120,
   "metadata": {
    "collapsed": false
   },
   "outputs": [
    {
     "ename": "ValueError",
     "evalue": "The truth value of a Series is ambiguous. Use a.empty, a.bool(), a.item(), a.any() or a.all().",
     "output_type": "error",
     "traceback": [
      "\u001b[0;31m---------------------------------------------------------------------------\u001b[0m",
      "\u001b[0;31mValueError\u001b[0m                                Traceback (most recent call last)",
      "\u001b[0;32m<ipython-input-120-9cae3ab0f79f>\u001b[0m in \u001b[0;36m<module>\u001b[0;34m()\u001b[0m\n\u001b[0;32m----> 1\u001b[0;31m \u001b[0;32mif\u001b[0m \u001b[0mpd\u001b[0m\u001b[0;34m.\u001b[0m\u001b[0mSeries\u001b[0m\u001b[0;34m(\u001b[0m\u001b[0;34m[\u001b[0m\u001b[0mFalse\u001b[0m\u001b[0;34m,\u001b[0m \u001b[0mTrue\u001b[0m\u001b[0;34m,\u001b[0m \u001b[0mFalse\u001b[0m\u001b[0;34m]\u001b[0m\u001b[0;34m)\u001b[0m\u001b[0;34m:\u001b[0m\u001b[0;34m\u001b[0m\u001b[0m\n\u001b[0m\u001b[1;32m      2\u001b[0m     \u001b[0;32mprint\u001b[0m\u001b[0;34m(\u001b[0m\u001b[0;34m\"I was true\"\u001b[0m\u001b[0;34m)\u001b[0m\u001b[0;34m\u001b[0m\u001b[0m\n",
      "\u001b[0;32m/Users/hyunkyo/Library/Enthought/Canopy_64bit/User/lib/python2.7/site-packages/pandas/core/generic.pyc\u001b[0m in \u001b[0;36m__nonzero__\u001b[0;34m(self)\u001b[0m\n\u001b[1;32m    712\u001b[0m         raise ValueError(\"The truth value of a {0} is ambiguous. \"\n\u001b[1;32m    713\u001b[0m                          \u001b[0;34m\"Use a.empty, a.bool(), a.item(), a.any() or a.all().\"\u001b[0m\u001b[0;34m\u001b[0m\u001b[0m\n\u001b[0;32m--> 714\u001b[0;31m                          .format(self.__class__.__name__))\n\u001b[0m\u001b[1;32m    715\u001b[0m \u001b[0;34m\u001b[0m\u001b[0m\n\u001b[1;32m    716\u001b[0m     \u001b[0m__bool__\u001b[0m \u001b[0;34m=\u001b[0m \u001b[0m__nonzero__\u001b[0m\u001b[0;34m\u001b[0m\u001b[0m\n",
      "\u001b[0;31mValueError\u001b[0m: The truth value of a Series is ambiguous. Use a.empty, a.bool(), a.item(), a.any() or a.all()."
     ]
    }
   ],
   "source": [
    "if pd.Series([False, True, False]):\n",
    "    print(\"I was true\")"
   ]
  },
  {
   "cell_type": "code",
   "execution_count": null,
   "metadata": {
    "collapsed": true
   },
   "outputs": [],
   "source": []
  }
 ],
 "metadata": {
  "kernelspec": {
   "display_name": "Python 2",
   "language": "python",
   "name": "python2"
  },
  "language_info": {
   "codemirror_mode": {
    "name": "ipython",
    "version": 2
   },
   "file_extension": ".py",
   "mimetype": "text/x-python",
   "name": "python",
   "nbconvert_exporter": "python",
   "pygments_lexer": "ipython2",
   "version": "2.7.9"
  }
 },
 "nbformat": 4,
 "nbformat_minor": 0
}
